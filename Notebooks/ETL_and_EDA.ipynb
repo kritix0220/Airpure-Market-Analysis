{
 "cells": [
  {
   "cell_type": "code",
   "execution_count": 1,
   "id": "9955f378",
   "metadata": {
    "ExecuteTime": {
     "end_time": "2025-08-02T09:10:43.686480Z",
     "start_time": "2025-08-02T09:10:43.683268Z"
    }
   },
   "outputs": [],
   "source": [
    "import numpy as np\n",
    "import pandas as pd\n",
    "import seaborn as sns\n",
    "import matplotlib.pyplot as plt"
   ]
  },
  {
   "cell_type": "code",
   "execution_count": 2,
   "id": "5789e429",
   "metadata": {
    "ExecuteTime": {
     "end_time": "2025-08-02T09:10:43.989167Z",
     "start_time": "2025-08-02T09:10:43.702587Z"
    }
   },
   "outputs": [],
   "source": [
    "df_aqi = pd.read_csv(\"aqi.csv\")"
   ]
  },
  {
   "cell_type": "code",
   "execution_count": 3,
   "id": "b93cd17a",
   "metadata": {
    "ExecuteTime": {
     "end_time": "2025-08-02T09:10:44.012647Z",
     "start_time": "2025-08-02T09:10:44.001578Z"
    }
   },
   "outputs": [
    {
     "data": {
      "application/vnd.microsoft.datawrangler.viewer.v0+json": {
       "columns": [
        {
         "name": "index",
         "rawType": "int64",
         "type": "integer"
        },
        {
         "name": "date",
         "rawType": "object",
         "type": "string"
        },
        {
         "name": "state",
         "rawType": "object",
         "type": "string"
        },
        {
         "name": "area",
         "rawType": "object",
         "type": "string"
        },
        {
         "name": "number_of_monitoring_stations",
         "rawType": "int64",
         "type": "integer"
        },
        {
         "name": "prominent_pollutants",
         "rawType": "object",
         "type": "string"
        },
        {
         "name": "aqi_value",
         "rawType": "int64",
         "type": "integer"
        },
        {
         "name": "air_quality_status",
         "rawType": "object",
         "type": "string"
        },
        {
         "name": "unit",
         "rawType": "object",
         "type": "string"
        },
        {
         "name": "note",
         "rawType": "float64",
         "type": "float"
        }
       ],
       "ref": "45d0d4ba-034c-4756-b01c-622034d49283",
       "rows": [
        [
         "0",
         "30-04-2025",
         "Maharashtra",
         "Amravati",
         "2",
         "PM10",
         "78",
         "Satisfactory",
         "number_of_monitoring_stations in Absolute Number, aqi_value in Indices",
         null
        ],
        [
         "1",
         "30-04-2025",
         "Bihar",
         "Purnia",
         "1",
         "CO",
         "56",
         "Satisfactory",
         "number_of_monitoring_stations in Absolute Number, aqi_value in Indices",
         null
        ],
        [
         "2",
         "30-04-2025",
         "Madhya Pradesh",
         "Katni",
         "1",
         "O3",
         "98",
         "Satisfactory",
         "number_of_monitoring_stations in Absolute Number, aqi_value in Indices",
         null
        ],
        [
         "3",
         "30-04-2025",
         "Chhattisgarh",
         "Tumidih",
         "1",
         "PM10",
         "103",
         "Moderate",
         "number_of_monitoring_stations in Absolute Number, aqi_value in Indices",
         null
        ],
        [
         "4",
         "30-04-2025",
         "Assam",
         "Byrnihat",
         "1",
         "PM2.5",
         "61",
         "Satisfactory",
         "number_of_monitoring_stations in Absolute Number, aqi_value in Indices",
         null
        ],
        [
         "5",
         "30-04-2025",
         "Manipur",
         "Imphal",
         "1",
         "SO2",
         "106",
         "Moderate",
         "number_of_monitoring_stations in Absolute Number, aqi_value in Indices",
         null
        ],
        [
         "6",
         "30-04-2025",
         "Kerala",
         "Kollam",
         "1",
         "PM10",
         "73",
         "Satisfactory",
         "number_of_monitoring_stations in Absolute Number, aqi_value in Indices",
         null
        ],
        [
         "7",
         "30-04-2025",
         "West Bengal",
         "Barrackpore",
         "1",
         "PM10",
         "68",
         "Satisfactory",
         "number_of_monitoring_stations in Absolute Number, aqi_value in Indices",
         null
        ],
        [
         "8",
         "30-04-2025",
         "Odisha",
         "Nayagarh",
         "1",
         "PM10",
         "58",
         "Satisfactory",
         "number_of_monitoring_stations in Absolute Number, aqi_value in Indices",
         null
        ],
        [
         "9",
         "30-04-2025",
         "Assam",
         "Nalbari",
         "1",
         "PM10",
         "39",
         "Good",
         "number_of_monitoring_stations in Absolute Number, aqi_value in Indices",
         null
        ],
        [
         "10",
         "30-04-2025",
         "Karnataka",
         "Hubballi",
         "1",
         "PM10",
         "46",
         "Good",
         "number_of_monitoring_stations in Absolute Number, aqi_value in Indices",
         null
        ],
        [
         "11",
         "30-04-2025",
         "Gujarat",
         "Ahmedabad",
         "8",
         "PM2.5,PM10",
         "110",
         "Moderate",
         "number_of_monitoring_stations in Absolute Number, aqi_value in Indices",
         null
        ],
        [
         "12",
         "30-04-2025",
         "Uttarakhand",
         "Dehradun",
         "1",
         "PM10",
         "114",
         "Moderate",
         "number_of_monitoring_stations in Absolute Number, aqi_value in Indices",
         null
        ],
        [
         "13",
         "30-04-2025",
         "Tamil Nadu",
         "Vellore",
         "1",
         "PM10",
         "51",
         "Satisfactory",
         "number_of_monitoring_stations in Absolute Number, aqi_value in Indices",
         null
        ],
        [
         "14",
         "30-04-2025",
         "Maharashtra",
         "Ulhasnagar",
         "1",
         "PM10",
         "84",
         "Satisfactory",
         "number_of_monitoring_stations in Absolute Number, aqi_value in Indices",
         null
        ],
        [
         "15",
         "30-04-2025",
         "Tamil Nadu",
         "Chengalpattu",
         "1",
         "PM10",
         "66",
         "Satisfactory",
         "number_of_monitoring_stations in Absolute Number, aqi_value in Indices",
         null
        ],
        [
         "16",
         "30-04-2025",
         "Andhra Pradesh",
         "Tirupati",
         "1",
         "PM2.5",
         "47",
         "Good",
         "number_of_monitoring_stations in Absolute Number, aqi_value in Indices",
         null
        ],
        [
         "17",
         "30-04-2025",
         "Tamil Nadu",
         "Dindigul",
         "1",
         "PM10",
         "99",
         "Satisfactory",
         "number_of_monitoring_stations in Absolute Number, aqi_value in Indices",
         null
        ],
        [
         "18",
         "30-04-2025",
         "Andhra Pradesh",
         "Kadapa",
         "1",
         "O3",
         "67",
         "Satisfactory",
         "number_of_monitoring_stations in Absolute Number, aqi_value in Indices",
         null
        ],
        [
         "19",
         "30-04-2025",
         "Maharashtra",
         "Thane",
         "2",
         "PM10",
         "58",
         "Satisfactory",
         "number_of_monitoring_stations in Absolute Number, aqi_value in Indices",
         null
        ],
        [
         "20",
         "30-04-2025",
         "Uttarakhand",
         "Rishikesh",
         "1",
         "PM2.5",
         "98",
         "Satisfactory",
         "number_of_monitoring_stations in Absolute Number, aqi_value in Indices",
         null
        ],
        [
         "21",
         "30-04-2025",
         "Chhattisgarh",
         "Raipur",
         "3",
         "PM10,NO2",
         "42",
         "Good",
         "number_of_monitoring_stations in Absolute Number, aqi_value in Indices",
         null
        ],
        [
         "22",
         "30-04-2025",
         "Tamil Nadu",
         "Ranipet",
         "1",
         "PM10",
         "39",
         "Good",
         "number_of_monitoring_stations in Absolute Number, aqi_value in Indices",
         null
        ],
        [
         "23",
         "30-04-2025",
         "Bihar",
         "Samastipur",
         "1",
         "PM10",
         "37",
         "Good",
         "number_of_monitoring_stations in Absolute Number, aqi_value in Indices",
         null
        ],
        [
         "24",
         "30-04-2025",
         "Madhya Pradesh",
         "Jabalpur",
         "3",
         "PM10,O3",
         "75",
         "Satisfactory",
         "number_of_monitoring_stations in Absolute Number, aqi_value in Indices",
         null
        ],
        [
         "25",
         "30-04-2025",
         "Bihar",
         "Kishanganj",
         "1",
         "PM10",
         "35",
         "Good",
         "number_of_monitoring_stations in Absolute Number, aqi_value in Indices",
         null
        ],
        [
         "26",
         "30-04-2025",
         "Bihar",
         "Saharsa",
         "1",
         "CO",
         "41",
         "Good",
         "number_of_monitoring_stations in Absolute Number, aqi_value in Indices",
         null
        ],
        [
         "27",
         "30-04-2025",
         "Karnataka",
         "Yadgir",
         "1",
         "PM2.5",
         "107",
         "Moderate",
         "number_of_monitoring_stations in Absolute Number, aqi_value in Indices",
         null
        ],
        [
         "28",
         "30-04-2025",
         "Rajasthan",
         "Dungarpur",
         "1",
         "PM10",
         "111",
         "Moderate",
         "number_of_monitoring_stations in Absolute Number, aqi_value in Indices",
         null
        ],
        [
         "29",
         "30-04-2025",
         "Uttar Pradesh",
         "Meerut",
         "2",
         "PM10,O3",
         "156",
         "Moderate",
         "number_of_monitoring_stations in Absolute Number, aqi_value in Indices",
         null
        ],
        [
         "30",
         "30-04-2025",
         "Rajasthan",
         "Sawai Madhopur",
         "1",
         "O3",
         "243",
         "Poor",
         "number_of_monitoring_stations in Absolute Number, aqi_value in Indices",
         null
        ],
        [
         "31",
         "30-04-2025",
         "Uttar Pradesh",
         "Ghaziabad",
         "4",
         "O3,PM2.5,PM10",
         "146",
         "Moderate",
         "number_of_monitoring_stations in Absolute Number, aqi_value in Indices",
         null
        ],
        [
         "32",
         "30-04-2025",
         "Madhya Pradesh",
         "Pithampur",
         "1",
         "PM10",
         "166",
         "Moderate",
         "number_of_monitoring_stations in Absolute Number, aqi_value in Indices",
         null
        ],
        [
         "33",
         "30-04-2025",
         "Uttar Pradesh",
         "Kanpur",
         "3",
         "PM2.5,PM10",
         "89",
         "Satisfactory",
         "number_of_monitoring_stations in Absolute Number, aqi_value in Indices",
         null
        ],
        [
         "34",
         "30-04-2025",
         "Tamil Nadu",
         "Chennai",
         "7",
         "PM10,O3,CO",
         "46",
         "Good",
         "number_of_monitoring_stations in Absolute Number, aqi_value in Indices",
         null
        ],
        [
         "35",
         "30-04-2025",
         "Rajasthan",
         "Nagaur",
         "1",
         "PM10",
         "210",
         "Poor",
         "number_of_monitoring_stations in Absolute Number, aqi_value in Indices",
         null
        ],
        [
         "36",
         "30-04-2025",
         "Andhra Pradesh",
         "Chittoor",
         "1",
         "PM2.5",
         "68",
         "Satisfactory",
         "number_of_monitoring_stations in Absolute Number, aqi_value in Indices",
         null
        ],
        [
         "37",
         "30-04-2025",
         "Maharashtra",
         "Kalyan",
         "2",
         "PM10",
         "74",
         "Satisfactory",
         "number_of_monitoring_stations in Absolute Number, aqi_value in Indices",
         null
        ],
        [
         "38",
         "30-04-2025",
         "Maharashtra",
         "Mira Bhayandar",
         "1",
         "PM10",
         "40",
         "Good",
         "number_of_monitoring_stations in Absolute Number, aqi_value in Indices",
         null
        ],
        [
         "39",
         "30-04-2025",
         "Odisha",
         "Bhubaneswar",
         "2",
         "CO",
         "94",
         "Satisfactory",
         "number_of_monitoring_stations in Absolute Number, aqi_value in Indices",
         null
        ],
        [
         "40",
         "30-04-2025",
         "Rajasthan",
         "Churu",
         "1",
         "O3",
         "196",
         "Moderate",
         "number_of_monitoring_stations in Absolute Number, aqi_value in Indices",
         null
        ],
        [
         "41",
         "30-04-2025",
         "Rajasthan",
         "Jodhpur",
         "5",
         "PM10",
         "124",
         "Moderate",
         "number_of_monitoring_stations in Absolute Number, aqi_value in Indices",
         null
        ],
        [
         "42",
         "30-04-2025",
         "Bihar",
         "Katihar",
         "1",
         "CO",
         "33",
         "Good",
         "number_of_monitoring_stations in Absolute Number, aqi_value in Indices",
         null
        ],
        [
         "43",
         "30-04-2025",
         "Rajasthan",
         "Pali",
         "1",
         "PM10",
         "205",
         "Poor",
         "number_of_monitoring_stations in Absolute Number, aqi_value in Indices",
         null
        ],
        [
         "44",
         "30-04-2025",
         "Odisha",
         "Balasore",
         "1",
         "O3",
         "87",
         "Satisfactory",
         "number_of_monitoring_stations in Absolute Number, aqi_value in Indices",
         null
        ],
        [
         "45",
         "30-04-2025",
         "Rajasthan",
         "Sikar",
         "1",
         "PM10",
         "144",
         "Moderate",
         "number_of_monitoring_stations in Absolute Number, aqi_value in Indices",
         null
        ],
        [
         "46",
         "30-04-2025",
         "Punjab",
         "Jalandhar",
         "1",
         "PM2.5",
         "138",
         "Moderate",
         "number_of_monitoring_stations in Absolute Number, aqi_value in Indices",
         null
        ],
        [
         "47",
         "30-04-2025",
         "Andhra Pradesh",
         "Tirumala",
         "1",
         "PM10",
         "47",
         "Good",
         "number_of_monitoring_stations in Absolute Number, aqi_value in Indices",
         null
        ],
        [
         "48",
         "30-04-2025",
         "Odisha",
         "Angul",
         "1",
         "O3",
         "156",
         "Moderate",
         "number_of_monitoring_stations in Absolute Number, aqi_value in Indices",
         null
        ],
        [
         "49",
         "30-04-2025",
         "Punjab",
         "Patiala",
         "1",
         "PM10",
         "118",
         "Moderate",
         "number_of_monitoring_stations in Absolute Number, aqi_value in Indices",
         null
        ]
       ],
       "shape": {
        "columns": 9,
        "rows": 235785
       }
      },
      "text/html": [
       "<div>\n",
       "<style scoped>\n",
       "    .dataframe tbody tr th:only-of-type {\n",
       "        vertical-align: middle;\n",
       "    }\n",
       "\n",
       "    .dataframe tbody tr th {\n",
       "        vertical-align: top;\n",
       "    }\n",
       "\n",
       "    .dataframe thead th {\n",
       "        text-align: right;\n",
       "    }\n",
       "</style>\n",
       "<table border=\"1\" class=\"dataframe\">\n",
       "  <thead>\n",
       "    <tr style=\"text-align: right;\">\n",
       "      <th></th>\n",
       "      <th>date</th>\n",
       "      <th>state</th>\n",
       "      <th>area</th>\n",
       "      <th>number_of_monitoring_stations</th>\n",
       "      <th>prominent_pollutants</th>\n",
       "      <th>aqi_value</th>\n",
       "      <th>air_quality_status</th>\n",
       "      <th>unit</th>\n",
       "      <th>note</th>\n",
       "    </tr>\n",
       "  </thead>\n",
       "  <tbody>\n",
       "    <tr>\n",
       "      <th>0</th>\n",
       "      <td>30-04-2025</td>\n",
       "      <td>Maharashtra</td>\n",
       "      <td>Amravati</td>\n",
       "      <td>2</td>\n",
       "      <td>PM10</td>\n",
       "      <td>78</td>\n",
       "      <td>Satisfactory</td>\n",
       "      <td>number_of_monitoring_stations in Absolute Numb...</td>\n",
       "      <td>NaN</td>\n",
       "    </tr>\n",
       "    <tr>\n",
       "      <th>1</th>\n",
       "      <td>30-04-2025</td>\n",
       "      <td>Bihar</td>\n",
       "      <td>Purnia</td>\n",
       "      <td>1</td>\n",
       "      <td>CO</td>\n",
       "      <td>56</td>\n",
       "      <td>Satisfactory</td>\n",
       "      <td>number_of_monitoring_stations in Absolute Numb...</td>\n",
       "      <td>NaN</td>\n",
       "    </tr>\n",
       "    <tr>\n",
       "      <th>2</th>\n",
       "      <td>30-04-2025</td>\n",
       "      <td>Madhya Pradesh</td>\n",
       "      <td>Katni</td>\n",
       "      <td>1</td>\n",
       "      <td>O3</td>\n",
       "      <td>98</td>\n",
       "      <td>Satisfactory</td>\n",
       "      <td>number_of_monitoring_stations in Absolute Numb...</td>\n",
       "      <td>NaN</td>\n",
       "    </tr>\n",
       "    <tr>\n",
       "      <th>3</th>\n",
       "      <td>30-04-2025</td>\n",
       "      <td>Chhattisgarh</td>\n",
       "      <td>Tumidih</td>\n",
       "      <td>1</td>\n",
       "      <td>PM10</td>\n",
       "      <td>103</td>\n",
       "      <td>Moderate</td>\n",
       "      <td>number_of_monitoring_stations in Absolute Numb...</td>\n",
       "      <td>NaN</td>\n",
       "    </tr>\n",
       "    <tr>\n",
       "      <th>4</th>\n",
       "      <td>30-04-2025</td>\n",
       "      <td>Assam</td>\n",
       "      <td>Byrnihat</td>\n",
       "      <td>1</td>\n",
       "      <td>PM2.5</td>\n",
       "      <td>61</td>\n",
       "      <td>Satisfactory</td>\n",
       "      <td>number_of_monitoring_stations in Absolute Numb...</td>\n",
       "      <td>NaN</td>\n",
       "    </tr>\n",
       "    <tr>\n",
       "      <th>...</th>\n",
       "      <td>...</td>\n",
       "      <td>...</td>\n",
       "      <td>...</td>\n",
       "      <td>...</td>\n",
       "      <td>...</td>\n",
       "      <td>...</td>\n",
       "      <td>...</td>\n",
       "      <td>...</td>\n",
       "      <td>...</td>\n",
       "    </tr>\n",
       "    <tr>\n",
       "      <th>235780</th>\n",
       "      <td>01-04-2022</td>\n",
       "      <td>Bihar</td>\n",
       "      <td>Arrah</td>\n",
       "      <td>1</td>\n",
       "      <td>PM10</td>\n",
       "      <td>210</td>\n",
       "      <td>Poor</td>\n",
       "      <td>number_of_monitoring_stations in Absolute Numb...</td>\n",
       "      <td>NaN</td>\n",
       "    </tr>\n",
       "    <tr>\n",
       "      <th>235781</th>\n",
       "      <td>01-04-2022</td>\n",
       "      <td>Rajasthan</td>\n",
       "      <td>Jaipur</td>\n",
       "      <td>3</td>\n",
       "      <td>PM2.5,PM10</td>\n",
       "      <td>158</td>\n",
       "      <td>Moderate</td>\n",
       "      <td>number_of_monitoring_stations in Absolute Numb...</td>\n",
       "      <td>NaN</td>\n",
       "    </tr>\n",
       "    <tr>\n",
       "      <th>235782</th>\n",
       "      <td>01-04-2022</td>\n",
       "      <td>Maharashtra</td>\n",
       "      <td>Chandrapur</td>\n",
       "      <td>2</td>\n",
       "      <td>PM2.5</td>\n",
       "      <td>201</td>\n",
       "      <td>Poor</td>\n",
       "      <td>number_of_monitoring_stations in Absolute Numb...</td>\n",
       "      <td>NaN</td>\n",
       "    </tr>\n",
       "    <tr>\n",
       "      <th>235783</th>\n",
       "      <td>01-04-2022</td>\n",
       "      <td>Uttar Pradesh</td>\n",
       "      <td>Varanasi</td>\n",
       "      <td>4</td>\n",
       "      <td>PM10</td>\n",
       "      <td>128</td>\n",
       "      <td>Moderate</td>\n",
       "      <td>number_of_monitoring_stations in Absolute Numb...</td>\n",
       "      <td>NaN</td>\n",
       "    </tr>\n",
       "    <tr>\n",
       "      <th>235784</th>\n",
       "      <td>01-04-2022</td>\n",
       "      <td>Odisha</td>\n",
       "      <td>Brajrajnagar</td>\n",
       "      <td>1</td>\n",
       "      <td>O3</td>\n",
       "      <td>270</td>\n",
       "      <td>Poor</td>\n",
       "      <td>number_of_monitoring_stations in Absolute Numb...</td>\n",
       "      <td>NaN</td>\n",
       "    </tr>\n",
       "  </tbody>\n",
       "</table>\n",
       "<p>235785 rows × 9 columns</p>\n",
       "</div>"
      ],
      "text/plain": [
       "              date           state          area  \\\n",
       "0       30-04-2025     Maharashtra      Amravati   \n",
       "1       30-04-2025           Bihar        Purnia   \n",
       "2       30-04-2025  Madhya Pradesh         Katni   \n",
       "3       30-04-2025    Chhattisgarh       Tumidih   \n",
       "4       30-04-2025           Assam      Byrnihat   \n",
       "...            ...             ...           ...   \n",
       "235780  01-04-2022           Bihar         Arrah   \n",
       "235781  01-04-2022       Rajasthan        Jaipur   \n",
       "235782  01-04-2022     Maharashtra    Chandrapur   \n",
       "235783  01-04-2022   Uttar Pradesh      Varanasi   \n",
       "235784  01-04-2022          Odisha  Brajrajnagar   \n",
       "\n",
       "        number_of_monitoring_stations prominent_pollutants  aqi_value  \\\n",
       "0                                   2                 PM10         78   \n",
       "1                                   1                   CO         56   \n",
       "2                                   1                   O3         98   \n",
       "3                                   1                 PM10        103   \n",
       "4                                   1                PM2.5         61   \n",
       "...                               ...                  ...        ...   \n",
       "235780                              1                 PM10        210   \n",
       "235781                              3           PM2.5,PM10        158   \n",
       "235782                              2                PM2.5        201   \n",
       "235783                              4                 PM10        128   \n",
       "235784                              1                   O3        270   \n",
       "\n",
       "       air_quality_status                                               unit  \\\n",
       "0            Satisfactory  number_of_monitoring_stations in Absolute Numb...   \n",
       "1            Satisfactory  number_of_monitoring_stations in Absolute Numb...   \n",
       "2            Satisfactory  number_of_monitoring_stations in Absolute Numb...   \n",
       "3                Moderate  number_of_monitoring_stations in Absolute Numb...   \n",
       "4            Satisfactory  number_of_monitoring_stations in Absolute Numb...   \n",
       "...                   ...                                                ...   \n",
       "235780               Poor  number_of_monitoring_stations in Absolute Numb...   \n",
       "235781           Moderate  number_of_monitoring_stations in Absolute Numb...   \n",
       "235782               Poor  number_of_monitoring_stations in Absolute Numb...   \n",
       "235783           Moderate  number_of_monitoring_stations in Absolute Numb...   \n",
       "235784               Poor  number_of_monitoring_stations in Absolute Numb...   \n",
       "\n",
       "        note  \n",
       "0        NaN  \n",
       "1        NaN  \n",
       "2        NaN  \n",
       "3        NaN  \n",
       "4        NaN  \n",
       "...      ...  \n",
       "235780   NaN  \n",
       "235781   NaN  \n",
       "235782   NaN  \n",
       "235783   NaN  \n",
       "235784   NaN  \n",
       "\n",
       "[235785 rows x 9 columns]"
      ]
     },
     "execution_count": 3,
     "metadata": {},
     "output_type": "execute_result"
    }
   ],
   "source": [
    "df_aqi"
   ]
  },
  {
   "cell_type": "code",
   "execution_count": 4,
   "id": "fc082187",
   "metadata": {
    "ExecuteTime": {
     "end_time": "2025-08-02T09:10:44.069925Z",
     "start_time": "2025-08-02T09:10:44.043340Z"
    }
   },
   "outputs": [],
   "source": [
    "df_aqi['date'] = pd.to_datetime(df_aqi['date'], format='%d-%m-%Y', errors='coerce')\n"
   ]
  },
  {
   "cell_type": "code",
   "execution_count": 5,
   "id": "a8f0fcd2",
   "metadata": {
    "ExecuteTime": {
     "end_time": "2025-08-02T09:10:44.122105Z",
     "start_time": "2025-08-02T09:10:44.084654Z"
    }
   },
   "outputs": [
    {
     "name": "stdout",
     "output_type": "stream",
     "text": [
      "<class 'pandas.core.frame.DataFrame'>\n",
      "RangeIndex: 235785 entries, 0 to 235784\n",
      "Data columns (total 9 columns):\n",
      " #   Column                         Non-Null Count   Dtype         \n",
      "---  ------                         --------------   -----         \n",
      " 0   date                           235785 non-null  datetime64[ns]\n",
      " 1   state                          235785 non-null  object        \n",
      " 2   area                           235785 non-null  object        \n",
      " 3   number_of_monitoring_stations  235785 non-null  int64         \n",
      " 4   prominent_pollutants           235785 non-null  object        \n",
      " 5   aqi_value                      235785 non-null  int64         \n",
      " 6   air_quality_status             235785 non-null  object        \n",
      " 7   unit                           235785 non-null  object        \n",
      " 8   note                           0 non-null       float64       \n",
      "dtypes: datetime64[ns](1), float64(1), int64(2), object(5)\n",
      "memory usage: 16.2+ MB\n"
     ]
    }
   ],
   "source": [
    "df_aqi.info()\n",
    "\n"
   ]
  },
  {
   "cell_type": "code",
   "execution_count": 6,
   "id": "656156fc",
   "metadata": {
    "ExecuteTime": {
     "end_time": "2025-08-02T09:10:44.178950Z",
     "start_time": "2025-08-02T09:10:44.140143Z"
    }
   },
   "outputs": [
    {
     "data": {
      "application/vnd.microsoft.datawrangler.viewer.v0+json": {
       "columns": [
        {
         "name": "index",
         "rawType": "object",
         "type": "string"
        },
        {
         "name": "0",
         "rawType": "int64",
         "type": "integer"
        }
       ],
       "ref": "f6862f68-8c91-49ed-9307-f6749ffdcccf",
       "rows": [
        [
         "date",
         "0"
        ],
        [
         "state",
         "0"
        ],
        [
         "area",
         "0"
        ],
        [
         "number_of_monitoring_stations",
         "0"
        ],
        [
         "prominent_pollutants",
         "0"
        ],
        [
         "aqi_value",
         "0"
        ],
        [
         "air_quality_status",
         "0"
        ],
        [
         "unit",
         "0"
        ],
        [
         "note",
         "235785"
        ]
       ],
       "shape": {
        "columns": 1,
        "rows": 9
       }
      },
      "text/plain": [
       "date                                  0\n",
       "state                                 0\n",
       "area                                  0\n",
       "number_of_monitoring_stations         0\n",
       "prominent_pollutants                  0\n",
       "aqi_value                             0\n",
       "air_quality_status                    0\n",
       "unit                                  0\n",
       "note                             235785\n",
       "dtype: int64"
      ]
     },
     "execution_count": 6,
     "metadata": {},
     "output_type": "execute_result"
    }
   ],
   "source": [
    "df_aqi.isnull().sum()"
   ]
  },
  {
   "cell_type": "code",
   "execution_count": 7,
   "id": "a93454c2",
   "metadata": {
    "ExecuteTime": {
     "end_time": "2025-08-02T09:10:44.312418Z",
     "start_time": "2025-08-02T09:10:44.195593Z"
    }
   },
   "outputs": [
    {
     "data": {
      "application/vnd.microsoft.datawrangler.viewer.v0+json": {
       "columns": [
        {
         "name": "index",
         "rawType": "object",
         "type": "string"
        },
        {
         "name": "count",
         "rawType": "object",
         "type": "unknown"
        },
        {
         "name": "unique",
         "rawType": "object",
         "type": "unknown"
        },
        {
         "name": "top",
         "rawType": "object",
         "type": "unknown"
        },
        {
         "name": "freq",
         "rawType": "object",
         "type": "unknown"
        },
        {
         "name": "mean",
         "rawType": "object",
         "type": "unknown"
        },
        {
         "name": "min",
         "rawType": "object",
         "type": "unknown"
        },
        {
         "name": "25%",
         "rawType": "object",
         "type": "unknown"
        },
        {
         "name": "50%",
         "rawType": "object",
         "type": "unknown"
        },
        {
         "name": "75%",
         "rawType": "object",
         "type": "unknown"
        },
        {
         "name": "max",
         "rawType": "object",
         "type": "unknown"
        },
        {
         "name": "std",
         "rawType": "object",
         "type": "unknown"
        }
       ],
       "ref": "65e84598-3416-4a94-a35d-4d1a74dd1d0d",
       "rows": [
        [
         "date",
         "235785",
         null,
         null,
         null,
         "2023-11-30 15:01:36.509956096",
         "2022-04-01 00:00:00",
         "2023-03-23 00:00:00",
         "2023-12-20 00:00:00",
         "2024-08-26 00:00:00",
         "2025-04-30 00:00:00",
         null
        ],
        [
         "state",
         "235785",
         "32",
         "Rajasthan",
         "26585",
         null,
         null,
         null,
         null,
         null,
         null,
         null
        ],
        [
         "area",
         "235785",
         "291",
         "Aurangabad",
         "1897",
         null,
         null,
         null,
         null,
         null,
         null,
         null
        ],
        [
         "number_of_monitoring_stations",
         "235785.0",
         null,
         null,
         null,
         "1.8706533494497106",
         "1.0",
         "1.0",
         "1.0",
         "1.0",
         "40.0",
         "3.071574882762884"
        ],
        [
         "prominent_pollutants",
         "235785",
         "49",
         "PM10",
         "111053",
         null,
         null,
         null,
         null,
         null,
         null,
         null
        ],
        [
         "aqi_value",
         "235785.0",
         null,
         null,
         null,
         "111.1272939330322",
         "3.0",
         "59.0",
         "92.0",
         "142.0",
         "500.0",
         "71.44735325736688"
        ],
        [
         "air_quality_status",
         "235785",
         "6",
         "Satisfactory",
         "88897",
         null,
         null,
         null,
         null,
         null,
         null,
         null
        ],
        [
         "unit",
         "235785",
         "1",
         "number_of_monitoring_stations in Absolute Number, aqi_value in Indices",
         "235785",
         null,
         null,
         null,
         null,
         null,
         null,
         null
        ],
        [
         "note",
         "0.0",
         null,
         null,
         null,
         null,
         null,
         null,
         null,
         null,
         null,
         null
        ]
       ],
       "shape": {
        "columns": 11,
        "rows": 9
       }
      },
      "text/html": [
       "<div>\n",
       "<style scoped>\n",
       "    .dataframe tbody tr th:only-of-type {\n",
       "        vertical-align: middle;\n",
       "    }\n",
       "\n",
       "    .dataframe tbody tr th {\n",
       "        vertical-align: top;\n",
       "    }\n",
       "\n",
       "    .dataframe thead th {\n",
       "        text-align: right;\n",
       "    }\n",
       "</style>\n",
       "<table border=\"1\" class=\"dataframe\">\n",
       "  <thead>\n",
       "    <tr style=\"text-align: right;\">\n",
       "      <th></th>\n",
       "      <th>count</th>\n",
       "      <th>unique</th>\n",
       "      <th>top</th>\n",
       "      <th>freq</th>\n",
       "      <th>mean</th>\n",
       "      <th>min</th>\n",
       "      <th>25%</th>\n",
       "      <th>50%</th>\n",
       "      <th>75%</th>\n",
       "      <th>max</th>\n",
       "      <th>std</th>\n",
       "    </tr>\n",
       "  </thead>\n",
       "  <tbody>\n",
       "    <tr>\n",
       "      <th>date</th>\n",
       "      <td>235785</td>\n",
       "      <td>NaN</td>\n",
       "      <td>NaN</td>\n",
       "      <td>NaN</td>\n",
       "      <td>2023-11-30 15:01:36.509956096</td>\n",
       "      <td>2022-04-01 00:00:00</td>\n",
       "      <td>2023-03-23 00:00:00</td>\n",
       "      <td>2023-12-20 00:00:00</td>\n",
       "      <td>2024-08-26 00:00:00</td>\n",
       "      <td>2025-04-30 00:00:00</td>\n",
       "      <td>NaN</td>\n",
       "    </tr>\n",
       "    <tr>\n",
       "      <th>state</th>\n",
       "      <td>235785</td>\n",
       "      <td>32</td>\n",
       "      <td>Rajasthan</td>\n",
       "      <td>26585</td>\n",
       "      <td>NaN</td>\n",
       "      <td>NaN</td>\n",
       "      <td>NaN</td>\n",
       "      <td>NaN</td>\n",
       "      <td>NaN</td>\n",
       "      <td>NaN</td>\n",
       "      <td>NaN</td>\n",
       "    </tr>\n",
       "    <tr>\n",
       "      <th>area</th>\n",
       "      <td>235785</td>\n",
       "      <td>291</td>\n",
       "      <td>Aurangabad</td>\n",
       "      <td>1897</td>\n",
       "      <td>NaN</td>\n",
       "      <td>NaN</td>\n",
       "      <td>NaN</td>\n",
       "      <td>NaN</td>\n",
       "      <td>NaN</td>\n",
       "      <td>NaN</td>\n",
       "      <td>NaN</td>\n",
       "    </tr>\n",
       "    <tr>\n",
       "      <th>number_of_monitoring_stations</th>\n",
       "      <td>235785.0</td>\n",
       "      <td>NaN</td>\n",
       "      <td>NaN</td>\n",
       "      <td>NaN</td>\n",
       "      <td>1.870653</td>\n",
       "      <td>1.0</td>\n",
       "      <td>1.0</td>\n",
       "      <td>1.0</td>\n",
       "      <td>1.0</td>\n",
       "      <td>40.0</td>\n",
       "      <td>3.071575</td>\n",
       "    </tr>\n",
       "    <tr>\n",
       "      <th>prominent_pollutants</th>\n",
       "      <td>235785</td>\n",
       "      <td>49</td>\n",
       "      <td>PM10</td>\n",
       "      <td>111053</td>\n",
       "      <td>NaN</td>\n",
       "      <td>NaN</td>\n",
       "      <td>NaN</td>\n",
       "      <td>NaN</td>\n",
       "      <td>NaN</td>\n",
       "      <td>NaN</td>\n",
       "      <td>NaN</td>\n",
       "    </tr>\n",
       "    <tr>\n",
       "      <th>aqi_value</th>\n",
       "      <td>235785.0</td>\n",
       "      <td>NaN</td>\n",
       "      <td>NaN</td>\n",
       "      <td>NaN</td>\n",
       "      <td>111.127294</td>\n",
       "      <td>3.0</td>\n",
       "      <td>59.0</td>\n",
       "      <td>92.0</td>\n",
       "      <td>142.0</td>\n",
       "      <td>500.0</td>\n",
       "      <td>71.447353</td>\n",
       "    </tr>\n",
       "    <tr>\n",
       "      <th>air_quality_status</th>\n",
       "      <td>235785</td>\n",
       "      <td>6</td>\n",
       "      <td>Satisfactory</td>\n",
       "      <td>88897</td>\n",
       "      <td>NaN</td>\n",
       "      <td>NaN</td>\n",
       "      <td>NaN</td>\n",
       "      <td>NaN</td>\n",
       "      <td>NaN</td>\n",
       "      <td>NaN</td>\n",
       "      <td>NaN</td>\n",
       "    </tr>\n",
       "    <tr>\n",
       "      <th>unit</th>\n",
       "      <td>235785</td>\n",
       "      <td>1</td>\n",
       "      <td>number_of_monitoring_stations in Absolute Numb...</td>\n",
       "      <td>235785</td>\n",
       "      <td>NaN</td>\n",
       "      <td>NaN</td>\n",
       "      <td>NaN</td>\n",
       "      <td>NaN</td>\n",
       "      <td>NaN</td>\n",
       "      <td>NaN</td>\n",
       "      <td>NaN</td>\n",
       "    </tr>\n",
       "    <tr>\n",
       "      <th>note</th>\n",
       "      <td>0.0</td>\n",
       "      <td>NaN</td>\n",
       "      <td>NaN</td>\n",
       "      <td>NaN</td>\n",
       "      <td>NaN</td>\n",
       "      <td>NaN</td>\n",
       "      <td>NaN</td>\n",
       "      <td>NaN</td>\n",
       "      <td>NaN</td>\n",
       "      <td>NaN</td>\n",
       "      <td>NaN</td>\n",
       "    </tr>\n",
       "  </tbody>\n",
       "</table>\n",
       "</div>"
      ],
      "text/plain": [
       "                                  count unique  \\\n",
       "date                             235785    NaN   \n",
       "state                            235785     32   \n",
       "area                             235785    291   \n",
       "number_of_monitoring_stations  235785.0    NaN   \n",
       "prominent_pollutants             235785     49   \n",
       "aqi_value                      235785.0    NaN   \n",
       "air_quality_status               235785      6   \n",
       "unit                             235785      1   \n",
       "note                                0.0    NaN   \n",
       "\n",
       "                                                                             top  \\\n",
       "date                                                                         NaN   \n",
       "state                                                                  Rajasthan   \n",
       "area                                                                  Aurangabad   \n",
       "number_of_monitoring_stations                                                NaN   \n",
       "prominent_pollutants                                                        PM10   \n",
       "aqi_value                                                                    NaN   \n",
       "air_quality_status                                                  Satisfactory   \n",
       "unit                           number_of_monitoring_stations in Absolute Numb...   \n",
       "note                                                                         NaN   \n",
       "\n",
       "                                 freq                           mean  \\\n",
       "date                              NaN  2023-11-30 15:01:36.509956096   \n",
       "state                           26585                            NaN   \n",
       "area                             1897                            NaN   \n",
       "number_of_monitoring_stations     NaN                       1.870653   \n",
       "prominent_pollutants           111053                            NaN   \n",
       "aqi_value                         NaN                     111.127294   \n",
       "air_quality_status              88897                            NaN   \n",
       "unit                           235785                            NaN   \n",
       "note                              NaN                            NaN   \n",
       "\n",
       "                                               min                  25%  \\\n",
       "date                           2022-04-01 00:00:00  2023-03-23 00:00:00   \n",
       "state                                          NaN                  NaN   \n",
       "area                                           NaN                  NaN   \n",
       "number_of_monitoring_stations                  1.0                  1.0   \n",
       "prominent_pollutants                           NaN                  NaN   \n",
       "aqi_value                                      3.0                 59.0   \n",
       "air_quality_status                             NaN                  NaN   \n",
       "unit                                           NaN                  NaN   \n",
       "note                                           NaN                  NaN   \n",
       "\n",
       "                                               50%                  75%  \\\n",
       "date                           2023-12-20 00:00:00  2024-08-26 00:00:00   \n",
       "state                                          NaN                  NaN   \n",
       "area                                           NaN                  NaN   \n",
       "number_of_monitoring_stations                  1.0                  1.0   \n",
       "prominent_pollutants                           NaN                  NaN   \n",
       "aqi_value                                     92.0                142.0   \n",
       "air_quality_status                             NaN                  NaN   \n",
       "unit                                           NaN                  NaN   \n",
       "note                                           NaN                  NaN   \n",
       "\n",
       "                                               max        std  \n",
       "date                           2025-04-30 00:00:00        NaN  \n",
       "state                                          NaN        NaN  \n",
       "area                                           NaN        NaN  \n",
       "number_of_monitoring_stations                 40.0   3.071575  \n",
       "prominent_pollutants                           NaN        NaN  \n",
       "aqi_value                                    500.0  71.447353  \n",
       "air_quality_status                             NaN        NaN  \n",
       "unit                                           NaN        NaN  \n",
       "note                                           NaN        NaN  "
      ]
     },
     "execution_count": 7,
     "metadata": {},
     "output_type": "execute_result"
    }
   ],
   "source": [
    "df_aqi.describe(include='all').T"
   ]
  },
  {
   "cell_type": "code",
   "execution_count": 8,
   "id": "87898739",
   "metadata": {
    "ExecuteTime": {
     "end_time": "2025-08-02T09:10:44.356042Z",
     "start_time": "2025-08-02T09:10:44.338972Z"
    }
   },
   "outputs": [],
   "source": [
    "df_aqi.drop(columns=['note','unit'],inplace=True)"
   ]
  },
  {
   "cell_type": "code",
   "execution_count": 9,
   "id": "8e5f0ae4",
   "metadata": {
    "ExecuteTime": {
     "end_time": "2025-08-02T09:10:44.385764Z",
     "start_time": "2025-08-02T09:10:44.371386Z"
    }
   },
   "outputs": [
    {
     "data": {
      "application/vnd.microsoft.datawrangler.viewer.v0+json": {
       "columns": [
        {
         "name": "prominent_pollutants",
         "rawType": "object",
         "type": "string"
        },
        {
         "name": "count",
         "rawType": "int64",
         "type": "integer"
        }
       ],
       "ref": "834d0686-a803-42f7-b0d1-4f42538de4eb",
       "rows": [
        [
         "PM10",
         "111053"
        ],
        [
         "PM2.5",
         "59670"
        ],
        [
         "O3",
         "16202"
        ],
        [
         "PM2.5,PM10",
         "13199"
        ],
        [
         "CO",
         "12867"
        ],
        [
         "PM10,O3",
         "3914"
        ],
        [
         "SO2",
         "3815"
        ],
        [
         "NO2",
         "3012"
        ],
        [
         "PM10,CO",
         "2658"
        ],
        [
         "PM2.5,O3",
         "2088"
        ],
        [
         "PM10,NO2",
         "1278"
        ],
        [
         "O3,PM2.5,PM10",
         "1019"
        ],
        [
         "PM2.5,PM10,CO",
         "710"
        ],
        [
         "PM10,SO2",
         "551"
        ],
        [
         "CO,O3",
         "543"
        ],
        [
         "PM10,O3,CO",
         "418"
        ],
        [
         "PM2.5,NO2",
         "415"
        ],
        [
         "PM10,PM2.5,NO2",
         "281"
        ],
        [
         "PM2.5,SO2",
         "278"
        ],
        [
         "CO,NO2",
         "274"
        ],
        [
         "PM10,NO2,O3",
         "216"
        ],
        [
         "NO2,PM10,CO",
         "191"
        ],
        [
         "CO,SO2",
         "167"
        ],
        [
         "NO2,O3",
         "139"
        ],
        [
         "PM10,PM2.5,SO2",
         "111"
        ],
        [
         "SO2,O3",
         "109"
        ],
        [
         "PM2.5,CO,O3",
         "99"
        ],
        [
         "PM10,CO,SO2",
         "69"
        ],
        [
         "NH3",
         "69"
        ],
        [
         "PM10,SO2,O3",
         "65"
        ],
        [
         "NO2,CO,O3",
         "49"
        ],
        [
         "PM10,NO2,PM2.5,O3",
         "43"
        ],
        [
         "PM2.5,CO,NO2",
         "40"
        ],
        [
         "PM2.5,CO,SO2",
         "36"
        ],
        [
         "NO2,SO2",
         "34"
        ],
        [
         "PM10,NO2,SO3",
         "25"
        ],
        [
         "PM2.5,SO2,O3",
         "21"
        ],
        [
         "SO3,CO,O3",
         "15"
        ],
        [
         "PM2.5,NO2,SO2",
         "13"
        ],
        [
         "NO2,SO2,CO",
         "9"
        ],
        [
         "NO2,O3,SO2",
         "6"
        ],
        [
         "PM2.5,NH3",
         "5"
        ],
        [
         "PM10,NH3",
         "2"
        ],
        [
         "PM10,NH3,O3",
         "2"
        ],
        [
         "PM10,NH3,CO",
         "1"
        ],
        [
         "PM2.5,NH3,O3",
         "1"
        ],
        [
         "NH3,CO,O3",
         "1"
        ],
        [
         "O3,NH3",
         "1"
        ],
        [
         "PM2.5,NH3,CO",
         "1"
        ]
       ],
       "shape": {
        "columns": 1,
        "rows": 49
       }
      },
      "text/plain": [
       "prominent_pollutants\n",
       "PM10                 111053\n",
       "PM2.5                 59670\n",
       "O3                    16202\n",
       "PM2.5,PM10            13199\n",
       "CO                    12867\n",
       "PM10,O3                3914\n",
       "SO2                    3815\n",
       "NO2                    3012\n",
       "PM10,CO                2658\n",
       "PM2.5,O3               2088\n",
       "PM10,NO2               1278\n",
       "O3,PM2.5,PM10          1019\n",
       "PM2.5,PM10,CO           710\n",
       "PM10,SO2                551\n",
       "CO,O3                   543\n",
       "PM10,O3,CO              418\n",
       "PM2.5,NO2               415\n",
       "PM10,PM2.5,NO2          281\n",
       "PM2.5,SO2               278\n",
       "CO,NO2                  274\n",
       "PM10,NO2,O3             216\n",
       "NO2,PM10,CO             191\n",
       "CO,SO2                  167\n",
       "NO2,O3                  139\n",
       "PM10,PM2.5,SO2          111\n",
       "SO2,O3                  109\n",
       "PM2.5,CO,O3              99\n",
       "PM10,CO,SO2              69\n",
       "NH3                      69\n",
       "PM10,SO2,O3              65\n",
       "NO2,CO,O3                49\n",
       "PM10,NO2,PM2.5,O3        43\n",
       "PM2.5,CO,NO2             40\n",
       "PM2.5,CO,SO2             36\n",
       "NO2,SO2                  34\n",
       "PM10,NO2,SO3             25\n",
       "PM2.5,SO2,O3             21\n",
       "SO3,CO,O3                15\n",
       "PM2.5,NO2,SO2            13\n",
       "NO2,SO2,CO                9\n",
       "NO2,O3,SO2                6\n",
       "PM2.5,NH3                 5\n",
       "PM10,NH3                  2\n",
       "PM10,NH3,O3               2\n",
       "PM10,NH3,CO               1\n",
       "PM2.5,NH3,O3              1\n",
       "NH3,CO,O3                 1\n",
       "O3,NH3                    1\n",
       "PM2.5,NH3,CO              1\n",
       "Name: count, dtype: int64"
      ]
     },
     "execution_count": 9,
     "metadata": {},
     "output_type": "execute_result"
    }
   ],
   "source": [
    "df_aqi['prominent_pollutants'].value_counts()"
   ]
  },
  {
   "cell_type": "markdown",
   "id": "11b16c1b",
   "metadata": {},
   "source": [
    "# POPULATION DATA "
   ]
  },
  {
   "cell_type": "code",
   "execution_count": 10,
   "id": "a09d5687",
   "metadata": {
    "ExecuteTime": {
     "end_time": "2025-08-02T09:10:44.413409Z",
     "start_time": "2025-08-02T09:10:44.402809Z"
    }
   },
   "outputs": [],
   "source": [
    "df_population = pd.read_csv('population_projection.csv')"
   ]
  },
  {
   "cell_type": "code",
   "execution_count": 11,
   "id": "91fc4d8d",
   "metadata": {
    "ExecuteTime": {
     "end_time": "2025-08-02T09:10:44.436199Z",
     "start_time": "2025-08-02T09:10:44.429137Z"
    }
   },
   "outputs": [
    {
     "data": {
      "application/vnd.microsoft.datawrangler.viewer.v0+json": {
       "columns": [
        {
         "name": "index",
         "rawType": "int64",
         "type": "integer"
        },
        {
         "name": "year",
         "rawType": "int64",
         "type": "integer"
        },
        {
         "name": "month",
         "rawType": "object",
         "type": "string"
        },
        {
         "name": "state",
         "rawType": "object",
         "type": "string"
        },
        {
         "name": "gender",
         "rawType": "object",
         "type": "string"
        },
        {
         "name": "value",
         "rawType": "int64",
         "type": "integer"
        },
        {
         "name": "unit",
         "rawType": "object",
         "type": "string"
        },
        {
         "name": "note",
         "rawType": "float64",
         "type": "float"
        }
       ],
       "ref": "f3f94c1f-dfd5-4ca9-aa6c-0cca40b64efb",
       "rows": [
        [
         "0",
         "2036",
         "October",
         "West Bengal",
         "Total",
         "43964",
         "value in Thousands",
         null
        ],
        [
         "1",
         "2036",
         "October",
         "West Bengal",
         "Male",
         "22615",
         "value in Thousands",
         null
        ],
        [
         "2",
         "2036",
         "October",
         "West Bengal",
         "Female",
         "21349",
         "value in Thousands",
         null
        ],
        [
         "3",
         "2036",
         "October",
         "Uttarakhand",
         "Total",
         "5506",
         "value in Thousands",
         null
        ],
        [
         "4",
         "2036",
         "October",
         "Uttarakhand",
         "Male",
         "2922",
         "value in Thousands",
         null
        ]
       ],
       "shape": {
        "columns": 7,
        "rows": 5
       }
      },
      "text/html": [
       "<div>\n",
       "<style scoped>\n",
       "    .dataframe tbody tr th:only-of-type {\n",
       "        vertical-align: middle;\n",
       "    }\n",
       "\n",
       "    .dataframe tbody tr th {\n",
       "        vertical-align: top;\n",
       "    }\n",
       "\n",
       "    .dataframe thead th {\n",
       "        text-align: right;\n",
       "    }\n",
       "</style>\n",
       "<table border=\"1\" class=\"dataframe\">\n",
       "  <thead>\n",
       "    <tr style=\"text-align: right;\">\n",
       "      <th></th>\n",
       "      <th>year</th>\n",
       "      <th>month</th>\n",
       "      <th>state</th>\n",
       "      <th>gender</th>\n",
       "      <th>value</th>\n",
       "      <th>unit</th>\n",
       "      <th>note</th>\n",
       "    </tr>\n",
       "  </thead>\n",
       "  <tbody>\n",
       "    <tr>\n",
       "      <th>0</th>\n",
       "      <td>2036</td>\n",
       "      <td>October</td>\n",
       "      <td>West Bengal</td>\n",
       "      <td>Total</td>\n",
       "      <td>43964</td>\n",
       "      <td>value in Thousands</td>\n",
       "      <td>NaN</td>\n",
       "    </tr>\n",
       "    <tr>\n",
       "      <th>1</th>\n",
       "      <td>2036</td>\n",
       "      <td>October</td>\n",
       "      <td>West Bengal</td>\n",
       "      <td>Male</td>\n",
       "      <td>22615</td>\n",
       "      <td>value in Thousands</td>\n",
       "      <td>NaN</td>\n",
       "    </tr>\n",
       "    <tr>\n",
       "      <th>2</th>\n",
       "      <td>2036</td>\n",
       "      <td>October</td>\n",
       "      <td>West Bengal</td>\n",
       "      <td>Female</td>\n",
       "      <td>21349</td>\n",
       "      <td>value in Thousands</td>\n",
       "      <td>NaN</td>\n",
       "    </tr>\n",
       "    <tr>\n",
       "      <th>3</th>\n",
       "      <td>2036</td>\n",
       "      <td>October</td>\n",
       "      <td>Uttarakhand</td>\n",
       "      <td>Total</td>\n",
       "      <td>5506</td>\n",
       "      <td>value in Thousands</td>\n",
       "      <td>NaN</td>\n",
       "    </tr>\n",
       "    <tr>\n",
       "      <th>4</th>\n",
       "      <td>2036</td>\n",
       "      <td>October</td>\n",
       "      <td>Uttarakhand</td>\n",
       "      <td>Male</td>\n",
       "      <td>2922</td>\n",
       "      <td>value in Thousands</td>\n",
       "      <td>NaN</td>\n",
       "    </tr>\n",
       "  </tbody>\n",
       "</table>\n",
       "</div>"
      ],
      "text/plain": [
       "   year    month        state  gender  value                unit  note\n",
       "0  2036  October  West Bengal   Total  43964  value in Thousands   NaN\n",
       "1  2036  October  West Bengal    Male  22615  value in Thousands   NaN\n",
       "2  2036  October  West Bengal  Female  21349  value in Thousands   NaN\n",
       "3  2036  October  Uttarakhand   Total   5506  value in Thousands   NaN\n",
       "4  2036  October  Uttarakhand    Male   2922  value in Thousands   NaN"
      ]
     },
     "execution_count": 11,
     "metadata": {},
     "output_type": "execute_result"
    }
   ],
   "source": [
    "df_population.head()"
   ]
  },
  {
   "cell_type": "code",
   "execution_count": 19,
   "id": "eb3cbb91",
   "metadata": {
    "ExecuteTime": {
     "end_time": "2025-08-02T09:10:52.661732Z",
     "start_time": "2025-08-02T09:10:52.652405Z"
    }
   },
   "outputs": [
    {
     "name": "stdout",
     "output_type": "stream",
     "text": [
      "<class 'pandas.core.frame.DataFrame'>\n",
      "RangeIndex: 8892 entries, 0 to 8891\n",
      "Data columns (total 8 columns):\n",
      " #   Column      Non-Null Count  Dtype  \n",
      "---  ------      --------------  -----  \n",
      " 0   year        8892 non-null   int64  \n",
      " 1   month       8892 non-null   object \n",
      " 2   state       8892 non-null   object \n",
      " 3   gender      8892 non-null   object \n",
      " 4   value       8892 non-null   int64  \n",
      " 5   unit        8892 non-null   object \n",
      " 6   note        0 non-null      float64\n",
      " 7   Population  8892 non-null   int64  \n",
      "dtypes: float64(1), int64(3), object(4)\n",
      "memory usage: 555.9+ KB\n"
     ]
    }
   ],
   "source": [
    "df_population.info()"
   ]
  },
  {
   "cell_type": "code",
   "execution_count": 20,
   "id": "29490b99",
   "metadata": {
    "ExecuteTime": {
     "end_time": "2025-08-02T09:10:54.535928Z",
     "start_time": "2025-08-02T09:10:54.520251Z"
    }
   },
   "outputs": [
    {
     "data": {
      "application/vnd.microsoft.datawrangler.viewer.v0+json": {
       "columns": [
        {
         "name": "index",
         "rawType": "int64",
         "type": "integer"
        },
        {
         "name": "index",
         "rawType": "int64",
         "type": "integer"
        },
        {
         "name": "year",
         "rawType": "int64",
         "type": "integer"
        },
        {
         "name": "month",
         "rawType": "object",
         "type": "string"
        },
        {
         "name": "state",
         "rawType": "object",
         "type": "string"
        },
        {
         "name": "gender",
         "rawType": "object",
         "type": "string"
        },
        {
         "name": "value",
         "rawType": "int64",
         "type": "integer"
        },
        {
         "name": "unit",
         "rawType": "object",
         "type": "string"
        },
        {
         "name": "note",
         "rawType": "float64",
         "type": "float"
        },
        {
         "name": "Population",
         "rawType": "int64",
         "type": "integer"
        }
       ],
       "ref": "2db1e3f1-4536-4a20-91e3-2851ac246b1d",
       "rows": [
        [
         "0",
         "3762",
         "2025",
         "October",
         "West Bengal",
         "Total",
         "37995",
         "value in Thousands",
         null,
         "37995000"
        ],
        [
         "1",
         "3765",
         "2025",
         "October",
         "Uttarakhand",
         "Total",
         "4431",
         "value in Thousands",
         null,
         "4431000"
        ],
        [
         "2",
         "3768",
         "2025",
         "October",
         "Uttar Pradesh",
         "Total",
         "59007",
         "value in Thousands",
         null,
         "59007000"
        ],
        [
         "3",
         "3771",
         "2025",
         "October",
         "Tripura",
         "Total",
         "1787",
         "value in Thousands",
         null,
         "1787000"
        ],
        [
         "4",
         "3774",
         "2025",
         "October",
         "Telangana",
         "Total",
         "19078",
         "value in Thousands",
         null,
         "19078000"
        ],
        [
         "5",
         "3777",
         "2025",
         "October",
         "Tamil Nadu",
         "Total",
         "42472",
         "value in Thousands",
         null,
         "42472000"
        ],
        [
         "6",
         "3780",
         "2025",
         "October",
         "Sikkim",
         "Total",
         "384",
         "value in Thousands",
         null,
         "384000"
        ],
        [
         "7",
         "3783",
         "2025",
         "October",
         "Rajasthan",
         "Total",
         "22468",
         "value in Thousands",
         null,
         "22468000"
        ],
        [
         "8",
         "3786",
         "2025",
         "October",
         "Punjab",
         "Total",
         "13359",
         "value in Thousands",
         null,
         "13359000"
        ],
        [
         "9",
         "3789",
         "2025",
         "October",
         "Puducherry",
         "Total",
         "1229",
         "value in Thousands",
         null,
         "1229000"
        ],
        [
         "10",
         "3792",
         "2025",
         "October",
         "Odisha",
         "Total",
         "9077",
         "value in Thousands",
         null,
         "9077000"
        ],
        [
         "11",
         "3795",
         "2025",
         "October",
         "Nagaland",
         "Total",
         "1132",
         "value in Thousands",
         null,
         "1132000"
        ],
        [
         "12",
         "3798",
         "2025",
         "October",
         "Mizoram",
         "Total",
         "705",
         "value in Thousands",
         null,
         "705000"
        ],
        [
         "13",
         "3801",
         "2025",
         "October",
         "Meghalaya",
         "Total",
         "712",
         "value in Thousands",
         null,
         "712000"
        ],
        [
         "14",
         "3804",
         "2025",
         "October",
         "Manipur",
         "Total",
         "1093",
         "value in Thousands",
         null,
         "1093000"
        ],
        [
         "15",
         "3807",
         "2025",
         "October",
         "Maharashtra",
         "Total",
         "63463",
         "value in Thousands",
         null,
         "63463000"
        ],
        [
         "16",
         "3810",
         "2025",
         "October",
         "Madhya Pradesh",
         "Total",
         "26126",
         "value in Thousands",
         null,
         "26126000"
        ],
        [
         "17",
         "3813",
         "2025",
         "October",
         "Lakshadweep",
         "Total",
         "70",
         "value in Thousands",
         null,
         "70000"
        ],
        [
         "18",
         "3816",
         "2025",
         "October",
         "Ladakh",
         "Total",
         "100",
         "value in Thousands",
         null,
         "100000"
        ],
        [
         "19",
         "3819",
         "2025",
         "October",
         "Kerala",
         "Total",
         "29122",
         "value in Thousands",
         null,
         "29122000"
        ],
        [
         "20",
         "3822",
         "2025",
         "October",
         "Karnataka",
         "Total",
         "31402",
         "value in Thousands",
         null,
         "31402000"
        ],
        [
         "21",
         "3825",
         "2025",
         "October",
         "Jharkhand",
         "Total",
         "10848",
         "value in Thousands",
         null,
         "10848000"
        ],
        [
         "22",
         "3828",
         "2025",
         "October",
         "Jammu and Kashmir",
         "Total",
         "4324",
         "value in Thousands",
         null,
         "4324000"
        ],
        [
         "23",
         "3831",
         "2025",
         "October",
         "Himachal Pradesh",
         "Total",
         "785",
         "value in Thousands",
         null,
         "785000"
        ],
        [
         "24",
         "3834",
         "2025",
         "October",
         "Haryana",
         "Total",
         "13582",
         "value in Thousands",
         null,
         "13582000"
        ],
        [
         "25",
         "3837",
         "2025",
         "October",
         "Gujarat",
         "Total",
         "36863",
         "value in Thousands",
         null,
         "36863000"
        ],
        [
         "26",
         "3840",
         "2025",
         "October",
         "Goa",
         "Total",
         "1252",
         "value in Thousands",
         null,
         "1252000"
        ],
        [
         "27",
         "3843",
         "2025",
         "October",
         "Delhi",
         "Total",
         "22325",
         "value in Thousands",
         null,
         "22325000"
        ],
        [
         "28",
         "3846",
         "2025",
         "October",
         "Daman and Diu",
         "Total",
         "665",
         "value in Thousands",
         null,
         "665000"
        ],
        [
         "29",
         "3849",
         "2025",
         "October",
         "Dadra and Nagar Haveli",
         "Total",
         "596",
         "value in Thousands",
         null,
         "596000"
        ],
        [
         "30",
         "3852",
         "2025",
         "October",
         "Chhattisgarh",
         "Total",
         "8682",
         "value in Thousands",
         null,
         "8682000"
        ],
        [
         "31",
         "3855",
         "2025",
         "October",
         "Chandigarh",
         "Total",
         "1262",
         "value in Thousands",
         null,
         "1262000"
        ],
        [
         "32",
         "3858",
         "2025",
         "October",
         "Bihar",
         "Total",
         "16415",
         "value in Thousands",
         null,
         "16415000"
        ],
        [
         "33",
         "3861",
         "2025",
         "October",
         "Assam",
         "Total",
         "5807",
         "value in Thousands",
         null,
         "5807000"
        ],
        [
         "34",
         "3864",
         "2025",
         "October",
         "Arunachal Pradesh",
         "Total",
         "419",
         "value in Thousands",
         null,
         "419000"
        ],
        [
         "35",
         "3867",
         "2025",
         "October",
         "Andhra Pradesh",
         "Total",
         "20407",
         "value in Thousands",
         null,
         "20407000"
        ],
        [
         "36",
         "3870",
         "2025",
         "October",
         "Andaman and Nicobar Islands",
         "Total",
         "185",
         "value in Thousands",
         null,
         "185000"
        ],
        [
         "37",
         "3873",
         "2025",
         "October",
         "All India",
         "Total",
         "509622",
         "value in Thousands",
         null,
         "509622000"
        ],
        [
         "38",
         "3876",
         "2025",
         "March",
         "West Bengal",
         "Total",
         "37642",
         "value in Thousands",
         null,
         "37642000"
        ],
        [
         "39",
         "3879",
         "2025",
         "March",
         "Uttarakhand",
         "Total",
         "4373",
         "value in Thousands",
         null,
         "4373000"
        ],
        [
         "40",
         "3882",
         "2025",
         "March",
         "Uttar Pradesh",
         "Total",
         "58465",
         "value in Thousands",
         null,
         "58465000"
        ],
        [
         "41",
         "3885",
         "2025",
         "March",
         "Tripura",
         "Total",
         "1750",
         "value in Thousands",
         null,
         "1750000"
        ],
        [
         "42",
         "3888",
         "2025",
         "March",
         "Telangana",
         "Total",
         "18984",
         "value in Thousands",
         null,
         "18984000"
        ],
        [
         "43",
         "3891",
         "2025",
         "March",
         "Tamil Nadu",
         "Total",
         "42196",
         "value in Thousands",
         null,
         "42196000"
        ],
        [
         "44",
         "3894",
         "2025",
         "March",
         "Sikkim",
         "Total",
         "373",
         "value in Thousands",
         null,
         "373000"
        ],
        [
         "45",
         "3897",
         "2025",
         "March",
         "Rajasthan",
         "Total",
         "22262",
         "value in Thousands",
         null,
         "22262000"
        ],
        [
         "46",
         "3900",
         "2025",
         "March",
         "Punjab",
         "Total",
         "13243",
         "value in Thousands",
         null,
         "13243000"
        ],
        [
         "47",
         "3903",
         "2025",
         "March",
         "Puducherry",
         "Total",
         "1212",
         "value in Thousands",
         null,
         "1212000"
        ],
        [
         "48",
         "3906",
         "2025",
         "March",
         "Odisha",
         "Total",
         "8994",
         "value in Thousands",
         null,
         "8994000"
        ],
        [
         "49",
         "3909",
         "2025",
         "March",
         "Nagaland",
         "Total",
         "1107",
         "value in Thousands",
         null,
         "1107000"
        ]
       ],
       "shape": {
        "columns": 9,
        "rows": 228
       }
      },
      "text/html": [
       "<div>\n",
       "<style scoped>\n",
       "    .dataframe tbody tr th:only-of-type {\n",
       "        vertical-align: middle;\n",
       "    }\n",
       "\n",
       "    .dataframe tbody tr th {\n",
       "        vertical-align: top;\n",
       "    }\n",
       "\n",
       "    .dataframe thead th {\n",
       "        text-align: right;\n",
       "    }\n",
       "</style>\n",
       "<table border=\"1\" class=\"dataframe\">\n",
       "  <thead>\n",
       "    <tr style=\"text-align: right;\">\n",
       "      <th></th>\n",
       "      <th>index</th>\n",
       "      <th>year</th>\n",
       "      <th>month</th>\n",
       "      <th>state</th>\n",
       "      <th>gender</th>\n",
       "      <th>value</th>\n",
       "      <th>unit</th>\n",
       "      <th>note</th>\n",
       "      <th>Population</th>\n",
       "    </tr>\n",
       "  </thead>\n",
       "  <tbody>\n",
       "    <tr>\n",
       "      <th>0</th>\n",
       "      <td>3762</td>\n",
       "      <td>2025</td>\n",
       "      <td>October</td>\n",
       "      <td>West Bengal</td>\n",
       "      <td>Total</td>\n",
       "      <td>37995</td>\n",
       "      <td>value in Thousands</td>\n",
       "      <td>NaN</td>\n",
       "      <td>37995000</td>\n",
       "    </tr>\n",
       "    <tr>\n",
       "      <th>1</th>\n",
       "      <td>3765</td>\n",
       "      <td>2025</td>\n",
       "      <td>October</td>\n",
       "      <td>Uttarakhand</td>\n",
       "      <td>Total</td>\n",
       "      <td>4431</td>\n",
       "      <td>value in Thousands</td>\n",
       "      <td>NaN</td>\n",
       "      <td>4431000</td>\n",
       "    </tr>\n",
       "    <tr>\n",
       "      <th>2</th>\n",
       "      <td>3768</td>\n",
       "      <td>2025</td>\n",
       "      <td>October</td>\n",
       "      <td>Uttar Pradesh</td>\n",
       "      <td>Total</td>\n",
       "      <td>59007</td>\n",
       "      <td>value in Thousands</td>\n",
       "      <td>NaN</td>\n",
       "      <td>59007000</td>\n",
       "    </tr>\n",
       "    <tr>\n",
       "      <th>3</th>\n",
       "      <td>3771</td>\n",
       "      <td>2025</td>\n",
       "      <td>October</td>\n",
       "      <td>Tripura</td>\n",
       "      <td>Total</td>\n",
       "      <td>1787</td>\n",
       "      <td>value in Thousands</td>\n",
       "      <td>NaN</td>\n",
       "      <td>1787000</td>\n",
       "    </tr>\n",
       "    <tr>\n",
       "      <th>4</th>\n",
       "      <td>3774</td>\n",
       "      <td>2025</td>\n",
       "      <td>October</td>\n",
       "      <td>Telangana</td>\n",
       "      <td>Total</td>\n",
       "      <td>19078</td>\n",
       "      <td>value in Thousands</td>\n",
       "      <td>NaN</td>\n",
       "      <td>19078000</td>\n",
       "    </tr>\n",
       "    <tr>\n",
       "      <th>...</th>\n",
       "      <td>...</td>\n",
       "      <td>...</td>\n",
       "      <td>...</td>\n",
       "      <td>...</td>\n",
       "      <td>...</td>\n",
       "      <td>...</td>\n",
       "      <td>...</td>\n",
       "      <td>...</td>\n",
       "      <td>...</td>\n",
       "    </tr>\n",
       "    <tr>\n",
       "      <th>223</th>\n",
       "      <td>4431</td>\n",
       "      <td>2024</td>\n",
       "      <td>July</td>\n",
       "      <td>Assam</td>\n",
       "      <td>Total</td>\n",
       "      <td>5685</td>\n",
       "      <td>value in Thousands</td>\n",
       "      <td>NaN</td>\n",
       "      <td>5685000</td>\n",
       "    </tr>\n",
       "    <tr>\n",
       "      <th>224</th>\n",
       "      <td>4434</td>\n",
       "      <td>2024</td>\n",
       "      <td>July</td>\n",
       "      <td>Arunachal Pradesh</td>\n",
       "      <td>Total</td>\n",
       "      <td>410</td>\n",
       "      <td>value in Thousands</td>\n",
       "      <td>NaN</td>\n",
       "      <td>410000</td>\n",
       "    </tr>\n",
       "    <tr>\n",
       "      <th>225</th>\n",
       "      <td>4437</td>\n",
       "      <td>2024</td>\n",
       "      <td>July</td>\n",
       "      <td>Andhra Pradesh</td>\n",
       "      <td>Total</td>\n",
       "      <td>19910</td>\n",
       "      <td>value in Thousands</td>\n",
       "      <td>NaN</td>\n",
       "      <td>19910000</td>\n",
       "    </tr>\n",
       "    <tr>\n",
       "      <th>226</th>\n",
       "      <td>4440</td>\n",
       "      <td>2024</td>\n",
       "      <td>July</td>\n",
       "      <td>Andaman and Nicobar Islands</td>\n",
       "      <td>Total</td>\n",
       "      <td>181</td>\n",
       "      <td>value in Thousands</td>\n",
       "      <td>NaN</td>\n",
       "      <td>181000</td>\n",
       "    </tr>\n",
       "    <tr>\n",
       "      <th>227</th>\n",
       "      <td>4443</td>\n",
       "      <td>2024</td>\n",
       "      <td>July</td>\n",
       "      <td>All India</td>\n",
       "      <td>Total</td>\n",
       "      <td>498515</td>\n",
       "      <td>value in Thousands</td>\n",
       "      <td>NaN</td>\n",
       "      <td>498515000</td>\n",
       "    </tr>\n",
       "  </tbody>\n",
       "</table>\n",
       "<p>228 rows × 9 columns</p>\n",
       "</div>"
      ],
      "text/plain": [
       "     index  year    month                        state gender   value  \\\n",
       "0     3762  2025  October                  West Bengal  Total   37995   \n",
       "1     3765  2025  October                  Uttarakhand  Total    4431   \n",
       "2     3768  2025  October                Uttar Pradesh  Total   59007   \n",
       "3     3771  2025  October                      Tripura  Total    1787   \n",
       "4     3774  2025  October                    Telangana  Total   19078   \n",
       "..     ...   ...      ...                          ...    ...     ...   \n",
       "223   4431  2024     July                        Assam  Total    5685   \n",
       "224   4434  2024     July            Arunachal Pradesh  Total     410   \n",
       "225   4437  2024     July               Andhra Pradesh  Total   19910   \n",
       "226   4440  2024     July  Andaman and Nicobar Islands  Total     181   \n",
       "227   4443  2024     July                    All India  Total  498515   \n",
       "\n",
       "                   unit  note  Population  \n",
       "0    value in Thousands   NaN    37995000  \n",
       "1    value in Thousands   NaN     4431000  \n",
       "2    value in Thousands   NaN    59007000  \n",
       "3    value in Thousands   NaN     1787000  \n",
       "4    value in Thousands   NaN    19078000  \n",
       "..                  ...   ...         ...  \n",
       "223  value in Thousands   NaN     5685000  \n",
       "224  value in Thousands   NaN      410000  \n",
       "225  value in Thousands   NaN    19910000  \n",
       "226  value in Thousands   NaN      181000  \n",
       "227  value in Thousands   NaN   498515000  \n",
       "\n",
       "[228 rows x 9 columns]"
      ]
     },
     "execution_count": 20,
     "metadata": {},
     "output_type": "execute_result"
    }
   ],
   "source": [
    "df_population[(df_population['year'].isin([2024,2025])) & (df_population['gender'] == 'Total')].reset_index()"
   ]
  },
  {
   "cell_type": "code",
   "execution_count": 21,
   "id": "f7d62302",
   "metadata": {
    "ExecuteTime": {
     "end_time": "2025-08-02T09:10:57.745488Z",
     "start_time": "2025-08-02T09:10:57.734323Z"
    }
   },
   "outputs": [
    {
     "data": {
      "application/vnd.microsoft.datawrangler.viewer.v0+json": {
       "columns": [
        {
         "name": "index",
         "rawType": "int64",
         "type": "integer"
        },
        {
         "name": "year",
         "rawType": "int64",
         "type": "integer"
        },
        {
         "name": "month",
         "rawType": "object",
         "type": "string"
        },
        {
         "name": "state",
         "rawType": "object",
         "type": "string"
        },
        {
         "name": "gender",
         "rawType": "object",
         "type": "string"
        },
        {
         "name": "value",
         "rawType": "int64",
         "type": "integer"
        },
        {
         "name": "unit",
         "rawType": "object",
         "type": "string"
        },
        {
         "name": "note",
         "rawType": "float64",
         "type": "float"
        },
        {
         "name": "Population",
         "rawType": "int64",
         "type": "integer"
        }
       ],
       "ref": "e9e60c37-e043-4a54-b5c8-576ad954bff6",
       "rows": [
        [
         "3762",
         "2025",
         "October",
         "West Bengal",
         "Total",
         "37995",
         "value in Thousands",
         null,
         "37995000"
        ],
        [
         "3765",
         "2025",
         "October",
         "Uttarakhand",
         "Total",
         "4431",
         "value in Thousands",
         null,
         "4431000"
        ],
        [
         "3768",
         "2025",
         "October",
         "Uttar Pradesh",
         "Total",
         "59007",
         "value in Thousands",
         null,
         "59007000"
        ],
        [
         "3771",
         "2025",
         "October",
         "Tripura",
         "Total",
         "1787",
         "value in Thousands",
         null,
         "1787000"
        ],
        [
         "3774",
         "2025",
         "October",
         "Telangana",
         "Total",
         "19078",
         "value in Thousands",
         null,
         "19078000"
        ],
        [
         "3777",
         "2025",
         "October",
         "Tamil Nadu",
         "Total",
         "42472",
         "value in Thousands",
         null,
         "42472000"
        ],
        [
         "3780",
         "2025",
         "October",
         "Sikkim",
         "Total",
         "384",
         "value in Thousands",
         null,
         "384000"
        ],
        [
         "3783",
         "2025",
         "October",
         "Rajasthan",
         "Total",
         "22468",
         "value in Thousands",
         null,
         "22468000"
        ],
        [
         "3786",
         "2025",
         "October",
         "Punjab",
         "Total",
         "13359",
         "value in Thousands",
         null,
         "13359000"
        ],
        [
         "3789",
         "2025",
         "October",
         "Puducherry",
         "Total",
         "1229",
         "value in Thousands",
         null,
         "1229000"
        ],
        [
         "3792",
         "2025",
         "October",
         "Odisha",
         "Total",
         "9077",
         "value in Thousands",
         null,
         "9077000"
        ],
        [
         "3795",
         "2025",
         "October",
         "Nagaland",
         "Total",
         "1132",
         "value in Thousands",
         null,
         "1132000"
        ],
        [
         "3798",
         "2025",
         "October",
         "Mizoram",
         "Total",
         "705",
         "value in Thousands",
         null,
         "705000"
        ],
        [
         "3801",
         "2025",
         "October",
         "Meghalaya",
         "Total",
         "712",
         "value in Thousands",
         null,
         "712000"
        ],
        [
         "3804",
         "2025",
         "October",
         "Manipur",
         "Total",
         "1093",
         "value in Thousands",
         null,
         "1093000"
        ],
        [
         "3807",
         "2025",
         "October",
         "Maharashtra",
         "Total",
         "63463",
         "value in Thousands",
         null,
         "63463000"
        ],
        [
         "3810",
         "2025",
         "October",
         "Madhya Pradesh",
         "Total",
         "26126",
         "value in Thousands",
         null,
         "26126000"
        ],
        [
         "3813",
         "2025",
         "October",
         "Lakshadweep",
         "Total",
         "70",
         "value in Thousands",
         null,
         "70000"
        ],
        [
         "3816",
         "2025",
         "October",
         "Ladakh",
         "Total",
         "100",
         "value in Thousands",
         null,
         "100000"
        ],
        [
         "3819",
         "2025",
         "October",
         "Kerala",
         "Total",
         "29122",
         "value in Thousands",
         null,
         "29122000"
        ],
        [
         "3822",
         "2025",
         "October",
         "Karnataka",
         "Total",
         "31402",
         "value in Thousands",
         null,
         "31402000"
        ],
        [
         "3825",
         "2025",
         "October",
         "Jharkhand",
         "Total",
         "10848",
         "value in Thousands",
         null,
         "10848000"
        ],
        [
         "3828",
         "2025",
         "October",
         "Jammu and Kashmir",
         "Total",
         "4324",
         "value in Thousands",
         null,
         "4324000"
        ],
        [
         "3831",
         "2025",
         "October",
         "Himachal Pradesh",
         "Total",
         "785",
         "value in Thousands",
         null,
         "785000"
        ],
        [
         "3834",
         "2025",
         "October",
         "Haryana",
         "Total",
         "13582",
         "value in Thousands",
         null,
         "13582000"
        ],
        [
         "3837",
         "2025",
         "October",
         "Gujarat",
         "Total",
         "36863",
         "value in Thousands",
         null,
         "36863000"
        ],
        [
         "3840",
         "2025",
         "October",
         "Goa",
         "Total",
         "1252",
         "value in Thousands",
         null,
         "1252000"
        ],
        [
         "3843",
         "2025",
         "October",
         "Delhi",
         "Total",
         "22325",
         "value in Thousands",
         null,
         "22325000"
        ],
        [
         "3846",
         "2025",
         "October",
         "Daman and Diu",
         "Total",
         "665",
         "value in Thousands",
         null,
         "665000"
        ],
        [
         "3849",
         "2025",
         "October",
         "Dadra and Nagar Haveli",
         "Total",
         "596",
         "value in Thousands",
         null,
         "596000"
        ],
        [
         "3852",
         "2025",
         "October",
         "Chhattisgarh",
         "Total",
         "8682",
         "value in Thousands",
         null,
         "8682000"
        ],
        [
         "3855",
         "2025",
         "October",
         "Chandigarh",
         "Total",
         "1262",
         "value in Thousands",
         null,
         "1262000"
        ],
        [
         "3858",
         "2025",
         "October",
         "Bihar",
         "Total",
         "16415",
         "value in Thousands",
         null,
         "16415000"
        ],
        [
         "3861",
         "2025",
         "October",
         "Assam",
         "Total",
         "5807",
         "value in Thousands",
         null,
         "5807000"
        ],
        [
         "3864",
         "2025",
         "October",
         "Arunachal Pradesh",
         "Total",
         "419",
         "value in Thousands",
         null,
         "419000"
        ],
        [
         "3867",
         "2025",
         "October",
         "Andhra Pradesh",
         "Total",
         "20407",
         "value in Thousands",
         null,
         "20407000"
        ],
        [
         "3870",
         "2025",
         "October",
         "Andaman and Nicobar Islands",
         "Total",
         "185",
         "value in Thousands",
         null,
         "185000"
        ],
        [
         "3873",
         "2025",
         "October",
         "All India",
         "Total",
         "509622",
         "value in Thousands",
         null,
         "509622000"
        ],
        [
         "3876",
         "2025",
         "March",
         "West Bengal",
         "Total",
         "37642",
         "value in Thousands",
         null,
         "37642000"
        ],
        [
         "3879",
         "2025",
         "March",
         "Uttarakhand",
         "Total",
         "4373",
         "value in Thousands",
         null,
         "4373000"
        ],
        [
         "3882",
         "2025",
         "March",
         "Uttar Pradesh",
         "Total",
         "58465",
         "value in Thousands",
         null,
         "58465000"
        ],
        [
         "3885",
         "2025",
         "March",
         "Tripura",
         "Total",
         "1750",
         "value in Thousands",
         null,
         "1750000"
        ],
        [
         "3888",
         "2025",
         "March",
         "Telangana",
         "Total",
         "18984",
         "value in Thousands",
         null,
         "18984000"
        ],
        [
         "3891",
         "2025",
         "March",
         "Tamil Nadu",
         "Total",
         "42196",
         "value in Thousands",
         null,
         "42196000"
        ],
        [
         "3894",
         "2025",
         "March",
         "Sikkim",
         "Total",
         "373",
         "value in Thousands",
         null,
         "373000"
        ],
        [
         "3897",
         "2025",
         "March",
         "Rajasthan",
         "Total",
         "22262",
         "value in Thousands",
         null,
         "22262000"
        ],
        [
         "3900",
         "2025",
         "March",
         "Punjab",
         "Total",
         "13243",
         "value in Thousands",
         null,
         "13243000"
        ],
        [
         "3903",
         "2025",
         "March",
         "Puducherry",
         "Total",
         "1212",
         "value in Thousands",
         null,
         "1212000"
        ],
        [
         "3906",
         "2025",
         "March",
         "Odisha",
         "Total",
         "8994",
         "value in Thousands",
         null,
         "8994000"
        ],
        [
         "3909",
         "2025",
         "March",
         "Nagaland",
         "Total",
         "1107",
         "value in Thousands",
         null,
         "1107000"
        ]
       ],
       "shape": {
        "columns": 8,
        "rows": 114
       }
      },
      "text/html": [
       "<div>\n",
       "<style scoped>\n",
       "    .dataframe tbody tr th:only-of-type {\n",
       "        vertical-align: middle;\n",
       "    }\n",
       "\n",
       "    .dataframe tbody tr th {\n",
       "        vertical-align: top;\n",
       "    }\n",
       "\n",
       "    .dataframe thead th {\n",
       "        text-align: right;\n",
       "    }\n",
       "</style>\n",
       "<table border=\"1\" class=\"dataframe\">\n",
       "  <thead>\n",
       "    <tr style=\"text-align: right;\">\n",
       "      <th></th>\n",
       "      <th>year</th>\n",
       "      <th>month</th>\n",
       "      <th>state</th>\n",
       "      <th>gender</th>\n",
       "      <th>value</th>\n",
       "      <th>unit</th>\n",
       "      <th>note</th>\n",
       "      <th>Population</th>\n",
       "    </tr>\n",
       "  </thead>\n",
       "  <tbody>\n",
       "    <tr>\n",
       "      <th>3762</th>\n",
       "      <td>2025</td>\n",
       "      <td>October</td>\n",
       "      <td>West Bengal</td>\n",
       "      <td>Total</td>\n",
       "      <td>37995</td>\n",
       "      <td>value in Thousands</td>\n",
       "      <td>NaN</td>\n",
       "      <td>37995000</td>\n",
       "    </tr>\n",
       "    <tr>\n",
       "      <th>3765</th>\n",
       "      <td>2025</td>\n",
       "      <td>October</td>\n",
       "      <td>Uttarakhand</td>\n",
       "      <td>Total</td>\n",
       "      <td>4431</td>\n",
       "      <td>value in Thousands</td>\n",
       "      <td>NaN</td>\n",
       "      <td>4431000</td>\n",
       "    </tr>\n",
       "    <tr>\n",
       "      <th>3768</th>\n",
       "      <td>2025</td>\n",
       "      <td>October</td>\n",
       "      <td>Uttar Pradesh</td>\n",
       "      <td>Total</td>\n",
       "      <td>59007</td>\n",
       "      <td>value in Thousands</td>\n",
       "      <td>NaN</td>\n",
       "      <td>59007000</td>\n",
       "    </tr>\n",
       "    <tr>\n",
       "      <th>3771</th>\n",
       "      <td>2025</td>\n",
       "      <td>October</td>\n",
       "      <td>Tripura</td>\n",
       "      <td>Total</td>\n",
       "      <td>1787</td>\n",
       "      <td>value in Thousands</td>\n",
       "      <td>NaN</td>\n",
       "      <td>1787000</td>\n",
       "    </tr>\n",
       "    <tr>\n",
       "      <th>3774</th>\n",
       "      <td>2025</td>\n",
       "      <td>October</td>\n",
       "      <td>Telangana</td>\n",
       "      <td>Total</td>\n",
       "      <td>19078</td>\n",
       "      <td>value in Thousands</td>\n",
       "      <td>NaN</td>\n",
       "      <td>19078000</td>\n",
       "    </tr>\n",
       "    <tr>\n",
       "      <th>...</th>\n",
       "      <td>...</td>\n",
       "      <td>...</td>\n",
       "      <td>...</td>\n",
       "      <td>...</td>\n",
       "      <td>...</td>\n",
       "      <td>...</td>\n",
       "      <td>...</td>\n",
       "      <td>...</td>\n",
       "    </tr>\n",
       "    <tr>\n",
       "      <th>4089</th>\n",
       "      <td>2025</td>\n",
       "      <td>July</td>\n",
       "      <td>Assam</td>\n",
       "      <td>Total</td>\n",
       "      <td>5783</td>\n",
       "      <td>value in Thousands</td>\n",
       "      <td>NaN</td>\n",
       "      <td>5783000</td>\n",
       "    </tr>\n",
       "    <tr>\n",
       "      <th>4092</th>\n",
       "      <td>2025</td>\n",
       "      <td>July</td>\n",
       "      <td>Arunachal Pradesh</td>\n",
       "      <td>Total</td>\n",
       "      <td>417</td>\n",
       "      <td>value in Thousands</td>\n",
       "      <td>NaN</td>\n",
       "      <td>417000</td>\n",
       "    </tr>\n",
       "    <tr>\n",
       "      <th>4095</th>\n",
       "      <td>2025</td>\n",
       "      <td>July</td>\n",
       "      <td>Andhra Pradesh</td>\n",
       "      <td>Total</td>\n",
       "      <td>20307</td>\n",
       "      <td>value in Thousands</td>\n",
       "      <td>NaN</td>\n",
       "      <td>20307000</td>\n",
       "    </tr>\n",
       "    <tr>\n",
       "      <th>4098</th>\n",
       "      <td>2025</td>\n",
       "      <td>July</td>\n",
       "      <td>Andaman and Nicobar Islands</td>\n",
       "      <td>Total</td>\n",
       "      <td>184</td>\n",
       "      <td>value in Thousands</td>\n",
       "      <td>NaN</td>\n",
       "      <td>184000</td>\n",
       "    </tr>\n",
       "    <tr>\n",
       "      <th>4101</th>\n",
       "      <td>2025</td>\n",
       "      <td>July</td>\n",
       "      <td>All India</td>\n",
       "      <td>Total</td>\n",
       "      <td>507401</td>\n",
       "      <td>value in Thousands</td>\n",
       "      <td>NaN</td>\n",
       "      <td>507401000</td>\n",
       "    </tr>\n",
       "  </tbody>\n",
       "</table>\n",
       "<p>114 rows × 8 columns</p>\n",
       "</div>"
      ],
      "text/plain": [
       "      year    month                        state gender   value  \\\n",
       "3762  2025  October                  West Bengal  Total   37995   \n",
       "3765  2025  October                  Uttarakhand  Total    4431   \n",
       "3768  2025  October                Uttar Pradesh  Total   59007   \n",
       "3771  2025  October                      Tripura  Total    1787   \n",
       "3774  2025  October                    Telangana  Total   19078   \n",
       "...    ...      ...                          ...    ...     ...   \n",
       "4089  2025     July                        Assam  Total    5783   \n",
       "4092  2025     July            Arunachal Pradesh  Total     417   \n",
       "4095  2025     July               Andhra Pradesh  Total   20307   \n",
       "4098  2025     July  Andaman and Nicobar Islands  Total     184   \n",
       "4101  2025     July                    All India  Total  507401   \n",
       "\n",
       "                    unit  note  Population  \n",
       "3762  value in Thousands   NaN    37995000  \n",
       "3765  value in Thousands   NaN     4431000  \n",
       "3768  value in Thousands   NaN    59007000  \n",
       "3771  value in Thousands   NaN     1787000  \n",
       "3774  value in Thousands   NaN    19078000  \n",
       "...                  ...   ...         ...  \n",
       "4089  value in Thousands   NaN     5783000  \n",
       "4092  value in Thousands   NaN      417000  \n",
       "4095  value in Thousands   NaN    20307000  \n",
       "4098  value in Thousands   NaN      184000  \n",
       "4101  value in Thousands   NaN   507401000  \n",
       "\n",
       "[114 rows x 8 columns]"
      ]
     },
     "execution_count": 21,
     "metadata": {},
     "output_type": "execute_result"
    }
   ],
   "source": [
    "df_cleanpop = df_population[(df_population['year'] == 2025) & (df_population['gender'] == 'Total')].copy()\n",
    "df_cleanpop"
   ]
  },
  {
   "cell_type": "code",
   "execution_count": 22,
   "id": "efac1f68",
   "metadata": {
    "ExecuteTime": {
     "end_time": "2025-08-02T09:11:03.798693Z",
     "start_time": "2025-08-02T09:11:03.788680Z"
    }
   },
   "outputs": [
    {
     "data": {
      "application/vnd.microsoft.datawrangler.viewer.v0+json": {
       "columns": [
        {
         "name": "index",
         "rawType": "int64",
         "type": "integer"
        },
        {
         "name": "year",
         "rawType": "int64",
         "type": "integer"
        },
        {
         "name": "month",
         "rawType": "object",
         "type": "string"
        },
        {
         "name": "state",
         "rawType": "object",
         "type": "string"
        },
        {
         "name": "gender",
         "rawType": "object",
         "type": "string"
        },
        {
         "name": "value",
         "rawType": "int64",
         "type": "integer"
        },
        {
         "name": "Population",
         "rawType": "int64",
         "type": "integer"
        }
       ],
       "ref": "ebee432c-78c5-4ebe-9d73-cf80b2db7dc4",
       "rows": [
        [
         "3762",
         "2025",
         "October",
         "West Bengal",
         "Total",
         "37995",
         "37995000"
        ],
        [
         "3765",
         "2025",
         "October",
         "Uttarakhand",
         "Total",
         "4431",
         "4431000"
        ],
        [
         "3768",
         "2025",
         "October",
         "Uttar Pradesh",
         "Total",
         "59007",
         "59007000"
        ],
        [
         "3771",
         "2025",
         "October",
         "Tripura",
         "Total",
         "1787",
         "1787000"
        ],
        [
         "3774",
         "2025",
         "October",
         "Telangana",
         "Total",
         "19078",
         "19078000"
        ],
        [
         "3777",
         "2025",
         "October",
         "Tamil Nadu",
         "Total",
         "42472",
         "42472000"
        ],
        [
         "3780",
         "2025",
         "October",
         "Sikkim",
         "Total",
         "384",
         "384000"
        ],
        [
         "3783",
         "2025",
         "October",
         "Rajasthan",
         "Total",
         "22468",
         "22468000"
        ],
        [
         "3786",
         "2025",
         "October",
         "Punjab",
         "Total",
         "13359",
         "13359000"
        ],
        [
         "3789",
         "2025",
         "October",
         "Puducherry",
         "Total",
         "1229",
         "1229000"
        ],
        [
         "3792",
         "2025",
         "October",
         "Odisha",
         "Total",
         "9077",
         "9077000"
        ],
        [
         "3795",
         "2025",
         "October",
         "Nagaland",
         "Total",
         "1132",
         "1132000"
        ],
        [
         "3798",
         "2025",
         "October",
         "Mizoram",
         "Total",
         "705",
         "705000"
        ],
        [
         "3801",
         "2025",
         "October",
         "Meghalaya",
         "Total",
         "712",
         "712000"
        ],
        [
         "3804",
         "2025",
         "October",
         "Manipur",
         "Total",
         "1093",
         "1093000"
        ],
        [
         "3807",
         "2025",
         "October",
         "Maharashtra",
         "Total",
         "63463",
         "63463000"
        ],
        [
         "3810",
         "2025",
         "October",
         "Madhya Pradesh",
         "Total",
         "26126",
         "26126000"
        ],
        [
         "3813",
         "2025",
         "October",
         "Lakshadweep",
         "Total",
         "70",
         "70000"
        ],
        [
         "3816",
         "2025",
         "October",
         "Ladakh",
         "Total",
         "100",
         "100000"
        ],
        [
         "3819",
         "2025",
         "October",
         "Kerala",
         "Total",
         "29122",
         "29122000"
        ],
        [
         "3822",
         "2025",
         "October",
         "Karnataka",
         "Total",
         "31402",
         "31402000"
        ],
        [
         "3825",
         "2025",
         "October",
         "Jharkhand",
         "Total",
         "10848",
         "10848000"
        ],
        [
         "3828",
         "2025",
         "October",
         "Jammu and Kashmir",
         "Total",
         "4324",
         "4324000"
        ],
        [
         "3831",
         "2025",
         "October",
         "Himachal Pradesh",
         "Total",
         "785",
         "785000"
        ],
        [
         "3834",
         "2025",
         "October",
         "Haryana",
         "Total",
         "13582",
         "13582000"
        ],
        [
         "3837",
         "2025",
         "October",
         "Gujarat",
         "Total",
         "36863",
         "36863000"
        ],
        [
         "3840",
         "2025",
         "October",
         "Goa",
         "Total",
         "1252",
         "1252000"
        ],
        [
         "3843",
         "2025",
         "October",
         "Delhi",
         "Total",
         "22325",
         "22325000"
        ],
        [
         "3846",
         "2025",
         "October",
         "Daman and Diu",
         "Total",
         "665",
         "665000"
        ],
        [
         "3849",
         "2025",
         "October",
         "Dadra and Nagar Haveli",
         "Total",
         "596",
         "596000"
        ],
        [
         "3852",
         "2025",
         "October",
         "Chhattisgarh",
         "Total",
         "8682",
         "8682000"
        ],
        [
         "3855",
         "2025",
         "October",
         "Chandigarh",
         "Total",
         "1262",
         "1262000"
        ],
        [
         "3858",
         "2025",
         "October",
         "Bihar",
         "Total",
         "16415",
         "16415000"
        ],
        [
         "3861",
         "2025",
         "October",
         "Assam",
         "Total",
         "5807",
         "5807000"
        ],
        [
         "3864",
         "2025",
         "October",
         "Arunachal Pradesh",
         "Total",
         "419",
         "419000"
        ],
        [
         "3867",
         "2025",
         "October",
         "Andhra Pradesh",
         "Total",
         "20407",
         "20407000"
        ],
        [
         "3870",
         "2025",
         "October",
         "Andaman and Nicobar Islands",
         "Total",
         "185",
         "185000"
        ],
        [
         "3873",
         "2025",
         "October",
         "All India",
         "Total",
         "509622",
         "509622000"
        ],
        [
         "3876",
         "2025",
         "March",
         "West Bengal",
         "Total",
         "37642",
         "37642000"
        ],
        [
         "3879",
         "2025",
         "March",
         "Uttarakhand",
         "Total",
         "4373",
         "4373000"
        ],
        [
         "3882",
         "2025",
         "March",
         "Uttar Pradesh",
         "Total",
         "58465",
         "58465000"
        ],
        [
         "3885",
         "2025",
         "March",
         "Tripura",
         "Total",
         "1750",
         "1750000"
        ],
        [
         "3888",
         "2025",
         "March",
         "Telangana",
         "Total",
         "18984",
         "18984000"
        ],
        [
         "3891",
         "2025",
         "March",
         "Tamil Nadu",
         "Total",
         "42196",
         "42196000"
        ],
        [
         "3894",
         "2025",
         "March",
         "Sikkim",
         "Total",
         "373",
         "373000"
        ],
        [
         "3897",
         "2025",
         "March",
         "Rajasthan",
         "Total",
         "22262",
         "22262000"
        ],
        [
         "3900",
         "2025",
         "March",
         "Punjab",
         "Total",
         "13243",
         "13243000"
        ],
        [
         "3903",
         "2025",
         "March",
         "Puducherry",
         "Total",
         "1212",
         "1212000"
        ],
        [
         "3906",
         "2025",
         "March",
         "Odisha",
         "Total",
         "8994",
         "8994000"
        ],
        [
         "3909",
         "2025",
         "March",
         "Nagaland",
         "Total",
         "1107",
         "1107000"
        ]
       ],
       "shape": {
        "columns": 6,
        "rows": 114
       }
      },
      "text/html": [
       "<div>\n",
       "<style scoped>\n",
       "    .dataframe tbody tr th:only-of-type {\n",
       "        vertical-align: middle;\n",
       "    }\n",
       "\n",
       "    .dataframe tbody tr th {\n",
       "        vertical-align: top;\n",
       "    }\n",
       "\n",
       "    .dataframe thead th {\n",
       "        text-align: right;\n",
       "    }\n",
       "</style>\n",
       "<table border=\"1\" class=\"dataframe\">\n",
       "  <thead>\n",
       "    <tr style=\"text-align: right;\">\n",
       "      <th></th>\n",
       "      <th>year</th>\n",
       "      <th>month</th>\n",
       "      <th>state</th>\n",
       "      <th>gender</th>\n",
       "      <th>value</th>\n",
       "      <th>Population</th>\n",
       "    </tr>\n",
       "  </thead>\n",
       "  <tbody>\n",
       "    <tr>\n",
       "      <th>3762</th>\n",
       "      <td>2025</td>\n",
       "      <td>October</td>\n",
       "      <td>West Bengal</td>\n",
       "      <td>Total</td>\n",
       "      <td>37995</td>\n",
       "      <td>37995000</td>\n",
       "    </tr>\n",
       "    <tr>\n",
       "      <th>3765</th>\n",
       "      <td>2025</td>\n",
       "      <td>October</td>\n",
       "      <td>Uttarakhand</td>\n",
       "      <td>Total</td>\n",
       "      <td>4431</td>\n",
       "      <td>4431000</td>\n",
       "    </tr>\n",
       "    <tr>\n",
       "      <th>3768</th>\n",
       "      <td>2025</td>\n",
       "      <td>October</td>\n",
       "      <td>Uttar Pradesh</td>\n",
       "      <td>Total</td>\n",
       "      <td>59007</td>\n",
       "      <td>59007000</td>\n",
       "    </tr>\n",
       "    <tr>\n",
       "      <th>3771</th>\n",
       "      <td>2025</td>\n",
       "      <td>October</td>\n",
       "      <td>Tripura</td>\n",
       "      <td>Total</td>\n",
       "      <td>1787</td>\n",
       "      <td>1787000</td>\n",
       "    </tr>\n",
       "    <tr>\n",
       "      <th>3774</th>\n",
       "      <td>2025</td>\n",
       "      <td>October</td>\n",
       "      <td>Telangana</td>\n",
       "      <td>Total</td>\n",
       "      <td>19078</td>\n",
       "      <td>19078000</td>\n",
       "    </tr>\n",
       "    <tr>\n",
       "      <th>...</th>\n",
       "      <td>...</td>\n",
       "      <td>...</td>\n",
       "      <td>...</td>\n",
       "      <td>...</td>\n",
       "      <td>...</td>\n",
       "      <td>...</td>\n",
       "    </tr>\n",
       "    <tr>\n",
       "      <th>4089</th>\n",
       "      <td>2025</td>\n",
       "      <td>July</td>\n",
       "      <td>Assam</td>\n",
       "      <td>Total</td>\n",
       "      <td>5783</td>\n",
       "      <td>5783000</td>\n",
       "    </tr>\n",
       "    <tr>\n",
       "      <th>4092</th>\n",
       "      <td>2025</td>\n",
       "      <td>July</td>\n",
       "      <td>Arunachal Pradesh</td>\n",
       "      <td>Total</td>\n",
       "      <td>417</td>\n",
       "      <td>417000</td>\n",
       "    </tr>\n",
       "    <tr>\n",
       "      <th>4095</th>\n",
       "      <td>2025</td>\n",
       "      <td>July</td>\n",
       "      <td>Andhra Pradesh</td>\n",
       "      <td>Total</td>\n",
       "      <td>20307</td>\n",
       "      <td>20307000</td>\n",
       "    </tr>\n",
       "    <tr>\n",
       "      <th>4098</th>\n",
       "      <td>2025</td>\n",
       "      <td>July</td>\n",
       "      <td>Andaman and Nicobar Islands</td>\n",
       "      <td>Total</td>\n",
       "      <td>184</td>\n",
       "      <td>184000</td>\n",
       "    </tr>\n",
       "    <tr>\n",
       "      <th>4101</th>\n",
       "      <td>2025</td>\n",
       "      <td>July</td>\n",
       "      <td>All India</td>\n",
       "      <td>Total</td>\n",
       "      <td>507401</td>\n",
       "      <td>507401000</td>\n",
       "    </tr>\n",
       "  </tbody>\n",
       "</table>\n",
       "<p>114 rows × 6 columns</p>\n",
       "</div>"
      ],
      "text/plain": [
       "      year    month                        state gender   value  Population\n",
       "3762  2025  October                  West Bengal  Total   37995    37995000\n",
       "3765  2025  October                  Uttarakhand  Total    4431     4431000\n",
       "3768  2025  October                Uttar Pradesh  Total   59007    59007000\n",
       "3771  2025  October                      Tripura  Total    1787     1787000\n",
       "3774  2025  October                    Telangana  Total   19078    19078000\n",
       "...    ...      ...                          ...    ...     ...         ...\n",
       "4089  2025     July                        Assam  Total    5783     5783000\n",
       "4092  2025     July            Arunachal Pradesh  Total     417      417000\n",
       "4095  2025     July               Andhra Pradesh  Total   20307    20307000\n",
       "4098  2025     July  Andaman and Nicobar Islands  Total     184      184000\n",
       "4101  2025     July                    All India  Total  507401   507401000\n",
       "\n",
       "[114 rows x 6 columns]"
      ]
     },
     "execution_count": 22,
     "metadata": {},
     "output_type": "execute_result"
    }
   ],
   "source": [
    "df_cleanpop.drop(columns=['unit','note'],inplace=True)\n",
    "df_cleanpop"
   ]
  },
  {
   "cell_type": "code",
   "execution_count": 23,
   "id": "48f64096",
   "metadata": {
    "ExecuteTime": {
     "end_time": "2025-08-02T09:11:07.006862Z",
     "start_time": "2025-08-02T09:11:07.003446Z"
    }
   },
   "outputs": [],
   "source": [
    "df_population['Population'] = df_population['value']*1000"
   ]
  },
  {
   "cell_type": "code",
   "execution_count": 24,
   "id": "15c37952",
   "metadata": {
    "ExecuteTime": {
     "end_time": "2025-08-02T09:11:09.499097Z",
     "start_time": "2025-08-02T09:11:09.490245Z"
    }
   },
   "outputs": [
    {
     "data": {
      "application/vnd.microsoft.datawrangler.viewer.v0+json": {
       "columns": [
        {
         "name": "index",
         "rawType": "int64",
         "type": "integer"
        },
        {
         "name": "year",
         "rawType": "int64",
         "type": "integer"
        },
        {
         "name": "month",
         "rawType": "object",
         "type": "string"
        },
        {
         "name": "state",
         "rawType": "object",
         "type": "string"
        },
        {
         "name": "gender",
         "rawType": "object",
         "type": "string"
        },
        {
         "name": "value",
         "rawType": "int64",
         "type": "integer"
        },
        {
         "name": "Population",
         "rawType": "int64",
         "type": "integer"
        }
       ],
       "ref": "76f6a799-8990-40f6-90bf-d49eacf9b611",
       "rows": [
        [
         "3762",
         "2025",
         "October",
         "West Bengal",
         "Total",
         "37995",
         "37995000"
        ],
        [
         "3765",
         "2025",
         "October",
         "Uttarakhand",
         "Total",
         "4431",
         "4431000"
        ],
        [
         "3768",
         "2025",
         "October",
         "Uttar Pradesh",
         "Total",
         "59007",
         "59007000"
        ],
        [
         "3771",
         "2025",
         "October",
         "Tripura",
         "Total",
         "1787",
         "1787000"
        ],
        [
         "3774",
         "2025",
         "October",
         "Telangana",
         "Total",
         "19078",
         "19078000"
        ],
        [
         "3777",
         "2025",
         "October",
         "Tamil Nadu",
         "Total",
         "42472",
         "42472000"
        ],
        [
         "3780",
         "2025",
         "October",
         "Sikkim",
         "Total",
         "384",
         "384000"
        ],
        [
         "3783",
         "2025",
         "October",
         "Rajasthan",
         "Total",
         "22468",
         "22468000"
        ],
        [
         "3786",
         "2025",
         "October",
         "Punjab",
         "Total",
         "13359",
         "13359000"
        ],
        [
         "3789",
         "2025",
         "October",
         "Puducherry",
         "Total",
         "1229",
         "1229000"
        ],
        [
         "3792",
         "2025",
         "October",
         "Odisha",
         "Total",
         "9077",
         "9077000"
        ],
        [
         "3795",
         "2025",
         "October",
         "Nagaland",
         "Total",
         "1132",
         "1132000"
        ],
        [
         "3798",
         "2025",
         "October",
         "Mizoram",
         "Total",
         "705",
         "705000"
        ],
        [
         "3801",
         "2025",
         "October",
         "Meghalaya",
         "Total",
         "712",
         "712000"
        ],
        [
         "3804",
         "2025",
         "October",
         "Manipur",
         "Total",
         "1093",
         "1093000"
        ],
        [
         "3807",
         "2025",
         "October",
         "Maharashtra",
         "Total",
         "63463",
         "63463000"
        ],
        [
         "3810",
         "2025",
         "October",
         "Madhya Pradesh",
         "Total",
         "26126",
         "26126000"
        ],
        [
         "3813",
         "2025",
         "October",
         "Lakshadweep",
         "Total",
         "70",
         "70000"
        ],
        [
         "3816",
         "2025",
         "October",
         "Ladakh",
         "Total",
         "100",
         "100000"
        ],
        [
         "3819",
         "2025",
         "October",
         "Kerala",
         "Total",
         "29122",
         "29122000"
        ],
        [
         "3822",
         "2025",
         "October",
         "Karnataka",
         "Total",
         "31402",
         "31402000"
        ],
        [
         "3825",
         "2025",
         "October",
         "Jharkhand",
         "Total",
         "10848",
         "10848000"
        ],
        [
         "3828",
         "2025",
         "October",
         "Jammu and Kashmir",
         "Total",
         "4324",
         "4324000"
        ],
        [
         "3831",
         "2025",
         "October",
         "Himachal Pradesh",
         "Total",
         "785",
         "785000"
        ],
        [
         "3834",
         "2025",
         "October",
         "Haryana",
         "Total",
         "13582",
         "13582000"
        ],
        [
         "3837",
         "2025",
         "October",
         "Gujarat",
         "Total",
         "36863",
         "36863000"
        ],
        [
         "3840",
         "2025",
         "October",
         "Goa",
         "Total",
         "1252",
         "1252000"
        ],
        [
         "3843",
         "2025",
         "October",
         "Delhi",
         "Total",
         "22325",
         "22325000"
        ],
        [
         "3846",
         "2025",
         "October",
         "Daman and Diu",
         "Total",
         "665",
         "665000"
        ],
        [
         "3849",
         "2025",
         "October",
         "Dadra and Nagar Haveli",
         "Total",
         "596",
         "596000"
        ],
        [
         "3852",
         "2025",
         "October",
         "Chhattisgarh",
         "Total",
         "8682",
         "8682000"
        ],
        [
         "3855",
         "2025",
         "October",
         "Chandigarh",
         "Total",
         "1262",
         "1262000"
        ],
        [
         "3858",
         "2025",
         "October",
         "Bihar",
         "Total",
         "16415",
         "16415000"
        ],
        [
         "3861",
         "2025",
         "October",
         "Assam",
         "Total",
         "5807",
         "5807000"
        ],
        [
         "3864",
         "2025",
         "October",
         "Arunachal Pradesh",
         "Total",
         "419",
         "419000"
        ],
        [
         "3867",
         "2025",
         "October",
         "Andhra Pradesh",
         "Total",
         "20407",
         "20407000"
        ],
        [
         "3870",
         "2025",
         "October",
         "Andaman and Nicobar Islands",
         "Total",
         "185",
         "185000"
        ],
        [
         "3873",
         "2025",
         "October",
         "All India",
         "Total",
         "509622",
         "509622000"
        ],
        [
         "3876",
         "2025",
         "March",
         "West Bengal",
         "Total",
         "37642",
         "37642000"
        ],
        [
         "3879",
         "2025",
         "March",
         "Uttarakhand",
         "Total",
         "4373",
         "4373000"
        ],
        [
         "3882",
         "2025",
         "March",
         "Uttar Pradesh",
         "Total",
         "58465",
         "58465000"
        ],
        [
         "3885",
         "2025",
         "March",
         "Tripura",
         "Total",
         "1750",
         "1750000"
        ],
        [
         "3888",
         "2025",
         "March",
         "Telangana",
         "Total",
         "18984",
         "18984000"
        ],
        [
         "3891",
         "2025",
         "March",
         "Tamil Nadu",
         "Total",
         "42196",
         "42196000"
        ],
        [
         "3894",
         "2025",
         "March",
         "Sikkim",
         "Total",
         "373",
         "373000"
        ],
        [
         "3897",
         "2025",
         "March",
         "Rajasthan",
         "Total",
         "22262",
         "22262000"
        ],
        [
         "3900",
         "2025",
         "March",
         "Punjab",
         "Total",
         "13243",
         "13243000"
        ],
        [
         "3903",
         "2025",
         "March",
         "Puducherry",
         "Total",
         "1212",
         "1212000"
        ],
        [
         "3906",
         "2025",
         "March",
         "Odisha",
         "Total",
         "8994",
         "8994000"
        ],
        [
         "3909",
         "2025",
         "March",
         "Nagaland",
         "Total",
         "1107",
         "1107000"
        ]
       ],
       "shape": {
        "columns": 6,
        "rows": 114
       }
      },
      "text/html": [
       "<div>\n",
       "<style scoped>\n",
       "    .dataframe tbody tr th:only-of-type {\n",
       "        vertical-align: middle;\n",
       "    }\n",
       "\n",
       "    .dataframe tbody tr th {\n",
       "        vertical-align: top;\n",
       "    }\n",
       "\n",
       "    .dataframe thead th {\n",
       "        text-align: right;\n",
       "    }\n",
       "</style>\n",
       "<table border=\"1\" class=\"dataframe\">\n",
       "  <thead>\n",
       "    <tr style=\"text-align: right;\">\n",
       "      <th></th>\n",
       "      <th>year</th>\n",
       "      <th>month</th>\n",
       "      <th>state</th>\n",
       "      <th>gender</th>\n",
       "      <th>value</th>\n",
       "      <th>Population</th>\n",
       "    </tr>\n",
       "  </thead>\n",
       "  <tbody>\n",
       "    <tr>\n",
       "      <th>3762</th>\n",
       "      <td>2025</td>\n",
       "      <td>October</td>\n",
       "      <td>West Bengal</td>\n",
       "      <td>Total</td>\n",
       "      <td>37995</td>\n",
       "      <td>37995000</td>\n",
       "    </tr>\n",
       "    <tr>\n",
       "      <th>3765</th>\n",
       "      <td>2025</td>\n",
       "      <td>October</td>\n",
       "      <td>Uttarakhand</td>\n",
       "      <td>Total</td>\n",
       "      <td>4431</td>\n",
       "      <td>4431000</td>\n",
       "    </tr>\n",
       "    <tr>\n",
       "      <th>3768</th>\n",
       "      <td>2025</td>\n",
       "      <td>October</td>\n",
       "      <td>Uttar Pradesh</td>\n",
       "      <td>Total</td>\n",
       "      <td>59007</td>\n",
       "      <td>59007000</td>\n",
       "    </tr>\n",
       "    <tr>\n",
       "      <th>3771</th>\n",
       "      <td>2025</td>\n",
       "      <td>October</td>\n",
       "      <td>Tripura</td>\n",
       "      <td>Total</td>\n",
       "      <td>1787</td>\n",
       "      <td>1787000</td>\n",
       "    </tr>\n",
       "    <tr>\n",
       "      <th>3774</th>\n",
       "      <td>2025</td>\n",
       "      <td>October</td>\n",
       "      <td>Telangana</td>\n",
       "      <td>Total</td>\n",
       "      <td>19078</td>\n",
       "      <td>19078000</td>\n",
       "    </tr>\n",
       "    <tr>\n",
       "      <th>...</th>\n",
       "      <td>...</td>\n",
       "      <td>...</td>\n",
       "      <td>...</td>\n",
       "      <td>...</td>\n",
       "      <td>...</td>\n",
       "      <td>...</td>\n",
       "    </tr>\n",
       "    <tr>\n",
       "      <th>4089</th>\n",
       "      <td>2025</td>\n",
       "      <td>July</td>\n",
       "      <td>Assam</td>\n",
       "      <td>Total</td>\n",
       "      <td>5783</td>\n",
       "      <td>5783000</td>\n",
       "    </tr>\n",
       "    <tr>\n",
       "      <th>4092</th>\n",
       "      <td>2025</td>\n",
       "      <td>July</td>\n",
       "      <td>Arunachal Pradesh</td>\n",
       "      <td>Total</td>\n",
       "      <td>417</td>\n",
       "      <td>417000</td>\n",
       "    </tr>\n",
       "    <tr>\n",
       "      <th>4095</th>\n",
       "      <td>2025</td>\n",
       "      <td>July</td>\n",
       "      <td>Andhra Pradesh</td>\n",
       "      <td>Total</td>\n",
       "      <td>20307</td>\n",
       "      <td>20307000</td>\n",
       "    </tr>\n",
       "    <tr>\n",
       "      <th>4098</th>\n",
       "      <td>2025</td>\n",
       "      <td>July</td>\n",
       "      <td>Andaman and Nicobar Islands</td>\n",
       "      <td>Total</td>\n",
       "      <td>184</td>\n",
       "      <td>184000</td>\n",
       "    </tr>\n",
       "    <tr>\n",
       "      <th>4101</th>\n",
       "      <td>2025</td>\n",
       "      <td>July</td>\n",
       "      <td>All India</td>\n",
       "      <td>Total</td>\n",
       "      <td>507401</td>\n",
       "      <td>507401000</td>\n",
       "    </tr>\n",
       "  </tbody>\n",
       "</table>\n",
       "<p>114 rows × 6 columns</p>\n",
       "</div>"
      ],
      "text/plain": [
       "      year    month                        state gender   value  Population\n",
       "3762  2025  October                  West Bengal  Total   37995    37995000\n",
       "3765  2025  October                  Uttarakhand  Total    4431     4431000\n",
       "3768  2025  October                Uttar Pradesh  Total   59007    59007000\n",
       "3771  2025  October                      Tripura  Total    1787     1787000\n",
       "3774  2025  October                    Telangana  Total   19078    19078000\n",
       "...    ...      ...                          ...    ...     ...         ...\n",
       "4089  2025     July                        Assam  Total    5783     5783000\n",
       "4092  2025     July            Arunachal Pradesh  Total     417      417000\n",
       "4095  2025     July               Andhra Pradesh  Total   20307    20307000\n",
       "4098  2025     July  Andaman and Nicobar Islands  Total     184      184000\n",
       "4101  2025     July                    All India  Total  507401   507401000\n",
       "\n",
       "[114 rows x 6 columns]"
      ]
     },
     "execution_count": 24,
     "metadata": {},
     "output_type": "execute_result"
    }
   ],
   "source": [
    "df_cleanpop"
   ]
  },
  {
   "cell_type": "code",
   "execution_count": 25,
   "id": "fbc275a9",
   "metadata": {
    "ExecuteTime": {
     "end_time": "2025-08-02T09:11:12.676345Z",
     "start_time": "2025-08-02T09:11:12.667181Z"
    }
   },
   "outputs": [
    {
     "data": {
      "application/vnd.microsoft.datawrangler.viewer.v0+json": {
       "columns": [
        {
         "name": "index",
         "rawType": "int64",
         "type": "integer"
        },
        {
         "name": "state",
         "rawType": "object",
         "type": "string"
        },
        {
         "name": "Population",
         "rawType": "int64",
         "type": "integer"
        }
       ],
       "ref": "6ea1be3d-925c-49c1-b71f-6f4f5d7a7f2b",
       "rows": [
        [
         "3762",
         "West Bengal",
         "37995000"
        ],
        [
         "3765",
         "Uttarakhand",
         "4431000"
        ],
        [
         "3768",
         "Uttar Pradesh",
         "59007000"
        ],
        [
         "3771",
         "Tripura",
         "1787000"
        ],
        [
         "3774",
         "Telangana",
         "19078000"
        ],
        [
         "3777",
         "Tamil Nadu",
         "42472000"
        ],
        [
         "3780",
         "Sikkim",
         "384000"
        ],
        [
         "3783",
         "Rajasthan",
         "22468000"
        ],
        [
         "3786",
         "Punjab",
         "13359000"
        ],
        [
         "3789",
         "Puducherry",
         "1229000"
        ],
        [
         "3792",
         "Odisha",
         "9077000"
        ],
        [
         "3795",
         "Nagaland",
         "1132000"
        ],
        [
         "3798",
         "Mizoram",
         "705000"
        ],
        [
         "3801",
         "Meghalaya",
         "712000"
        ],
        [
         "3804",
         "Manipur",
         "1093000"
        ],
        [
         "3807",
         "Maharashtra",
         "63463000"
        ],
        [
         "3810",
         "Madhya Pradesh",
         "26126000"
        ],
        [
         "3813",
         "Lakshadweep",
         "70000"
        ],
        [
         "3816",
         "Ladakh",
         "100000"
        ],
        [
         "3819",
         "Kerala",
         "29122000"
        ],
        [
         "3822",
         "Karnataka",
         "31402000"
        ],
        [
         "3825",
         "Jharkhand",
         "10848000"
        ],
        [
         "3828",
         "Jammu and Kashmir",
         "4324000"
        ],
        [
         "3831",
         "Himachal Pradesh",
         "785000"
        ],
        [
         "3834",
         "Haryana",
         "13582000"
        ],
        [
         "3837",
         "Gujarat",
         "36863000"
        ],
        [
         "3840",
         "Goa",
         "1252000"
        ],
        [
         "3843",
         "Delhi",
         "22325000"
        ],
        [
         "3846",
         "Daman and Diu",
         "665000"
        ],
        [
         "3849",
         "Dadra and Nagar Haveli",
         "596000"
        ],
        [
         "3852",
         "Chhattisgarh",
         "8682000"
        ],
        [
         "3855",
         "Chandigarh",
         "1262000"
        ],
        [
         "3858",
         "Bihar",
         "16415000"
        ],
        [
         "3861",
         "Assam",
         "5807000"
        ],
        [
         "3864",
         "Arunachal Pradesh",
         "419000"
        ],
        [
         "3867",
         "Andhra Pradesh",
         "20407000"
        ],
        [
         "3870",
         "Andaman and Nicobar Islands",
         "185000"
        ],
        [
         "3873",
         "All India",
         "509622000"
        ],
        [
         "3876",
         "West Bengal",
         "37642000"
        ],
        [
         "3879",
         "Uttarakhand",
         "4373000"
        ],
        [
         "3882",
         "Uttar Pradesh",
         "58465000"
        ],
        [
         "3885",
         "Tripura",
         "1750000"
        ],
        [
         "3888",
         "Telangana",
         "18984000"
        ],
        [
         "3891",
         "Tamil Nadu",
         "42196000"
        ],
        [
         "3894",
         "Sikkim",
         "373000"
        ],
        [
         "3897",
         "Rajasthan",
         "22262000"
        ],
        [
         "3900",
         "Punjab",
         "13243000"
        ],
        [
         "3903",
         "Puducherry",
         "1212000"
        ],
        [
         "3906",
         "Odisha",
         "8994000"
        ],
        [
         "3909",
         "Nagaland",
         "1107000"
        ]
       ],
       "shape": {
        "columns": 2,
        "rows": 114
       }
      },
      "text/html": [
       "<div>\n",
       "<style scoped>\n",
       "    .dataframe tbody tr th:only-of-type {\n",
       "        vertical-align: middle;\n",
       "    }\n",
       "\n",
       "    .dataframe tbody tr th {\n",
       "        vertical-align: top;\n",
       "    }\n",
       "\n",
       "    .dataframe thead th {\n",
       "        text-align: right;\n",
       "    }\n",
       "</style>\n",
       "<table border=\"1\" class=\"dataframe\">\n",
       "  <thead>\n",
       "    <tr style=\"text-align: right;\">\n",
       "      <th></th>\n",
       "      <th>state</th>\n",
       "      <th>Population</th>\n",
       "    </tr>\n",
       "  </thead>\n",
       "  <tbody>\n",
       "    <tr>\n",
       "      <th>3762</th>\n",
       "      <td>West Bengal</td>\n",
       "      <td>37995000</td>\n",
       "    </tr>\n",
       "    <tr>\n",
       "      <th>3765</th>\n",
       "      <td>Uttarakhand</td>\n",
       "      <td>4431000</td>\n",
       "    </tr>\n",
       "    <tr>\n",
       "      <th>3768</th>\n",
       "      <td>Uttar Pradesh</td>\n",
       "      <td>59007000</td>\n",
       "    </tr>\n",
       "    <tr>\n",
       "      <th>3771</th>\n",
       "      <td>Tripura</td>\n",
       "      <td>1787000</td>\n",
       "    </tr>\n",
       "    <tr>\n",
       "      <th>3774</th>\n",
       "      <td>Telangana</td>\n",
       "      <td>19078000</td>\n",
       "    </tr>\n",
       "    <tr>\n",
       "      <th>...</th>\n",
       "      <td>...</td>\n",
       "      <td>...</td>\n",
       "    </tr>\n",
       "    <tr>\n",
       "      <th>4089</th>\n",
       "      <td>Assam</td>\n",
       "      <td>5783000</td>\n",
       "    </tr>\n",
       "    <tr>\n",
       "      <th>4092</th>\n",
       "      <td>Arunachal Pradesh</td>\n",
       "      <td>417000</td>\n",
       "    </tr>\n",
       "    <tr>\n",
       "      <th>4095</th>\n",
       "      <td>Andhra Pradesh</td>\n",
       "      <td>20307000</td>\n",
       "    </tr>\n",
       "    <tr>\n",
       "      <th>4098</th>\n",
       "      <td>Andaman and Nicobar Islands</td>\n",
       "      <td>184000</td>\n",
       "    </tr>\n",
       "    <tr>\n",
       "      <th>4101</th>\n",
       "      <td>All India</td>\n",
       "      <td>507401000</td>\n",
       "    </tr>\n",
       "  </tbody>\n",
       "</table>\n",
       "<p>114 rows × 2 columns</p>\n",
       "</div>"
      ],
      "text/plain": [
       "                            state  Population\n",
       "3762                  West Bengal    37995000\n",
       "3765                  Uttarakhand     4431000\n",
       "3768                Uttar Pradesh    59007000\n",
       "3771                      Tripura     1787000\n",
       "3774                    Telangana    19078000\n",
       "...                           ...         ...\n",
       "4089                        Assam     5783000\n",
       "4092            Arunachal Pradesh      417000\n",
       "4095               Andhra Pradesh    20307000\n",
       "4098  Andaman and Nicobar Islands      184000\n",
       "4101                    All India   507401000\n",
       "\n",
       "[114 rows x 2 columns]"
      ]
     },
     "execution_count": 25,
     "metadata": {},
     "output_type": "execute_result"
    }
   ],
   "source": [
    "df_final_cleanpop = df_cleanpop[['state','Population']]\n",
    "df_final_cleanpop"
   ]
  },
  {
   "cell_type": "markdown",
   "id": "a662c1fc",
   "metadata": {},
   "source": [
    "# HEALTHDATA\n"
   ]
  },
  {
   "cell_type": "code",
   "execution_count": 26,
   "id": "80e45567",
   "metadata": {
    "ExecuteTime": {
     "end_time": "2025-08-02T09:12:22.011062Z",
     "start_time": "2025-08-02T09:12:21.993082Z"
    }
   },
   "outputs": [],
   "source": [
    "df_health = pd.read_csv('idsp.csv',encoding='latin1')\n"
   ]
  },
  {
   "cell_type": "code",
   "execution_count": 27,
   "id": "d0dd52da",
   "metadata": {
    "ExecuteTime": {
     "end_time": "2025-08-02T09:12:22.761325Z",
     "start_time": "2025-08-02T09:12:22.748770Z"
    }
   },
   "outputs": [
    {
     "data": {
      "application/vnd.microsoft.datawrangler.viewer.v0+json": {
       "columns": [
        {
         "name": "index",
         "rawType": "int64",
         "type": "integer"
        },
        {
         "name": "year",
         "rawType": "int64",
         "type": "integer"
        },
        {
         "name": "week",
         "rawType": "int64",
         "type": "integer"
        },
        {
         "name": "outbreak_starting_date",
         "rawType": "object",
         "type": "string"
        },
        {
         "name": "reporting_date",
         "rawType": "object",
         "type": "unknown"
        },
        {
         "name": "state",
         "rawType": "object",
         "type": "string"
        },
        {
         "name": "district",
         "rawType": "object",
         "type": "unknown"
        },
        {
         "name": "disease_illness_name",
         "rawType": "object",
         "type": "unknown"
        },
        {
         "name": "status",
         "rawType": "object",
         "type": "string"
        },
        {
         "name": "cases",
         "rawType": "int64",
         "type": "integer"
        },
        {
         "name": "deaths",
         "rawType": "int64",
         "type": "integer"
        },
        {
         "name": "unit",
         "rawType": "object",
         "type": "string"
        },
        {
         "name": "note",
         "rawType": "object",
         "type": "unknown"
        }
       ],
       "ref": "2c8e6e4e-4520-4140-9c1d-45cac0fc1217",
       "rows": [
        [
         "0",
         "2025",
         "16",
         "15-04-2025",
         "15-04-2025",
         "Andhra Pradesh",
         "Kakinada",
         "Acute Diarrheal Disease",
         "Reported",
         "22",
         "0",
         "cases in absolute number, deaths in absolute number",
         null
        ],
        [
         "1",
         "2025",
         "16",
         "15-04-2025",
         "17-04-2025",
         "Assam",
         "Biswanath",
         "Chickenpox",
         "Reported",
         "1",
         "1",
         "cases in absolute number, deaths in absolute number",
         null
        ],
        [
         "2",
         "2025",
         "16",
         "19-04-2025",
         "20-04-2025",
         "Assam",
         "Dhemaji",
         "Food Poisoning",
         "Reported",
         "16",
         "0",
         "cases in absolute number, deaths in absolute number",
         null
        ],
        [
         "3",
         "2025",
         "16",
         "19-04-2025",
         "19-04-2025",
         "Bihar",
         "Gopalganj",
         "Fever with Rash",
         "Reported",
         "5",
         "0",
         "cases in absolute number, deaths in absolute number",
         null
        ],
        [
         "4",
         "2025",
         "16",
         "12-04-2025",
         "15-04-2025",
         "Bihar",
         "Madhubani",
         "Acute Diarrheal Disease",
         "Reported",
         "21",
         "0",
         "cases in absolute number, deaths in absolute number",
         null
        ],
        [
         "5",
         "2025",
         "16",
         "15-04-2025",
         "16-04-2025",
         "Bihar",
         "Patna",
         "Chickenpox",
         "Reported",
         "8",
         "1",
         "cases in absolute number, deaths in absolute number",
         null
        ],
        [
         "6",
         "2025",
         "16",
         "19-04-2025",
         "19-04-2025",
         "Bihar",
         "Vaishali",
         "Chickenpox",
         "Reported",
         "9",
         "0",
         "cases in absolute number, deaths in absolute number",
         null
        ],
        [
         "7",
         "2025",
         "16",
         "15-04-2025",
         "15-04-2025",
         "Chhattisgarh",
         "Surguja",
         "Food Poisoning",
         "Reported",
         "12",
         "0",
         "cases in absolute number, deaths in absolute number",
         null
        ],
        [
         "8",
         "2025",
         "16",
         "16-04-2025",
         "16-04-2025",
         "Gujarat",
         "Narmada",
         "Measles",
         "Reported",
         "17",
         "0",
         "cases in absolute number, deaths in absolute number",
         null
        ],
        [
         "9",
         "2025",
         "16",
         "18-04-2025",
         "19-04-2025",
         "Gujarat",
         "Rajkot",
         "Acute Diarrheal Disease",
         "Reported",
         "13",
         "0",
         "cases in absolute number, deaths in absolute number",
         null
        ],
        [
         "10",
         "2025",
         "16",
         "16-04-2025",
         "16-04-2025",
         "Haryana",
         "Kurukshetra",
         "Hepatitis A",
         "Reported",
         "18",
         "0",
         "cases in absolute number, deaths in absolute number",
         null
        ],
        [
         "11",
         "2025",
         "16",
         "17-04-2025",
         "17-04-2025",
         "Haryana",
         "Nuh",
         "Chickenpox",
         "Reported",
         "28",
         "0",
         "cases in absolute number, deaths in absolute number",
         null
        ],
        [
         "12",
         "2025",
         "16",
         "18-04-2025",
         "19-04-2025",
         "Jammu and Kashmir",
         "Baramulla",
         "Hepatitis A",
         "Reported",
         "26",
         "0",
         "cases in absolute number, deaths in absolute number",
         null
        ],
        [
         "13",
         "2025",
         "16",
         "16-04-2025",
         "16-04-2025",
         "Jammu and Kashmir",
         "Kulgam",
         "Typhoid",
         "Reported",
         "47",
         "0",
         "cases in absolute number, deaths in absolute number",
         null
        ],
        [
         "14",
         "2025",
         "16",
         "15-04-2025",
         "16-04-2025",
         "Jharkhand",
         "Giridih",
         "Chickenpox",
         "Reported",
         "9",
         "0",
         "cases in absolute number, deaths in absolute number",
         null
        ],
        [
         "15",
         "2025",
         "16",
         "19-04-2025",
         "19-04-2025",
         "Jharkhand",
         "Lohardaga",
         "Fever with Rash",
         "Reported",
         "9",
         "0",
         "cases in absolute number, deaths in absolute number",
         null
        ],
        [
         "16",
         "2025",
         "16",
         "14-04-2025",
         "15-04-2025",
         "Jharkhand",
         "Sahebganj",
         "Malaria",
         "Reported",
         "64",
         "0",
         "cases in absolute number, deaths in absolute number",
         null
        ],
        [
         "17",
         "2025",
         "16",
         "19-04-2025",
         "19-04-2025",
         "Jharkhand",
         "Simdega",
         "Chickenpox",
         "Reported",
         "6",
         "0",
         "cases in absolute number, deaths in absolute number",
         null
        ],
        [
         "18",
         "2025",
         "16",
         "18-04-2025",
         "18-04-2025",
         "Kerala",
         "Ernakulam",
         "Typhoid",
         "Reported",
         "12",
         "0",
         "cases in absolute number, deaths in absolute number",
         null
        ],
        [
         "19",
         "2025",
         "16",
         "18-04-2025",
         "18-04-2025",
         "Kerala",
         "Kollam",
         "Food Poisoning",
         "Reported",
         "67",
         "0",
         "cases in absolute number, deaths in absolute number",
         null
        ],
        [
         "20",
         "2025",
         "16",
         "18-04-2025",
         "19-04-2025",
         "Kerala",
         "Palakkad",
         "Hepatitis A",
         "Reported",
         "31",
         "0",
         "cases in absolute number, deaths in absolute number",
         null
        ],
        [
         "21",
         "2025",
         "16",
         "12-04-2025",
         "16-04-2025",
         "Kerala",
         "Pathanamthitta",
         "Food Poisoning",
         "Reported",
         "10",
         "0",
         "cases in absolute number, deaths in absolute number",
         null
        ],
        [
         "22",
         "2025",
         "16",
         "19-04-2025",
         "19-04-2025",
         "Kerala",
         "Thiruvananthapuram",
         "Food Poisoning",
         "Reported",
         "70",
         "0",
         "cases in absolute number, deaths in absolute number",
         null
        ],
        [
         "23",
         "2025",
         "16",
         "10-04-2025",
         "16-04-2025",
         "Kerala",
         "Thrissur",
         "Hepatitis A",
         "Reported",
         "29",
         "0",
         "cases in absolute number, deaths in absolute number",
         null
        ],
        [
         "24",
         "2025",
         "16",
         "14-04-2025",
         "14-04-2025",
         "Madhya Pradesh",
         "Bhopal",
         "Acute Diarrheal Disease",
         "Reported",
         "40",
         "0",
         "cases in absolute number, deaths in absolute number",
         null
        ],
        [
         "25",
         "2025",
         "16",
         "16-04-2025",
         "16-04-2025",
         "Madhya Pradesh",
         "Datia",
         "Chickenpox",
         "Reported",
         "10",
         "0",
         "cases in absolute number, deaths in absolute number",
         null
        ],
        [
         "26",
         "2025",
         "16",
         "19-04-2025",
         "19-04-2025",
         "Madhya Pradesh",
         "Mandsaur",
         "Food Poisoning",
         "Reported",
         "650",
         "0",
         "cases in absolute number, deaths in absolute number",
         null
        ],
        [
         "27",
         "2025",
         "16",
         "17-04-2025",
         "17-04-2025",
         "Madhya Pradesh",
         "Morena",
         "Measles",
         "Reported",
         "7",
         "0",
         "cases in absolute number, deaths in absolute number",
         null
        ],
        [
         "28",
         "2025",
         "16",
         "19-04-2025",
         "19-04-2025",
         "Madhya Pradesh",
         "Rajgarh",
         "Food Poisoning",
         "Reported",
         "5",
         "0",
         "cases in absolute number, deaths in absolute number",
         null
        ],
        [
         "29",
         "2025",
         "16",
         "16-04-2025",
         "17-04-2025",
         "Madhya Pradesh",
         "Seoni",
         "Chickenpox",
         "Reported",
         "13",
         "0",
         "cases in absolute number, deaths in absolute number",
         null
        ],
        [
         "30",
         "2025",
         "16",
         "17-04-2025",
         "17-04-2025",
         "Maharashtra",
         "Dharashiv",
         "Food Poisoning",
         "Reported",
         "122",
         "0",
         "cases in absolute number, deaths in absolute number",
         null
        ],
        [
         "31",
         "2025",
         "16",
         "15-04-2025",
         "17-04-2025",
         "Maharashtra",
         "Mumbai Suburban",
         "Acute Diarrheal Disease",
         "Reported",
         "17",
         "0",
         "cases in absolute number, deaths in absolute number",
         null
        ],
        [
         "32",
         "2025",
         "16",
         "17-04-2025",
         "18-04-2025",
         "Maharashtra",
         "Nanded",
         "Food Poisoning",
         "Reported",
         "52",
         "0",
         "cases in absolute number, deaths in absolute number",
         null
        ],
        [
         "33",
         "2025",
         "16",
         "15-04-2025",
         "15-04-2025",
         "Meghalaya",
         "East Khasi Hills",
         "Chickenpox",
         "Reported",
         "64",
         "0",
         "cases in absolute number, deaths in absolute number",
         null
        ],
        [
         "34",
         "2025",
         "16",
         "17-04-2025",
         "17-04-2025",
         "Odisha",
         "Bhadrak",
         "Food Poisoning",
         "Reported",
         "51",
         "0",
         "cases in absolute number, deaths in absolute number",
         null
        ],
        [
         "35",
         "2025",
         "16",
         "17-04-2025",
         "19-04-2025",
         "Tamil Nadu",
         "Theni",
         "Hepatitis A",
         "Reported",
         "10",
         "0",
         "cases in absolute number, deaths in absolute number",
         null
        ],
        [
         "36",
         "2025",
         "16",
         "19-04-2025",
         "19-04-2025",
         "Tamil Nadu",
         "Tiruchirappalli",
         "Food Poisoning",
         "Reported",
         "129",
         "0",
         "cases in absolute number, deaths in absolute number",
         null
        ],
        [
         "37",
         "2025",
         "16",
         "18-04-2025",
         "18-04-2025",
         "West Bengal",
         "Alipurduar",
         "Chickenpox",
         "Reported",
         "12",
         "0",
         "cases in absolute number, deaths in absolute number",
         null
        ],
        [
         "38",
         "2025",
         "16",
         "19-04-2025",
         "19-04-2025",
         "West Bengal",
         "Purulia",
         "Acute Diarrheal Disease",
         "Reported",
         "11",
         "0",
         "cases in absolute number, deaths in absolute number",
         null
        ],
        [
         "39",
         "2025",
         "16",
         "04-04-2025",
         null,
         "Andhra Pradesh",
         "Tirupati",
         "Food Poisoning",
         "Reported Late",
         "23",
         "0",
         "cases in absolute number, deaths in absolute number",
         null
        ],
        [
         "40",
         "2025",
         "15",
         "06-04-2025",
         "07-04-2025",
         "Assam",
         "Darrang",
         "Food Poisoning",
         "Reported",
         "64",
         "0",
         "cases in absolute number, deaths in absolute number",
         null
        ],
        [
         "41",
         "2025",
         "15",
         "07-04-2025",
         "07-04-2025",
         "Assam",
         "Dibrugarh",
         "Shigellosis",
         "Reported",
         "25",
         "0",
         "cases in absolute number, deaths in absolute number",
         null
        ],
        [
         "42",
         "2025",
         "15",
         "11-04-2025",
         "11-04-2025",
         "Goa",
         "South Goa",
         "Food Poisoning",
         "Reported",
         "43",
         "0",
         "cases in absolute number, deaths in absolute number",
         null
        ],
        [
         "43",
         "2025",
         "15",
         "10-04-2025",
         "11-04-2025",
         "Gujarat",
         "Bhavnagar",
         "Acute Gastroenteritis",
         "Reported",
         "20",
         "0",
         "cases in absolute number, deaths in absolute number",
         null
        ],
        [
         "44",
         "2025",
         "15",
         "12-04-2025",
         "13-04-2025",
         "Gujarat",
         "Navsari",
         "Food Poisoning",
         "Reported",
         "120",
         "0",
         "cases in absolute number, deaths in absolute number",
         null
        ],
        [
         "45",
         "2025",
         "15",
         "09-04-2025",
         "10-04-2025",
         "Gujarat",
         "Surat",
         "Acute Diarrheal Disease",
         "Reported",
         "118",
         "0",
         "cases in absolute number, deaths in absolute number",
         null
        ],
        [
         "46",
         "2025",
         "15",
         "12-04-2025",
         "12-04-2025",
         "Jammu and Kashmir",
         "Kulgam",
         "Hepatitis A",
         "Reported",
         "11",
         "0",
         "cases in absolute number, deaths in absolute number",
         null
        ],
        [
         "47",
         "2025",
         "15",
         "07-04-2025",
         "08-04-2025",
         "Jharkhand",
         "Dhanbad",
         "Chickenpox",
         "Reported",
         "9",
         "0",
         "cases in absolute number, deaths in absolute number",
         null
        ],
        [
         "48",
         "2025",
         "15",
         "05-04-2025",
         "07-04-2025",
         "Jharkhand",
         "Godda",
         "Measles",
         "Reported",
         "3",
         "0",
         "cases in absolute number, deaths in absolute number",
         null
        ],
        [
         "49",
         "2025",
         "15",
         "11-04-2025",
         "11-04-2025",
         "Jharkhand",
         "Jamtara",
         "Chickenpox",
         "Reported",
         "5",
         "0",
         "cases in absolute number, deaths in absolute number",
         null
        ]
       ],
       "shape": {
        "columns": 12,
        "rows": 6474
       }
      },
      "text/html": [
       "<div>\n",
       "<style scoped>\n",
       "    .dataframe tbody tr th:only-of-type {\n",
       "        vertical-align: middle;\n",
       "    }\n",
       "\n",
       "    .dataframe tbody tr th {\n",
       "        vertical-align: top;\n",
       "    }\n",
       "\n",
       "    .dataframe thead th {\n",
       "        text-align: right;\n",
       "    }\n",
       "</style>\n",
       "<table border=\"1\" class=\"dataframe\">\n",
       "  <thead>\n",
       "    <tr style=\"text-align: right;\">\n",
       "      <th></th>\n",
       "      <th>year</th>\n",
       "      <th>week</th>\n",
       "      <th>outbreak_starting_date</th>\n",
       "      <th>reporting_date</th>\n",
       "      <th>state</th>\n",
       "      <th>district</th>\n",
       "      <th>disease_illness_name</th>\n",
       "      <th>status</th>\n",
       "      <th>cases</th>\n",
       "      <th>deaths</th>\n",
       "      <th>unit</th>\n",
       "      <th>note</th>\n",
       "    </tr>\n",
       "  </thead>\n",
       "  <tbody>\n",
       "    <tr>\n",
       "      <th>0</th>\n",
       "      <td>2025</td>\n",
       "      <td>16</td>\n",
       "      <td>15-04-2025</td>\n",
       "      <td>15-04-2025</td>\n",
       "      <td>Andhra Pradesh</td>\n",
       "      <td>Kakinada</td>\n",
       "      <td>Acute Diarrheal Disease</td>\n",
       "      <td>Reported</td>\n",
       "      <td>22</td>\n",
       "      <td>0</td>\n",
       "      <td>cases in absolute number, deaths in absolute n...</td>\n",
       "      <td>NaN</td>\n",
       "    </tr>\n",
       "    <tr>\n",
       "      <th>1</th>\n",
       "      <td>2025</td>\n",
       "      <td>16</td>\n",
       "      <td>15-04-2025</td>\n",
       "      <td>17-04-2025</td>\n",
       "      <td>Assam</td>\n",
       "      <td>Biswanath</td>\n",
       "      <td>Chickenpox</td>\n",
       "      <td>Reported</td>\n",
       "      <td>1</td>\n",
       "      <td>1</td>\n",
       "      <td>cases in absolute number, deaths in absolute n...</td>\n",
       "      <td>NaN</td>\n",
       "    </tr>\n",
       "    <tr>\n",
       "      <th>2</th>\n",
       "      <td>2025</td>\n",
       "      <td>16</td>\n",
       "      <td>19-04-2025</td>\n",
       "      <td>20-04-2025</td>\n",
       "      <td>Assam</td>\n",
       "      <td>Dhemaji</td>\n",
       "      <td>Food Poisoning</td>\n",
       "      <td>Reported</td>\n",
       "      <td>16</td>\n",
       "      <td>0</td>\n",
       "      <td>cases in absolute number, deaths in absolute n...</td>\n",
       "      <td>NaN</td>\n",
       "    </tr>\n",
       "    <tr>\n",
       "      <th>3</th>\n",
       "      <td>2025</td>\n",
       "      <td>16</td>\n",
       "      <td>19-04-2025</td>\n",
       "      <td>19-04-2025</td>\n",
       "      <td>Bihar</td>\n",
       "      <td>Gopalganj</td>\n",
       "      <td>Fever with Rash</td>\n",
       "      <td>Reported</td>\n",
       "      <td>5</td>\n",
       "      <td>0</td>\n",
       "      <td>cases in absolute number, deaths in absolute n...</td>\n",
       "      <td>NaN</td>\n",
       "    </tr>\n",
       "    <tr>\n",
       "      <th>4</th>\n",
       "      <td>2025</td>\n",
       "      <td>16</td>\n",
       "      <td>12-04-2025</td>\n",
       "      <td>15-04-2025</td>\n",
       "      <td>Bihar</td>\n",
       "      <td>Madhubani</td>\n",
       "      <td>Acute Diarrheal Disease</td>\n",
       "      <td>Reported</td>\n",
       "      <td>21</td>\n",
       "      <td>0</td>\n",
       "      <td>cases in absolute number, deaths in absolute n...</td>\n",
       "      <td>NaN</td>\n",
       "    </tr>\n",
       "    <tr>\n",
       "      <th>...</th>\n",
       "      <td>...</td>\n",
       "      <td>...</td>\n",
       "      <td>...</td>\n",
       "      <td>...</td>\n",
       "      <td>...</td>\n",
       "      <td>...</td>\n",
       "      <td>...</td>\n",
       "      <td>...</td>\n",
       "      <td>...</td>\n",
       "      <td>...</td>\n",
       "      <td>...</td>\n",
       "      <td>...</td>\n",
       "    </tr>\n",
       "    <tr>\n",
       "      <th>6469</th>\n",
       "      <td>2022</td>\n",
       "      <td>13</td>\n",
       "      <td>31-03-2022</td>\n",
       "      <td>01-04-2022</td>\n",
       "      <td>Tamil Nadu</td>\n",
       "      <td>Krishnagiri</td>\n",
       "      <td>Food Poisoning</td>\n",
       "      <td>Reported in Same Week</td>\n",
       "      <td>18</td>\n",
       "      <td>0</td>\n",
       "      <td>cases in absolute number, deaths in absolute n...</td>\n",
       "      <td>NaN</td>\n",
       "    </tr>\n",
       "    <tr>\n",
       "      <th>6470</th>\n",
       "      <td>2022</td>\n",
       "      <td>13</td>\n",
       "      <td>30-03-2022</td>\n",
       "      <td>30-03-2022</td>\n",
       "      <td>Tamil Nadu</td>\n",
       "      <td>Pudukkottai</td>\n",
       "      <td>Dengue</td>\n",
       "      <td>Reported in Same Week</td>\n",
       "      <td>15</td>\n",
       "      <td>0</td>\n",
       "      <td>cases in absolute number, deaths in absolute n...</td>\n",
       "      <td>NaN</td>\n",
       "    </tr>\n",
       "    <tr>\n",
       "      <th>6471</th>\n",
       "      <td>2022</td>\n",
       "      <td>13</td>\n",
       "      <td>28-03-2022</td>\n",
       "      <td>04-04-2022</td>\n",
       "      <td>Tamil Nadu</td>\n",
       "      <td>Tiruchirappalli</td>\n",
       "      <td>Chickenpox</td>\n",
       "      <td>Reported in Same Week</td>\n",
       "      <td>24</td>\n",
       "      <td>0</td>\n",
       "      <td>cases in absolute number, deaths in absolute n...</td>\n",
       "      <td>NaN</td>\n",
       "    </tr>\n",
       "    <tr>\n",
       "      <th>6472</th>\n",
       "      <td>2022</td>\n",
       "      <td>13</td>\n",
       "      <td>04-02-2022</td>\n",
       "      <td>04-03-2022</td>\n",
       "      <td>Telangana</td>\n",
       "      <td>Jagtial</td>\n",
       "      <td>Food Poisoning</td>\n",
       "      <td>Reported in Same Week</td>\n",
       "      <td>25</td>\n",
       "      <td>0</td>\n",
       "      <td>cases in absolute number, deaths in absolute n...</td>\n",
       "      <td>NaN</td>\n",
       "    </tr>\n",
       "    <tr>\n",
       "      <th>6473</th>\n",
       "      <td>2022</td>\n",
       "      <td>13</td>\n",
       "      <td>04-03-2022</td>\n",
       "      <td>04-04-2022</td>\n",
       "      <td>Uttarakhand</td>\n",
       "      <td>Haridwar</td>\n",
       "      <td>Food Poisoning</td>\n",
       "      <td>Reported in Same Week</td>\n",
       "      <td>89</td>\n",
       "      <td>0</td>\n",
       "      <td>cases in absolute number, deaths in absolute n...</td>\n",
       "      <td>NaN</td>\n",
       "    </tr>\n",
       "  </tbody>\n",
       "</table>\n",
       "<p>6474 rows × 12 columns</p>\n",
       "</div>"
      ],
      "text/plain": [
       "      year  week outbreak_starting_date reporting_date           state  \\\n",
       "0     2025    16             15-04-2025     15-04-2025  Andhra Pradesh   \n",
       "1     2025    16             15-04-2025     17-04-2025           Assam   \n",
       "2     2025    16             19-04-2025     20-04-2025           Assam   \n",
       "3     2025    16             19-04-2025     19-04-2025           Bihar   \n",
       "4     2025    16             12-04-2025     15-04-2025           Bihar   \n",
       "...    ...   ...                    ...            ...             ...   \n",
       "6469  2022    13             31-03-2022     01-04-2022      Tamil Nadu   \n",
       "6470  2022    13             30-03-2022     30-03-2022      Tamil Nadu   \n",
       "6471  2022    13             28-03-2022     04-04-2022      Tamil Nadu   \n",
       "6472  2022    13             04-02-2022     04-03-2022       Telangana   \n",
       "6473  2022    13             04-03-2022     04-04-2022     Uttarakhand   \n",
       "\n",
       "             district     disease_illness_name                 status  cases  \\\n",
       "0            Kakinada  Acute Diarrheal Disease               Reported     22   \n",
       "1           Biswanath               Chickenpox               Reported      1   \n",
       "2             Dhemaji           Food Poisoning               Reported     16   \n",
       "3           Gopalganj          Fever with Rash               Reported      5   \n",
       "4           Madhubani  Acute Diarrheal Disease               Reported     21   \n",
       "...               ...                      ...                    ...    ...   \n",
       "6469      Krishnagiri           Food Poisoning  Reported in Same Week     18   \n",
       "6470      Pudukkottai                   Dengue  Reported in Same Week     15   \n",
       "6471  Tiruchirappalli               Chickenpox  Reported in Same Week     24   \n",
       "6472          Jagtial           Food Poisoning  Reported in Same Week     25   \n",
       "6473         Haridwar           Food Poisoning  Reported in Same Week     89   \n",
       "\n",
       "      deaths                                               unit note  \n",
       "0          0  cases in absolute number, deaths in absolute n...  NaN  \n",
       "1          1  cases in absolute number, deaths in absolute n...  NaN  \n",
       "2          0  cases in absolute number, deaths in absolute n...  NaN  \n",
       "3          0  cases in absolute number, deaths in absolute n...  NaN  \n",
       "4          0  cases in absolute number, deaths in absolute n...  NaN  \n",
       "...      ...                                                ...  ...  \n",
       "6469       0  cases in absolute number, deaths in absolute n...  NaN  \n",
       "6470       0  cases in absolute number, deaths in absolute n...  NaN  \n",
       "6471       0  cases in absolute number, deaths in absolute n...  NaN  \n",
       "6472       0  cases in absolute number, deaths in absolute n...  NaN  \n",
       "6473       0  cases in absolute number, deaths in absolute n...  NaN  \n",
       "\n",
       "[6474 rows x 12 columns]"
      ]
     },
     "execution_count": 27,
     "metadata": {},
     "output_type": "execute_result"
    }
   ],
   "source": [
    "df_health\n"
   ]
  },
  {
   "cell_type": "code",
   "execution_count": 28,
   "id": "6489c674",
   "metadata": {
    "ExecuteTime": {
     "end_time": "2025-08-02T09:12:23.458498Z",
     "start_time": "2025-08-02T09:12:23.450153Z"
    }
   },
   "outputs": [
    {
     "name": "stdout",
     "output_type": "stream",
     "text": [
      "<class 'pandas.core.frame.DataFrame'>\n",
      "RangeIndex: 6474 entries, 0 to 6473\n",
      "Data columns (total 12 columns):\n",
      " #   Column                  Non-Null Count  Dtype \n",
      "---  ------                  --------------  ----- \n",
      " 0   year                    6474 non-null   int64 \n",
      " 1   week                    6474 non-null   int64 \n",
      " 2   outbreak_starting_date  6474 non-null   object\n",
      " 3   reporting_date          5455 non-null   object\n",
      " 4   state                   6474 non-null   object\n",
      " 5   district                6473 non-null   object\n",
      " 6   disease_illness_name    6469 non-null   object\n",
      " 7   status                  6474 non-null   object\n",
      " 8   cases                   6474 non-null   int64 \n",
      " 9   deaths                  6474 non-null   int64 \n",
      " 10  unit                    6474 non-null   object\n",
      " 11  note                    6 non-null      object\n",
      "dtypes: int64(4), object(8)\n",
      "memory usage: 607.1+ KB\n"
     ]
    }
   ],
   "source": [
    "df_health.info()"
   ]
  },
  {
   "cell_type": "code",
   "execution_count": 29,
   "id": "c529107c",
   "metadata": {
    "ExecuteTime": {
     "end_time": "2025-08-02T09:12:25.606061Z",
     "start_time": "2025-08-02T09:12:25.598850Z"
    }
   },
   "outputs": [],
   "source": [
    "df_health['outbreak_starting_date'] = pd.to_datetime(df_health['outbreak_starting_date'], format = '%d-%m-%Y')\n"
   ]
  },
  {
   "cell_type": "code",
   "execution_count": 30,
   "id": "33f85441",
   "metadata": {
    "ExecuteTime": {
     "end_time": "2025-08-02T09:12:28.100072Z",
     "start_time": "2025-08-02T09:12:28.088820Z"
    }
   },
   "outputs": [
    {
     "data": {
      "application/vnd.microsoft.datawrangler.viewer.v0+json": {
       "columns": [
        {
         "name": "index",
         "rawType": "int64",
         "type": "integer"
        },
        {
         "name": "year",
         "rawType": "int64",
         "type": "integer"
        },
        {
         "name": "outbreak_starting_date",
         "rawType": "datetime64[ns]",
         "type": "datetime"
        },
        {
         "name": "state",
         "rawType": "object",
         "type": "string"
        },
        {
         "name": "district",
         "rawType": "object",
         "type": "unknown"
        },
        {
         "name": "disease_illness_name",
         "rawType": "object",
         "type": "unknown"
        },
        {
         "name": "cases",
         "rawType": "int64",
         "type": "integer"
        },
        {
         "name": "deaths",
         "rawType": "int64",
         "type": "integer"
        }
       ],
       "ref": "49fe2774-ea97-40d5-a8c5-d3579b89a200",
       "rows": [
        [
         "0",
         "2025",
         "2025-04-15 00:00:00",
         "Andhra Pradesh",
         "Kakinada",
         "Acute Diarrheal Disease",
         "22",
         "0"
        ],
        [
         "1",
         "2025",
         "2025-04-15 00:00:00",
         "Assam",
         "Biswanath",
         "Chickenpox",
         "1",
         "1"
        ],
        [
         "2",
         "2025",
         "2025-04-19 00:00:00",
         "Assam",
         "Dhemaji",
         "Food Poisoning",
         "16",
         "0"
        ],
        [
         "3",
         "2025",
         "2025-04-19 00:00:00",
         "Bihar",
         "Gopalganj",
         "Fever with Rash",
         "5",
         "0"
        ],
        [
         "4",
         "2025",
         "2025-04-12 00:00:00",
         "Bihar",
         "Madhubani",
         "Acute Diarrheal Disease",
         "21",
         "0"
        ],
        [
         "5",
         "2025",
         "2025-04-15 00:00:00",
         "Bihar",
         "Patna",
         "Chickenpox",
         "8",
         "1"
        ],
        [
         "6",
         "2025",
         "2025-04-19 00:00:00",
         "Bihar",
         "Vaishali",
         "Chickenpox",
         "9",
         "0"
        ],
        [
         "7",
         "2025",
         "2025-04-15 00:00:00",
         "Chhattisgarh",
         "Surguja",
         "Food Poisoning",
         "12",
         "0"
        ],
        [
         "8",
         "2025",
         "2025-04-16 00:00:00",
         "Gujarat",
         "Narmada",
         "Measles",
         "17",
         "0"
        ],
        [
         "9",
         "2025",
         "2025-04-18 00:00:00",
         "Gujarat",
         "Rajkot",
         "Acute Diarrheal Disease",
         "13",
         "0"
        ],
        [
         "10",
         "2025",
         "2025-04-16 00:00:00",
         "Haryana",
         "Kurukshetra",
         "Hepatitis A",
         "18",
         "0"
        ],
        [
         "11",
         "2025",
         "2025-04-17 00:00:00",
         "Haryana",
         "Nuh",
         "Chickenpox",
         "28",
         "0"
        ],
        [
         "12",
         "2025",
         "2025-04-18 00:00:00",
         "Jammu and Kashmir",
         "Baramulla",
         "Hepatitis A",
         "26",
         "0"
        ],
        [
         "13",
         "2025",
         "2025-04-16 00:00:00",
         "Jammu and Kashmir",
         "Kulgam",
         "Typhoid",
         "47",
         "0"
        ],
        [
         "14",
         "2025",
         "2025-04-15 00:00:00",
         "Jharkhand",
         "Giridih",
         "Chickenpox",
         "9",
         "0"
        ],
        [
         "15",
         "2025",
         "2025-04-19 00:00:00",
         "Jharkhand",
         "Lohardaga",
         "Fever with Rash",
         "9",
         "0"
        ],
        [
         "16",
         "2025",
         "2025-04-14 00:00:00",
         "Jharkhand",
         "Sahebganj",
         "Malaria",
         "64",
         "0"
        ],
        [
         "17",
         "2025",
         "2025-04-19 00:00:00",
         "Jharkhand",
         "Simdega",
         "Chickenpox",
         "6",
         "0"
        ],
        [
         "18",
         "2025",
         "2025-04-18 00:00:00",
         "Kerala",
         "Ernakulam",
         "Typhoid",
         "12",
         "0"
        ],
        [
         "19",
         "2025",
         "2025-04-18 00:00:00",
         "Kerala",
         "Kollam",
         "Food Poisoning",
         "67",
         "0"
        ],
        [
         "20",
         "2025",
         "2025-04-18 00:00:00",
         "Kerala",
         "Palakkad",
         "Hepatitis A",
         "31",
         "0"
        ],
        [
         "21",
         "2025",
         "2025-04-12 00:00:00",
         "Kerala",
         "Pathanamthitta",
         "Food Poisoning",
         "10",
         "0"
        ],
        [
         "22",
         "2025",
         "2025-04-19 00:00:00",
         "Kerala",
         "Thiruvananthapuram",
         "Food Poisoning",
         "70",
         "0"
        ],
        [
         "23",
         "2025",
         "2025-04-10 00:00:00",
         "Kerala",
         "Thrissur",
         "Hepatitis A",
         "29",
         "0"
        ],
        [
         "24",
         "2025",
         "2025-04-14 00:00:00",
         "Madhya Pradesh",
         "Bhopal",
         "Acute Diarrheal Disease",
         "40",
         "0"
        ],
        [
         "25",
         "2025",
         "2025-04-16 00:00:00",
         "Madhya Pradesh",
         "Datia",
         "Chickenpox",
         "10",
         "0"
        ],
        [
         "26",
         "2025",
         "2025-04-19 00:00:00",
         "Madhya Pradesh",
         "Mandsaur",
         "Food Poisoning",
         "650",
         "0"
        ],
        [
         "27",
         "2025",
         "2025-04-17 00:00:00",
         "Madhya Pradesh",
         "Morena",
         "Measles",
         "7",
         "0"
        ],
        [
         "28",
         "2025",
         "2025-04-19 00:00:00",
         "Madhya Pradesh",
         "Rajgarh",
         "Food Poisoning",
         "5",
         "0"
        ],
        [
         "29",
         "2025",
         "2025-04-16 00:00:00",
         "Madhya Pradesh",
         "Seoni",
         "Chickenpox",
         "13",
         "0"
        ],
        [
         "30",
         "2025",
         "2025-04-17 00:00:00",
         "Maharashtra",
         "Dharashiv",
         "Food Poisoning",
         "122",
         "0"
        ],
        [
         "31",
         "2025",
         "2025-04-15 00:00:00",
         "Maharashtra",
         "Mumbai Suburban",
         "Acute Diarrheal Disease",
         "17",
         "0"
        ],
        [
         "32",
         "2025",
         "2025-04-17 00:00:00",
         "Maharashtra",
         "Nanded",
         "Food Poisoning",
         "52",
         "0"
        ],
        [
         "33",
         "2025",
         "2025-04-15 00:00:00",
         "Meghalaya",
         "East Khasi Hills",
         "Chickenpox",
         "64",
         "0"
        ],
        [
         "34",
         "2025",
         "2025-04-17 00:00:00",
         "Odisha",
         "Bhadrak",
         "Food Poisoning",
         "51",
         "0"
        ],
        [
         "35",
         "2025",
         "2025-04-17 00:00:00",
         "Tamil Nadu",
         "Theni",
         "Hepatitis A",
         "10",
         "0"
        ],
        [
         "36",
         "2025",
         "2025-04-19 00:00:00",
         "Tamil Nadu",
         "Tiruchirappalli",
         "Food Poisoning",
         "129",
         "0"
        ],
        [
         "37",
         "2025",
         "2025-04-18 00:00:00",
         "West Bengal",
         "Alipurduar",
         "Chickenpox",
         "12",
         "0"
        ],
        [
         "38",
         "2025",
         "2025-04-19 00:00:00",
         "West Bengal",
         "Purulia",
         "Acute Diarrheal Disease",
         "11",
         "0"
        ],
        [
         "39",
         "2025",
         "2025-04-04 00:00:00",
         "Andhra Pradesh",
         "Tirupati",
         "Food Poisoning",
         "23",
         "0"
        ],
        [
         "40",
         "2025",
         "2025-04-06 00:00:00",
         "Assam",
         "Darrang",
         "Food Poisoning",
         "64",
         "0"
        ],
        [
         "41",
         "2025",
         "2025-04-07 00:00:00",
         "Assam",
         "Dibrugarh",
         "Shigellosis",
         "25",
         "0"
        ],
        [
         "42",
         "2025",
         "2025-04-11 00:00:00",
         "Goa",
         "South Goa",
         "Food Poisoning",
         "43",
         "0"
        ],
        [
         "43",
         "2025",
         "2025-04-10 00:00:00",
         "Gujarat",
         "Bhavnagar",
         "Acute Gastroenteritis",
         "20",
         "0"
        ],
        [
         "44",
         "2025",
         "2025-04-12 00:00:00",
         "Gujarat",
         "Navsari",
         "Food Poisoning",
         "120",
         "0"
        ],
        [
         "45",
         "2025",
         "2025-04-09 00:00:00",
         "Gujarat",
         "Surat",
         "Acute Diarrheal Disease",
         "118",
         "0"
        ],
        [
         "46",
         "2025",
         "2025-04-12 00:00:00",
         "Jammu and Kashmir",
         "Kulgam",
         "Hepatitis A",
         "11",
         "0"
        ],
        [
         "47",
         "2025",
         "2025-04-07 00:00:00",
         "Jharkhand",
         "Dhanbad",
         "Chickenpox",
         "9",
         "0"
        ],
        [
         "48",
         "2025",
         "2025-04-05 00:00:00",
         "Jharkhand",
         "Godda",
         "Measles",
         "3",
         "0"
        ],
        [
         "49",
         "2025",
         "2025-04-11 00:00:00",
         "Jharkhand",
         "Jamtara",
         "Chickenpox",
         "5",
         "0"
        ]
       ],
       "shape": {
        "columns": 7,
        "rows": 6474
       }
      },
      "text/html": [
       "<div>\n",
       "<style scoped>\n",
       "    .dataframe tbody tr th:only-of-type {\n",
       "        vertical-align: middle;\n",
       "    }\n",
       "\n",
       "    .dataframe tbody tr th {\n",
       "        vertical-align: top;\n",
       "    }\n",
       "\n",
       "    .dataframe thead th {\n",
       "        text-align: right;\n",
       "    }\n",
       "</style>\n",
       "<table border=\"1\" class=\"dataframe\">\n",
       "  <thead>\n",
       "    <tr style=\"text-align: right;\">\n",
       "      <th></th>\n",
       "      <th>year</th>\n",
       "      <th>outbreak_starting_date</th>\n",
       "      <th>state</th>\n",
       "      <th>district</th>\n",
       "      <th>disease_illness_name</th>\n",
       "      <th>cases</th>\n",
       "      <th>deaths</th>\n",
       "    </tr>\n",
       "  </thead>\n",
       "  <tbody>\n",
       "    <tr>\n",
       "      <th>0</th>\n",
       "      <td>2025</td>\n",
       "      <td>2025-04-15</td>\n",
       "      <td>Andhra Pradesh</td>\n",
       "      <td>Kakinada</td>\n",
       "      <td>Acute Diarrheal Disease</td>\n",
       "      <td>22</td>\n",
       "      <td>0</td>\n",
       "    </tr>\n",
       "    <tr>\n",
       "      <th>1</th>\n",
       "      <td>2025</td>\n",
       "      <td>2025-04-15</td>\n",
       "      <td>Assam</td>\n",
       "      <td>Biswanath</td>\n",
       "      <td>Chickenpox</td>\n",
       "      <td>1</td>\n",
       "      <td>1</td>\n",
       "    </tr>\n",
       "    <tr>\n",
       "      <th>2</th>\n",
       "      <td>2025</td>\n",
       "      <td>2025-04-19</td>\n",
       "      <td>Assam</td>\n",
       "      <td>Dhemaji</td>\n",
       "      <td>Food Poisoning</td>\n",
       "      <td>16</td>\n",
       "      <td>0</td>\n",
       "    </tr>\n",
       "    <tr>\n",
       "      <th>3</th>\n",
       "      <td>2025</td>\n",
       "      <td>2025-04-19</td>\n",
       "      <td>Bihar</td>\n",
       "      <td>Gopalganj</td>\n",
       "      <td>Fever with Rash</td>\n",
       "      <td>5</td>\n",
       "      <td>0</td>\n",
       "    </tr>\n",
       "    <tr>\n",
       "      <th>4</th>\n",
       "      <td>2025</td>\n",
       "      <td>2025-04-12</td>\n",
       "      <td>Bihar</td>\n",
       "      <td>Madhubani</td>\n",
       "      <td>Acute Diarrheal Disease</td>\n",
       "      <td>21</td>\n",
       "      <td>0</td>\n",
       "    </tr>\n",
       "    <tr>\n",
       "      <th>...</th>\n",
       "      <td>...</td>\n",
       "      <td>...</td>\n",
       "      <td>...</td>\n",
       "      <td>...</td>\n",
       "      <td>...</td>\n",
       "      <td>...</td>\n",
       "      <td>...</td>\n",
       "    </tr>\n",
       "    <tr>\n",
       "      <th>6469</th>\n",
       "      <td>2022</td>\n",
       "      <td>2022-03-31</td>\n",
       "      <td>Tamil Nadu</td>\n",
       "      <td>Krishnagiri</td>\n",
       "      <td>Food Poisoning</td>\n",
       "      <td>18</td>\n",
       "      <td>0</td>\n",
       "    </tr>\n",
       "    <tr>\n",
       "      <th>6470</th>\n",
       "      <td>2022</td>\n",
       "      <td>2022-03-30</td>\n",
       "      <td>Tamil Nadu</td>\n",
       "      <td>Pudukkottai</td>\n",
       "      <td>Dengue</td>\n",
       "      <td>15</td>\n",
       "      <td>0</td>\n",
       "    </tr>\n",
       "    <tr>\n",
       "      <th>6471</th>\n",
       "      <td>2022</td>\n",
       "      <td>2022-03-28</td>\n",
       "      <td>Tamil Nadu</td>\n",
       "      <td>Tiruchirappalli</td>\n",
       "      <td>Chickenpox</td>\n",
       "      <td>24</td>\n",
       "      <td>0</td>\n",
       "    </tr>\n",
       "    <tr>\n",
       "      <th>6472</th>\n",
       "      <td>2022</td>\n",
       "      <td>2022-02-04</td>\n",
       "      <td>Telangana</td>\n",
       "      <td>Jagtial</td>\n",
       "      <td>Food Poisoning</td>\n",
       "      <td>25</td>\n",
       "      <td>0</td>\n",
       "    </tr>\n",
       "    <tr>\n",
       "      <th>6473</th>\n",
       "      <td>2022</td>\n",
       "      <td>2022-03-04</td>\n",
       "      <td>Uttarakhand</td>\n",
       "      <td>Haridwar</td>\n",
       "      <td>Food Poisoning</td>\n",
       "      <td>89</td>\n",
       "      <td>0</td>\n",
       "    </tr>\n",
       "  </tbody>\n",
       "</table>\n",
       "<p>6474 rows × 7 columns</p>\n",
       "</div>"
      ],
      "text/plain": [
       "      year outbreak_starting_date           state         district  \\\n",
       "0     2025             2025-04-15  Andhra Pradesh         Kakinada   \n",
       "1     2025             2025-04-15           Assam        Biswanath   \n",
       "2     2025             2025-04-19           Assam          Dhemaji   \n",
       "3     2025             2025-04-19           Bihar        Gopalganj   \n",
       "4     2025             2025-04-12           Bihar        Madhubani   \n",
       "...    ...                    ...             ...              ...   \n",
       "6469  2022             2022-03-31      Tamil Nadu      Krishnagiri   \n",
       "6470  2022             2022-03-30      Tamil Nadu      Pudukkottai   \n",
       "6471  2022             2022-03-28      Tamil Nadu  Tiruchirappalli   \n",
       "6472  2022             2022-02-04       Telangana          Jagtial   \n",
       "6473  2022             2022-03-04     Uttarakhand         Haridwar   \n",
       "\n",
       "         disease_illness_name  cases  deaths  \n",
       "0     Acute Diarrheal Disease     22       0  \n",
       "1                  Chickenpox      1       1  \n",
       "2              Food Poisoning     16       0  \n",
       "3             Fever with Rash      5       0  \n",
       "4     Acute Diarrheal Disease     21       0  \n",
       "...                       ...    ...     ...  \n",
       "6469           Food Poisoning     18       0  \n",
       "6470                   Dengue     15       0  \n",
       "6471               Chickenpox     24       0  \n",
       "6472           Food Poisoning     25       0  \n",
       "6473           Food Poisoning     89       0  \n",
       "\n",
       "[6474 rows x 7 columns]"
      ]
     },
     "execution_count": 30,
     "metadata": {},
     "output_type": "execute_result"
    }
   ],
   "source": [
    "df_health.drop(columns=['unit','note','status','week','reporting_date'])"
   ]
  },
  {
   "cell_type": "code",
   "execution_count": 31,
   "id": "85ea1f49",
   "metadata": {
    "ExecuteTime": {
     "end_time": "2025-08-02T09:12:28.543734Z",
     "start_time": "2025-08-02T09:12:28.539526Z"
    }
   },
   "outputs": [],
   "source": [
    "df_health = df_health[['year','outbreak_starting_date','state','district','disease_illness_name','cases','deaths']]"
   ]
  },
  {
   "cell_type": "code",
   "execution_count": 32,
   "id": "19f0b4cb",
   "metadata": {
    "ExecuteTime": {
     "end_time": "2025-08-02T09:12:28.746932Z",
     "start_time": "2025-08-02T09:12:28.736591Z"
    }
   },
   "outputs": [
    {
     "data": {
      "application/vnd.microsoft.datawrangler.viewer.v0+json": {
       "columns": [
        {
         "name": "index",
         "rawType": "int64",
         "type": "integer"
        },
        {
         "name": "year",
         "rawType": "int64",
         "type": "integer"
        },
        {
         "name": "outbreak_starting_date",
         "rawType": "datetime64[ns]",
         "type": "datetime"
        },
        {
         "name": "state",
         "rawType": "object",
         "type": "string"
        },
        {
         "name": "district",
         "rawType": "object",
         "type": "unknown"
        },
        {
         "name": "disease_illness_name",
         "rawType": "object",
         "type": "unknown"
        },
        {
         "name": "cases",
         "rawType": "int64",
         "type": "integer"
        },
        {
         "name": "deaths",
         "rawType": "int64",
         "type": "integer"
        }
       ],
       "ref": "a12b9f05-1bf3-45a2-98d9-6594091d37e6",
       "rows": [
        [
         "0",
         "2025",
         "2025-04-15 00:00:00",
         "Andhra Pradesh",
         "Kakinada",
         "Acute Diarrheal Disease",
         "22",
         "0"
        ],
        [
         "1",
         "2025",
         "2025-04-15 00:00:00",
         "Assam",
         "Biswanath",
         "Chickenpox",
         "1",
         "1"
        ],
        [
         "2",
         "2025",
         "2025-04-19 00:00:00",
         "Assam",
         "Dhemaji",
         "Food Poisoning",
         "16",
         "0"
        ],
        [
         "3",
         "2025",
         "2025-04-19 00:00:00",
         "Bihar",
         "Gopalganj",
         "Fever with Rash",
         "5",
         "0"
        ],
        [
         "4",
         "2025",
         "2025-04-12 00:00:00",
         "Bihar",
         "Madhubani",
         "Acute Diarrheal Disease",
         "21",
         "0"
        ],
        [
         "5",
         "2025",
         "2025-04-15 00:00:00",
         "Bihar",
         "Patna",
         "Chickenpox",
         "8",
         "1"
        ],
        [
         "6",
         "2025",
         "2025-04-19 00:00:00",
         "Bihar",
         "Vaishali",
         "Chickenpox",
         "9",
         "0"
        ],
        [
         "7",
         "2025",
         "2025-04-15 00:00:00",
         "Chhattisgarh",
         "Surguja",
         "Food Poisoning",
         "12",
         "0"
        ],
        [
         "8",
         "2025",
         "2025-04-16 00:00:00",
         "Gujarat",
         "Narmada",
         "Measles",
         "17",
         "0"
        ],
        [
         "9",
         "2025",
         "2025-04-18 00:00:00",
         "Gujarat",
         "Rajkot",
         "Acute Diarrheal Disease",
         "13",
         "0"
        ],
        [
         "10",
         "2025",
         "2025-04-16 00:00:00",
         "Haryana",
         "Kurukshetra",
         "Hepatitis A",
         "18",
         "0"
        ],
        [
         "11",
         "2025",
         "2025-04-17 00:00:00",
         "Haryana",
         "Nuh",
         "Chickenpox",
         "28",
         "0"
        ],
        [
         "12",
         "2025",
         "2025-04-18 00:00:00",
         "Jammu and Kashmir",
         "Baramulla",
         "Hepatitis A",
         "26",
         "0"
        ],
        [
         "13",
         "2025",
         "2025-04-16 00:00:00",
         "Jammu and Kashmir",
         "Kulgam",
         "Typhoid",
         "47",
         "0"
        ],
        [
         "14",
         "2025",
         "2025-04-15 00:00:00",
         "Jharkhand",
         "Giridih",
         "Chickenpox",
         "9",
         "0"
        ],
        [
         "15",
         "2025",
         "2025-04-19 00:00:00",
         "Jharkhand",
         "Lohardaga",
         "Fever with Rash",
         "9",
         "0"
        ],
        [
         "16",
         "2025",
         "2025-04-14 00:00:00",
         "Jharkhand",
         "Sahebganj",
         "Malaria",
         "64",
         "0"
        ],
        [
         "17",
         "2025",
         "2025-04-19 00:00:00",
         "Jharkhand",
         "Simdega",
         "Chickenpox",
         "6",
         "0"
        ],
        [
         "18",
         "2025",
         "2025-04-18 00:00:00",
         "Kerala",
         "Ernakulam",
         "Typhoid",
         "12",
         "0"
        ],
        [
         "19",
         "2025",
         "2025-04-18 00:00:00",
         "Kerala",
         "Kollam",
         "Food Poisoning",
         "67",
         "0"
        ],
        [
         "20",
         "2025",
         "2025-04-18 00:00:00",
         "Kerala",
         "Palakkad",
         "Hepatitis A",
         "31",
         "0"
        ],
        [
         "21",
         "2025",
         "2025-04-12 00:00:00",
         "Kerala",
         "Pathanamthitta",
         "Food Poisoning",
         "10",
         "0"
        ],
        [
         "22",
         "2025",
         "2025-04-19 00:00:00",
         "Kerala",
         "Thiruvananthapuram",
         "Food Poisoning",
         "70",
         "0"
        ],
        [
         "23",
         "2025",
         "2025-04-10 00:00:00",
         "Kerala",
         "Thrissur",
         "Hepatitis A",
         "29",
         "0"
        ],
        [
         "24",
         "2025",
         "2025-04-14 00:00:00",
         "Madhya Pradesh",
         "Bhopal",
         "Acute Diarrheal Disease",
         "40",
         "0"
        ],
        [
         "25",
         "2025",
         "2025-04-16 00:00:00",
         "Madhya Pradesh",
         "Datia",
         "Chickenpox",
         "10",
         "0"
        ],
        [
         "26",
         "2025",
         "2025-04-19 00:00:00",
         "Madhya Pradesh",
         "Mandsaur",
         "Food Poisoning",
         "650",
         "0"
        ],
        [
         "27",
         "2025",
         "2025-04-17 00:00:00",
         "Madhya Pradesh",
         "Morena",
         "Measles",
         "7",
         "0"
        ],
        [
         "28",
         "2025",
         "2025-04-19 00:00:00",
         "Madhya Pradesh",
         "Rajgarh",
         "Food Poisoning",
         "5",
         "0"
        ],
        [
         "29",
         "2025",
         "2025-04-16 00:00:00",
         "Madhya Pradesh",
         "Seoni",
         "Chickenpox",
         "13",
         "0"
        ],
        [
         "30",
         "2025",
         "2025-04-17 00:00:00",
         "Maharashtra",
         "Dharashiv",
         "Food Poisoning",
         "122",
         "0"
        ],
        [
         "31",
         "2025",
         "2025-04-15 00:00:00",
         "Maharashtra",
         "Mumbai Suburban",
         "Acute Diarrheal Disease",
         "17",
         "0"
        ],
        [
         "32",
         "2025",
         "2025-04-17 00:00:00",
         "Maharashtra",
         "Nanded",
         "Food Poisoning",
         "52",
         "0"
        ],
        [
         "33",
         "2025",
         "2025-04-15 00:00:00",
         "Meghalaya",
         "East Khasi Hills",
         "Chickenpox",
         "64",
         "0"
        ],
        [
         "34",
         "2025",
         "2025-04-17 00:00:00",
         "Odisha",
         "Bhadrak",
         "Food Poisoning",
         "51",
         "0"
        ],
        [
         "35",
         "2025",
         "2025-04-17 00:00:00",
         "Tamil Nadu",
         "Theni",
         "Hepatitis A",
         "10",
         "0"
        ],
        [
         "36",
         "2025",
         "2025-04-19 00:00:00",
         "Tamil Nadu",
         "Tiruchirappalli",
         "Food Poisoning",
         "129",
         "0"
        ],
        [
         "37",
         "2025",
         "2025-04-18 00:00:00",
         "West Bengal",
         "Alipurduar",
         "Chickenpox",
         "12",
         "0"
        ],
        [
         "38",
         "2025",
         "2025-04-19 00:00:00",
         "West Bengal",
         "Purulia",
         "Acute Diarrheal Disease",
         "11",
         "0"
        ],
        [
         "39",
         "2025",
         "2025-04-04 00:00:00",
         "Andhra Pradesh",
         "Tirupati",
         "Food Poisoning",
         "23",
         "0"
        ],
        [
         "40",
         "2025",
         "2025-04-06 00:00:00",
         "Assam",
         "Darrang",
         "Food Poisoning",
         "64",
         "0"
        ],
        [
         "41",
         "2025",
         "2025-04-07 00:00:00",
         "Assam",
         "Dibrugarh",
         "Shigellosis",
         "25",
         "0"
        ],
        [
         "42",
         "2025",
         "2025-04-11 00:00:00",
         "Goa",
         "South Goa",
         "Food Poisoning",
         "43",
         "0"
        ],
        [
         "43",
         "2025",
         "2025-04-10 00:00:00",
         "Gujarat",
         "Bhavnagar",
         "Acute Gastroenteritis",
         "20",
         "0"
        ],
        [
         "44",
         "2025",
         "2025-04-12 00:00:00",
         "Gujarat",
         "Navsari",
         "Food Poisoning",
         "120",
         "0"
        ],
        [
         "45",
         "2025",
         "2025-04-09 00:00:00",
         "Gujarat",
         "Surat",
         "Acute Diarrheal Disease",
         "118",
         "0"
        ],
        [
         "46",
         "2025",
         "2025-04-12 00:00:00",
         "Jammu and Kashmir",
         "Kulgam",
         "Hepatitis A",
         "11",
         "0"
        ],
        [
         "47",
         "2025",
         "2025-04-07 00:00:00",
         "Jharkhand",
         "Dhanbad",
         "Chickenpox",
         "9",
         "0"
        ],
        [
         "48",
         "2025",
         "2025-04-05 00:00:00",
         "Jharkhand",
         "Godda",
         "Measles",
         "3",
         "0"
        ],
        [
         "49",
         "2025",
         "2025-04-11 00:00:00",
         "Jharkhand",
         "Jamtara",
         "Chickenpox",
         "5",
         "0"
        ]
       ],
       "shape": {
        "columns": 7,
        "rows": 6474
       }
      },
      "text/html": [
       "<div>\n",
       "<style scoped>\n",
       "    .dataframe tbody tr th:only-of-type {\n",
       "        vertical-align: middle;\n",
       "    }\n",
       "\n",
       "    .dataframe tbody tr th {\n",
       "        vertical-align: top;\n",
       "    }\n",
       "\n",
       "    .dataframe thead th {\n",
       "        text-align: right;\n",
       "    }\n",
       "</style>\n",
       "<table border=\"1\" class=\"dataframe\">\n",
       "  <thead>\n",
       "    <tr style=\"text-align: right;\">\n",
       "      <th></th>\n",
       "      <th>year</th>\n",
       "      <th>outbreak_starting_date</th>\n",
       "      <th>state</th>\n",
       "      <th>district</th>\n",
       "      <th>disease_illness_name</th>\n",
       "      <th>cases</th>\n",
       "      <th>deaths</th>\n",
       "    </tr>\n",
       "  </thead>\n",
       "  <tbody>\n",
       "    <tr>\n",
       "      <th>0</th>\n",
       "      <td>2025</td>\n",
       "      <td>2025-04-15</td>\n",
       "      <td>Andhra Pradesh</td>\n",
       "      <td>Kakinada</td>\n",
       "      <td>Acute Diarrheal Disease</td>\n",
       "      <td>22</td>\n",
       "      <td>0</td>\n",
       "    </tr>\n",
       "    <tr>\n",
       "      <th>1</th>\n",
       "      <td>2025</td>\n",
       "      <td>2025-04-15</td>\n",
       "      <td>Assam</td>\n",
       "      <td>Biswanath</td>\n",
       "      <td>Chickenpox</td>\n",
       "      <td>1</td>\n",
       "      <td>1</td>\n",
       "    </tr>\n",
       "    <tr>\n",
       "      <th>2</th>\n",
       "      <td>2025</td>\n",
       "      <td>2025-04-19</td>\n",
       "      <td>Assam</td>\n",
       "      <td>Dhemaji</td>\n",
       "      <td>Food Poisoning</td>\n",
       "      <td>16</td>\n",
       "      <td>0</td>\n",
       "    </tr>\n",
       "    <tr>\n",
       "      <th>3</th>\n",
       "      <td>2025</td>\n",
       "      <td>2025-04-19</td>\n",
       "      <td>Bihar</td>\n",
       "      <td>Gopalganj</td>\n",
       "      <td>Fever with Rash</td>\n",
       "      <td>5</td>\n",
       "      <td>0</td>\n",
       "    </tr>\n",
       "    <tr>\n",
       "      <th>4</th>\n",
       "      <td>2025</td>\n",
       "      <td>2025-04-12</td>\n",
       "      <td>Bihar</td>\n",
       "      <td>Madhubani</td>\n",
       "      <td>Acute Diarrheal Disease</td>\n",
       "      <td>21</td>\n",
       "      <td>0</td>\n",
       "    </tr>\n",
       "    <tr>\n",
       "      <th>...</th>\n",
       "      <td>...</td>\n",
       "      <td>...</td>\n",
       "      <td>...</td>\n",
       "      <td>...</td>\n",
       "      <td>...</td>\n",
       "      <td>...</td>\n",
       "      <td>...</td>\n",
       "    </tr>\n",
       "    <tr>\n",
       "      <th>6469</th>\n",
       "      <td>2022</td>\n",
       "      <td>2022-03-31</td>\n",
       "      <td>Tamil Nadu</td>\n",
       "      <td>Krishnagiri</td>\n",
       "      <td>Food Poisoning</td>\n",
       "      <td>18</td>\n",
       "      <td>0</td>\n",
       "    </tr>\n",
       "    <tr>\n",
       "      <th>6470</th>\n",
       "      <td>2022</td>\n",
       "      <td>2022-03-30</td>\n",
       "      <td>Tamil Nadu</td>\n",
       "      <td>Pudukkottai</td>\n",
       "      <td>Dengue</td>\n",
       "      <td>15</td>\n",
       "      <td>0</td>\n",
       "    </tr>\n",
       "    <tr>\n",
       "      <th>6471</th>\n",
       "      <td>2022</td>\n",
       "      <td>2022-03-28</td>\n",
       "      <td>Tamil Nadu</td>\n",
       "      <td>Tiruchirappalli</td>\n",
       "      <td>Chickenpox</td>\n",
       "      <td>24</td>\n",
       "      <td>0</td>\n",
       "    </tr>\n",
       "    <tr>\n",
       "      <th>6472</th>\n",
       "      <td>2022</td>\n",
       "      <td>2022-02-04</td>\n",
       "      <td>Telangana</td>\n",
       "      <td>Jagtial</td>\n",
       "      <td>Food Poisoning</td>\n",
       "      <td>25</td>\n",
       "      <td>0</td>\n",
       "    </tr>\n",
       "    <tr>\n",
       "      <th>6473</th>\n",
       "      <td>2022</td>\n",
       "      <td>2022-03-04</td>\n",
       "      <td>Uttarakhand</td>\n",
       "      <td>Haridwar</td>\n",
       "      <td>Food Poisoning</td>\n",
       "      <td>89</td>\n",
       "      <td>0</td>\n",
       "    </tr>\n",
       "  </tbody>\n",
       "</table>\n",
       "<p>6474 rows × 7 columns</p>\n",
       "</div>"
      ],
      "text/plain": [
       "      year outbreak_starting_date           state         district  \\\n",
       "0     2025             2025-04-15  Andhra Pradesh         Kakinada   \n",
       "1     2025             2025-04-15           Assam        Biswanath   \n",
       "2     2025             2025-04-19           Assam          Dhemaji   \n",
       "3     2025             2025-04-19           Bihar        Gopalganj   \n",
       "4     2025             2025-04-12           Bihar        Madhubani   \n",
       "...    ...                    ...             ...              ...   \n",
       "6469  2022             2022-03-31      Tamil Nadu      Krishnagiri   \n",
       "6470  2022             2022-03-30      Tamil Nadu      Pudukkottai   \n",
       "6471  2022             2022-03-28      Tamil Nadu  Tiruchirappalli   \n",
       "6472  2022             2022-02-04       Telangana          Jagtial   \n",
       "6473  2022             2022-03-04     Uttarakhand         Haridwar   \n",
       "\n",
       "         disease_illness_name  cases  deaths  \n",
       "0     Acute Diarrheal Disease     22       0  \n",
       "1                  Chickenpox      1       1  \n",
       "2              Food Poisoning     16       0  \n",
       "3             Fever with Rash      5       0  \n",
       "4     Acute Diarrheal Disease     21       0  \n",
       "...                       ...    ...     ...  \n",
       "6469           Food Poisoning     18       0  \n",
       "6470                   Dengue     15       0  \n",
       "6471               Chickenpox     24       0  \n",
       "6472           Food Poisoning     25       0  \n",
       "6473           Food Poisoning     89       0  \n",
       "\n",
       "[6474 rows x 7 columns]"
      ]
     },
     "execution_count": 32,
     "metadata": {},
     "output_type": "execute_result"
    }
   ],
   "source": [
    "df_health"
   ]
  },
  {
   "cell_type": "markdown",
   "id": "9b5b975d",
   "metadata": {},
   "source": [
    "# VEHICLE DATA"
   ]
  },
  {
   "cell_type": "code",
   "execution_count": 33,
   "id": "27a9351a",
   "metadata": {
    "ExecuteTime": {
     "end_time": "2025-08-02T09:12:29.168349Z",
     "start_time": "2025-08-02T09:12:29.092994Z"
    }
   },
   "outputs": [],
   "source": [
    "df_vehicle = pd.read_csv('vahan.csv')"
   ]
  },
  {
   "cell_type": "code",
   "execution_count": 34,
   "id": "fe9985e4",
   "metadata": {
    "ExecuteTime": {
     "end_time": "2025-08-02T09:12:29.314167Z",
     "start_time": "2025-08-02T09:12:29.303003Z"
    }
   },
   "outputs": [
    {
     "data": {
      "application/vnd.microsoft.datawrangler.viewer.v0+json": {
       "columns": [
        {
         "name": "index",
         "rawType": "int64",
         "type": "integer"
        },
        {
         "name": "year",
         "rawType": "int64",
         "type": "integer"
        },
        {
         "name": "month",
         "rawType": "object",
         "type": "string"
        },
        {
         "name": "state",
         "rawType": "object",
         "type": "string"
        },
        {
         "name": "rto",
         "rawType": "object",
         "type": "string"
        },
        {
         "name": "vehicle_class",
         "rawType": "object",
         "type": "string"
        },
        {
         "name": "fuel",
         "rawType": "object",
         "type": "string"
        },
        {
         "name": "value",
         "rawType": "int64",
         "type": "integer"
        },
        {
         "name": "unit",
         "rawType": "object",
         "type": "string"
        },
        {
         "name": "note",
         "rawType": "float64",
         "type": "float"
        }
       ],
       "ref": "d63e753a-921f-4e51-81bc-bd9ce3f8bf1d",
       "rows": [
        [
         "0",
         "2025",
         "April",
         "Andaman and Nicobar Islands",
         "All Vahan Running Office",
         "BUS",
         "DIESEL",
         "2",
         "value in Absolute Number",
         null
        ],
        [
         "1",
         "2025",
         "April",
         "Andaman and Nicobar Islands",
         "All Vahan Running Office",
         "GOODS CARRIER",
         "DIESEL",
         "23",
         "value in Absolute Number",
         null
        ],
        [
         "2",
         "2025",
         "April",
         "Andaman and Nicobar Islands",
         "All Vahan Running Office",
         "GOODS CARRIER",
         "PETROL",
         "1",
         "value in Absolute Number",
         null
        ],
        [
         "3",
         "2025",
         "April",
         "Andaman and Nicobar Islands",
         "All Vahan Running Office",
         "M-CYCLE/SCOOTER",
         "ELECTRIC(BOV)",
         "1",
         "value in Absolute Number",
         null
        ],
        [
         "4",
         "2025",
         "April",
         "Andaman and Nicobar Islands",
         "All Vahan Running Office",
         "M-CYCLE/SCOOTER",
         "PETROL",
         "387",
         "value in Absolute Number",
         null
        ],
        [
         "5",
         "2025",
         "April",
         "Andaman and Nicobar Islands",
         "All Vahan Running Office",
         "M-CYCLE/SCOOTER",
         "PETROL/ETHANOL",
         "83",
         "value in Absolute Number",
         null
        ],
        [
         "6",
         "2025",
         "April",
         "Andaman and Nicobar Islands",
         "All Vahan Running Office",
         "M-CYCLE/SCOOTER",
         "PURE EV",
         "2",
         "value in Absolute Number",
         null
        ],
        [
         "7",
         "2025",
         "April",
         "Andaman and Nicobar Islands",
         "All Vahan Running Office",
         "MAXI CAB",
         "DIESEL",
         "1",
         "value in Absolute Number",
         null
        ],
        [
         "8",
         "2025",
         "April",
         "Andaman and Nicobar Islands",
         "All Vahan Running Office",
         "MOPED",
         "PETROL",
         "3",
         "value in Absolute Number",
         null
        ],
        [
         "9",
         "2025",
         "April",
         "Andaman and Nicobar Islands",
         "All Vahan Running Office",
         "MOTOR CAB",
         "DIESEL",
         "1",
         "value in Absolute Number",
         null
        ],
        [
         "10",
         "2025",
         "April",
         "Andaman and Nicobar Islands",
         "All Vahan Running Office",
         "MOTOR CAB",
         "PETROL",
         "9",
         "value in Absolute Number",
         null
        ],
        [
         "11",
         "2025",
         "April",
         "Andaman and Nicobar Islands",
         "All Vahan Running Office",
         "MOTOR CAB",
         "PETROL/HYBRID",
         "6",
         "value in Absolute Number",
         null
        ],
        [
         "12",
         "2025",
         "April",
         "Andaman and Nicobar Islands",
         "All Vahan Running Office",
         "MOTOR CAR",
         "DIESEL",
         "11",
         "value in Absolute Number",
         null
        ],
        [
         "13",
         "2025",
         "April",
         "Andaman and Nicobar Islands",
         "All Vahan Running Office",
         "MOTOR CAR",
         "PETROL",
         "123",
         "value in Absolute Number",
         null
        ],
        [
         "14",
         "2025",
         "April",
         "Andaman and Nicobar Islands",
         "All Vahan Running Office",
         "MOTOR CAR",
         "PETROL/ETHANOL",
         "22",
         "value in Absolute Number",
         null
        ],
        [
         "15",
         "2025",
         "April",
         "Andaman and Nicobar Islands",
         "All Vahan Running Office",
         "MOTOR CAR",
         "PETROL/HYBRID",
         "12",
         "value in Absolute Number",
         null
        ],
        [
         "16",
         "2025",
         "April",
         "Andaman and Nicobar Islands",
         "All Vahan Running Office",
         "MOTOR CAR",
         "PURE EV",
         "3",
         "value in Absolute Number",
         null
        ],
        [
         "17",
         "2025",
         "April",
         "Andaman and Nicobar Islands",
         "All Vahan Running Office",
         "MOTOR CYCLE/SCOOTER-USED FOR HIRE",
         "PETROL",
         "15",
         "value in Absolute Number",
         null
        ],
        [
         "18",
         "2025",
         "April",
         "Andaman and Nicobar Islands",
         "All Vahan Running Office",
         "OMNI BUS",
         "DIESEL",
         "1",
         "value in Absolute Number",
         null
        ],
        [
         "19",
         "2025",
         "April",
         "Andaman and Nicobar Islands",
         "All Vahan Running Office",
         "THREE WHEELER (GOODS)",
         "DIESEL",
         "1",
         "value in Absolute Number",
         null
        ],
        [
         "20",
         "2025",
         "April",
         "Andaman and Nicobar Islands",
         "All Vahan Running Office",
         "THREE WHEELER (PASSENGER)",
         "PETROL",
         "3",
         "value in Absolute Number",
         null
        ],
        [
         "21",
         "2025",
         "April",
         "Andhra Pradesh",
         "All Vahan Running Office",
         "ADAPTED VEHICLE",
         "PETROL",
         "80",
         "value in Absolute Number",
         null
        ],
        [
         "22",
         "2025",
         "April",
         "Andhra Pradesh",
         "All Vahan Running Office",
         "ADAPTED VEHICLE",
         "PETROL/ETHANOL",
         "1",
         "value in Absolute Number",
         null
        ],
        [
         "23",
         "2025",
         "April",
         "Andhra Pradesh",
         "All Vahan Running Office",
         "ADAPTED VEHICLE",
         "STRONG HYBRID EV",
         "1",
         "value in Absolute Number",
         null
        ],
        [
         "24",
         "2025",
         "April",
         "Andhra Pradesh",
         "All Vahan Running Office",
         "AGRICULTURAL TRACTOR",
         "DIESEL",
         "1479",
         "value in Absolute Number",
         null
        ],
        [
         "25",
         "2025",
         "April",
         "Andhra Pradesh",
         "All Vahan Running Office",
         "AMBULANCE",
         "DIESEL",
         "37",
         "value in Absolute Number",
         null
        ],
        [
         "26",
         "2025",
         "April",
         "Andhra Pradesh",
         "All Vahan Running Office",
         "AMBULANCE",
         "PETROL",
         "16",
         "value in Absolute Number",
         null
        ],
        [
         "27",
         "2025",
         "April",
         "Andhra Pradesh",
         "All Vahan Running Office",
         "ARTICULATED VEHICLE",
         "DIESEL",
         "61",
         "value in Absolute Number",
         null
        ],
        [
         "28",
         "2025",
         "April",
         "Andhra Pradesh",
         "All Vahan Running Office",
         "BUS",
         "CNG ONLY",
         "1",
         "value in Absolute Number",
         null
        ],
        [
         "29",
         "2025",
         "April",
         "Andhra Pradesh",
         "All Vahan Running Office",
         "BUS",
         "DIESEL",
         "122",
         "value in Absolute Number",
         null
        ],
        [
         "30",
         "2025",
         "April",
         "Andhra Pradesh",
         "All Vahan Running Office",
         "CONSTRUCTION EQUIPMENT VEHICLE",
         "DIESEL",
         "245",
         "value in Absolute Number",
         null
        ],
        [
         "31",
         "2025",
         "April",
         "Andhra Pradesh",
         "All Vahan Running Office",
         "CRANE MOUNTED VEHICLE",
         "DIESEL",
         "7",
         "value in Absolute Number",
         null
        ],
        [
         "32",
         "2025",
         "April",
         "Andhra Pradesh",
         "All Vahan Running Office",
         "E-RICKSHAW WITH CART (G)",
         "ELECTRIC(BOV)",
         "16",
         "value in Absolute Number",
         null
        ],
        [
         "33",
         "2025",
         "April",
         "Andhra Pradesh",
         "All Vahan Running Office",
         "E-RICKSHAW WITH CART (G)",
         "PURE EV",
         "1",
         "value in Absolute Number",
         null
        ],
        [
         "34",
         "2025",
         "April",
         "Andhra Pradesh",
         "All Vahan Running Office",
         "E-RICKSHAW(P)",
         "ELECTRIC(BOV)",
         "3",
         "value in Absolute Number",
         null
        ],
        [
         "35",
         "2025",
         "April",
         "Andhra Pradesh",
         "All Vahan Running Office",
         "E-RICKSHAW(P)",
         "PURE EV",
         "2",
         "value in Absolute Number",
         null
        ],
        [
         "36",
         "2025",
         "April",
         "Andhra Pradesh",
         "All Vahan Running Office",
         "EDUCATIONAL INSTITUTION BUS",
         "DIESEL",
         "49",
         "value in Absolute Number",
         null
        ],
        [
         "37",
         "2025",
         "April",
         "Andhra Pradesh",
         "All Vahan Running Office",
         "EXCAVATOR (NT)",
         "DIESEL",
         "2",
         "value in Absolute Number",
         null
        ],
        [
         "38",
         "2025",
         "April",
         "Andhra Pradesh",
         "All Vahan Running Office",
         "FIRE TENDERS",
         "DIESEL",
         "3",
         "value in Absolute Number",
         null
        ],
        [
         "39",
         "2025",
         "April",
         "Andhra Pradesh",
         "All Vahan Running Office",
         "FORK LIFT",
         "DIESEL",
         "7",
         "value in Absolute Number",
         null
        ],
        [
         "40",
         "2025",
         "April",
         "Andhra Pradesh",
         "All Vahan Running Office",
         "GOODS CARRIER",
         "CNG ONLY",
         "23",
         "value in Absolute Number",
         null
        ],
        [
         "41",
         "2025",
         "April",
         "Andhra Pradesh",
         "All Vahan Running Office",
         "GOODS CARRIER",
         "DIESEL",
         "2257",
         "value in Absolute Number",
         null
        ],
        [
         "42",
         "2025",
         "April",
         "Andhra Pradesh",
         "All Vahan Running Office",
         "GOODS CARRIER",
         "ELECTRIC(BOV)",
         "5",
         "value in Absolute Number",
         null
        ],
        [
         "43",
         "2025",
         "April",
         "Andhra Pradesh",
         "All Vahan Running Office",
         "GOODS CARRIER",
         "PETROL",
         "48",
         "value in Absolute Number",
         null
        ],
        [
         "44",
         "2025",
         "April",
         "Andhra Pradesh",
         "All Vahan Running Office",
         "GOODS CARRIER",
         "PETROL/CNG",
         "4",
         "value in Absolute Number",
         null
        ],
        [
         "45",
         "2025",
         "April",
         "Andhra Pradesh",
         "All Vahan Running Office",
         "GOODS CARRIER",
         "PURE EV",
         "8",
         "value in Absolute Number",
         null
        ],
        [
         "46",
         "2025",
         "April",
         "Andhra Pradesh",
         "All Vahan Running Office",
         "HARVESTER",
         "DIESEL",
         "29",
         "value in Absolute Number",
         null
        ],
        [
         "47",
         "2025",
         "April",
         "Andhra Pradesh",
         "All Vahan Running Office",
         "M-CYCLE/SCOOTER",
         "CNG ONLY",
         "109",
         "value in Absolute Number",
         null
        ],
        [
         "48",
         "2025",
         "April",
         "Andhra Pradesh",
         "All Vahan Running Office",
         "M-CYCLE/SCOOTER",
         "ELECTRIC(BOV)",
         "479",
         "value in Absolute Number",
         null
        ],
        [
         "49",
         "2025",
         "April",
         "Andhra Pradesh",
         "All Vahan Running Office",
         "M-CYCLE/SCOOTER",
         "ETHANOL",
         "2",
         "value in Absolute Number",
         null
        ]
       ],
       "shape": {
        "columns": 9,
        "rows": 64841
       }
      },
      "text/html": [
       "<div>\n",
       "<style scoped>\n",
       "    .dataframe tbody tr th:only-of-type {\n",
       "        vertical-align: middle;\n",
       "    }\n",
       "\n",
       "    .dataframe tbody tr th {\n",
       "        vertical-align: top;\n",
       "    }\n",
       "\n",
       "    .dataframe thead th {\n",
       "        text-align: right;\n",
       "    }\n",
       "</style>\n",
       "<table border=\"1\" class=\"dataframe\">\n",
       "  <thead>\n",
       "    <tr style=\"text-align: right;\">\n",
       "      <th></th>\n",
       "      <th>year</th>\n",
       "      <th>month</th>\n",
       "      <th>state</th>\n",
       "      <th>rto</th>\n",
       "      <th>vehicle_class</th>\n",
       "      <th>fuel</th>\n",
       "      <th>value</th>\n",
       "      <th>unit</th>\n",
       "      <th>note</th>\n",
       "    </tr>\n",
       "  </thead>\n",
       "  <tbody>\n",
       "    <tr>\n",
       "      <th>0</th>\n",
       "      <td>2025</td>\n",
       "      <td>April</td>\n",
       "      <td>Andaman and Nicobar Islands</td>\n",
       "      <td>All Vahan Running Office</td>\n",
       "      <td>BUS</td>\n",
       "      <td>DIESEL</td>\n",
       "      <td>2</td>\n",
       "      <td>value in Absolute Number</td>\n",
       "      <td>NaN</td>\n",
       "    </tr>\n",
       "    <tr>\n",
       "      <th>1</th>\n",
       "      <td>2025</td>\n",
       "      <td>April</td>\n",
       "      <td>Andaman and Nicobar Islands</td>\n",
       "      <td>All Vahan Running Office</td>\n",
       "      <td>GOODS CARRIER</td>\n",
       "      <td>DIESEL</td>\n",
       "      <td>23</td>\n",
       "      <td>value in Absolute Number</td>\n",
       "      <td>NaN</td>\n",
       "    </tr>\n",
       "    <tr>\n",
       "      <th>2</th>\n",
       "      <td>2025</td>\n",
       "      <td>April</td>\n",
       "      <td>Andaman and Nicobar Islands</td>\n",
       "      <td>All Vahan Running Office</td>\n",
       "      <td>GOODS CARRIER</td>\n",
       "      <td>PETROL</td>\n",
       "      <td>1</td>\n",
       "      <td>value in Absolute Number</td>\n",
       "      <td>NaN</td>\n",
       "    </tr>\n",
       "    <tr>\n",
       "      <th>3</th>\n",
       "      <td>2025</td>\n",
       "      <td>April</td>\n",
       "      <td>Andaman and Nicobar Islands</td>\n",
       "      <td>All Vahan Running Office</td>\n",
       "      <td>M-CYCLE/SCOOTER</td>\n",
       "      <td>ELECTRIC(BOV)</td>\n",
       "      <td>1</td>\n",
       "      <td>value in Absolute Number</td>\n",
       "      <td>NaN</td>\n",
       "    </tr>\n",
       "    <tr>\n",
       "      <th>4</th>\n",
       "      <td>2025</td>\n",
       "      <td>April</td>\n",
       "      <td>Andaman and Nicobar Islands</td>\n",
       "      <td>All Vahan Running Office</td>\n",
       "      <td>M-CYCLE/SCOOTER</td>\n",
       "      <td>PETROL</td>\n",
       "      <td>387</td>\n",
       "      <td>value in Absolute Number</td>\n",
       "      <td>NaN</td>\n",
       "    </tr>\n",
       "    <tr>\n",
       "      <th>...</th>\n",
       "      <td>...</td>\n",
       "      <td>...</td>\n",
       "      <td>...</td>\n",
       "      <td>...</td>\n",
       "      <td>...</td>\n",
       "      <td>...</td>\n",
       "      <td>...</td>\n",
       "      <td>...</td>\n",
       "      <td>...</td>\n",
       "    </tr>\n",
       "    <tr>\n",
       "      <th>64836</th>\n",
       "      <td>2022</td>\n",
       "      <td>April</td>\n",
       "      <td>West Bengal</td>\n",
       "      <td>All Vahan Running Office</td>\n",
       "      <td>THREE WHEELER (PASSENGER)</td>\n",
       "      <td>PETROL/CNG</td>\n",
       "      <td>3</td>\n",
       "      <td>value in Absolute Number</td>\n",
       "      <td>NaN</td>\n",
       "    </tr>\n",
       "    <tr>\n",
       "      <th>64837</th>\n",
       "      <td>2022</td>\n",
       "      <td>April</td>\n",
       "      <td>West Bengal</td>\n",
       "      <td>All Vahan Running Office</td>\n",
       "      <td>THREE WHEELER (PASSENGER)</td>\n",
       "      <td>PETROL/LPG</td>\n",
       "      <td>82</td>\n",
       "      <td>value in Absolute Number</td>\n",
       "      <td>NaN</td>\n",
       "    </tr>\n",
       "    <tr>\n",
       "      <th>64838</th>\n",
       "      <td>2022</td>\n",
       "      <td>April</td>\n",
       "      <td>West Bengal</td>\n",
       "      <td>All Vahan Running Office</td>\n",
       "      <td>TRACTOR (COMMERCIAL)</td>\n",
       "      <td>DIESEL</td>\n",
       "      <td>247</td>\n",
       "      <td>value in Absolute Number</td>\n",
       "      <td>NaN</td>\n",
       "    </tr>\n",
       "    <tr>\n",
       "      <th>64839</th>\n",
       "      <td>2022</td>\n",
       "      <td>April</td>\n",
       "      <td>West Bengal</td>\n",
       "      <td>All Vahan Running Office</td>\n",
       "      <td>TRAILER (COMMERCIAL)</td>\n",
       "      <td>NOT APPLICABLE</td>\n",
       "      <td>60</td>\n",
       "      <td>value in Absolute Number</td>\n",
       "      <td>NaN</td>\n",
       "    </tr>\n",
       "    <tr>\n",
       "      <th>64840</th>\n",
       "      <td>2022</td>\n",
       "      <td>April</td>\n",
       "      <td>West Bengal</td>\n",
       "      <td>All Vahan Running Office</td>\n",
       "      <td>VEHICLE FITTED WITH GENERATOR</td>\n",
       "      <td>DIESEL</td>\n",
       "      <td>1</td>\n",
       "      <td>value in Absolute Number</td>\n",
       "      <td>NaN</td>\n",
       "    </tr>\n",
       "  </tbody>\n",
       "</table>\n",
       "<p>64841 rows × 9 columns</p>\n",
       "</div>"
      ],
      "text/plain": [
       "       year  month                        state                       rto  \\\n",
       "0      2025  April  Andaman and Nicobar Islands  All Vahan Running Office   \n",
       "1      2025  April  Andaman and Nicobar Islands  All Vahan Running Office   \n",
       "2      2025  April  Andaman and Nicobar Islands  All Vahan Running Office   \n",
       "3      2025  April  Andaman and Nicobar Islands  All Vahan Running Office   \n",
       "4      2025  April  Andaman and Nicobar Islands  All Vahan Running Office   \n",
       "...     ...    ...                          ...                       ...   \n",
       "64836  2022  April                  West Bengal  All Vahan Running Office   \n",
       "64837  2022  April                  West Bengal  All Vahan Running Office   \n",
       "64838  2022  April                  West Bengal  All Vahan Running Office   \n",
       "64839  2022  April                  West Bengal  All Vahan Running Office   \n",
       "64840  2022  April                  West Bengal  All Vahan Running Office   \n",
       "\n",
       "                       vehicle_class            fuel  value  \\\n",
       "0                                BUS          DIESEL      2   \n",
       "1                      GOODS CARRIER          DIESEL     23   \n",
       "2                      GOODS CARRIER          PETROL      1   \n",
       "3                    M-CYCLE/SCOOTER   ELECTRIC(BOV)      1   \n",
       "4                    M-CYCLE/SCOOTER          PETROL    387   \n",
       "...                              ...             ...    ...   \n",
       "64836      THREE WHEELER (PASSENGER)      PETROL/CNG      3   \n",
       "64837      THREE WHEELER (PASSENGER)      PETROL/LPG     82   \n",
       "64838           TRACTOR (COMMERCIAL)          DIESEL    247   \n",
       "64839           TRAILER (COMMERCIAL)  NOT APPLICABLE     60   \n",
       "64840  VEHICLE FITTED WITH GENERATOR          DIESEL      1   \n",
       "\n",
       "                           unit  note  \n",
       "0      value in Absolute Number   NaN  \n",
       "1      value in Absolute Number   NaN  \n",
       "2      value in Absolute Number   NaN  \n",
       "3      value in Absolute Number   NaN  \n",
       "4      value in Absolute Number   NaN  \n",
       "...                         ...   ...  \n",
       "64836  value in Absolute Number   NaN  \n",
       "64837  value in Absolute Number   NaN  \n",
       "64838  value in Absolute Number   NaN  \n",
       "64839  value in Absolute Number   NaN  \n",
       "64840  value in Absolute Number   NaN  \n",
       "\n",
       "[64841 rows x 9 columns]"
      ]
     },
     "execution_count": 34,
     "metadata": {},
     "output_type": "execute_result"
    }
   ],
   "source": [
    "df_vehicle"
   ]
  },
  {
   "cell_type": "code",
   "execution_count": 35,
   "id": "00dd4a5a",
   "metadata": {
    "ExecuteTime": {
     "end_time": "2025-08-02T09:12:29.474598Z",
     "start_time": "2025-08-02T09:12:29.466364Z"
    }
   },
   "outputs": [
    {
     "data": {
      "application/vnd.microsoft.datawrangler.viewer.v0+json": {
       "columns": [
        {
         "name": "fuel",
         "rawType": "object",
         "type": "string"
        },
        {
         "name": "count",
         "rawType": "int64",
         "type": "integer"
        }
       ],
       "ref": "a3e2dd0a-59ef-4704-895b-05ac9a5ce570",
       "rows": [
        [
         "DIESEL",
         "22961"
        ],
        [
         "PETROL",
         "12951"
        ],
        [
         "ELECTRIC(BOV)",
         "8691"
        ],
        [
         "CNG ONLY",
         "4651"
        ],
        [
         "PETROL/CNG",
         "3760"
        ],
        [
         "PETROL/HYBRID",
         "2959"
        ],
        [
         "PURE EV",
         "2251"
        ],
        [
         "PETROL/ETHANOL",
         "1820"
        ],
        [
         "NOT APPLICABLE",
         "1577"
        ],
        [
         "STRONG HYBRID EV",
         "943"
        ],
        [
         "DIESEL/HYBRID",
         "868"
        ],
        [
         "PETROL/LPG",
         "663"
        ],
        [
         "LPG ONLY",
         "492"
        ],
        [
         "ETHANOL",
         "118"
        ],
        [
         "LNG",
         "76"
        ],
        [
         "PLUG-IN HYBRID EV",
         "45"
        ],
        [
         "FUEL CELL HYDROGEN",
         "8"
        ],
        [
         "DUAL DIESEL/LNG",
         "4"
        ],
        [
         "DUAL DIESEL/CNG",
         "2"
        ],
        [
         "SOLAR",
         "1"
        ]
       ],
       "shape": {
        "columns": 1,
        "rows": 20
       }
      },
      "text/plain": [
       "fuel\n",
       "DIESEL                22961\n",
       "PETROL                12951\n",
       "ELECTRIC(BOV)          8691\n",
       "CNG ONLY               4651\n",
       "PETROL/CNG             3760\n",
       "PETROL/HYBRID          2959\n",
       "PURE EV                2251\n",
       "PETROL/ETHANOL         1820\n",
       "NOT APPLICABLE         1577\n",
       "STRONG HYBRID EV        943\n",
       "DIESEL/HYBRID           868\n",
       "PETROL/LPG              663\n",
       "LPG ONLY                492\n",
       "ETHANOL                 118\n",
       "LNG                      76\n",
       "PLUG-IN HYBRID EV        45\n",
       "FUEL CELL HYDROGEN        8\n",
       "DUAL DIESEL/LNG           4\n",
       "DUAL DIESEL/CNG           2\n",
       "SOLAR                     1\n",
       "Name: count, dtype: int64"
      ]
     },
     "execution_count": 35,
     "metadata": {},
     "output_type": "execute_result"
    }
   ],
   "source": [
    "df_vehicle['fuel'].value_counts()"
   ]
  },
  {
   "cell_type": "code",
   "execution_count": 36,
   "id": "54f920fd",
   "metadata": {
    "ExecuteTime": {
     "end_time": "2025-08-02T09:12:29.656191Z",
     "start_time": "2025-08-02T09:12:29.650332Z"
    }
   },
   "outputs": [],
   "source": [
    "ev_fuel = ['ELECTRIC(BOV)','PURE EV','STRONG HYBRID EV']\n",
    "df_vehicle['is_ev'] = df_vehicle['fuel'].isin(ev_fuel)\n"
   ]
  },
  {
   "cell_type": "code",
   "execution_count": 37,
   "id": "15f42386",
   "metadata": {
    "ExecuteTime": {
     "end_time": "2025-08-02T09:12:29.877781Z",
     "start_time": "2025-08-02T09:12:29.873879Z"
    }
   },
   "outputs": [],
   "source": [
    "df_vehicle['is_ev'] = df_vehicle['is_ev'].astype(int)"
   ]
  },
  {
   "cell_type": "code",
   "execution_count": 38,
   "id": "e00a1f85",
   "metadata": {
    "ExecuteTime": {
     "end_time": "2025-08-02T09:12:30.091166Z",
     "start_time": "2025-08-02T09:12:30.079681Z"
    }
   },
   "outputs": [
    {
     "data": {
      "application/vnd.microsoft.datawrangler.viewer.v0+json": {
       "columns": [
        {
         "name": "index",
         "rawType": "int64",
         "type": "integer"
        },
        {
         "name": "year",
         "rawType": "int64",
         "type": "integer"
        },
        {
         "name": "month",
         "rawType": "object",
         "type": "string"
        },
        {
         "name": "state",
         "rawType": "object",
         "type": "string"
        },
        {
         "name": "rto",
         "rawType": "object",
         "type": "string"
        },
        {
         "name": "vehicle_class",
         "rawType": "object",
         "type": "string"
        },
        {
         "name": "fuel",
         "rawType": "object",
         "type": "string"
        },
        {
         "name": "value",
         "rawType": "int64",
         "type": "integer"
        },
        {
         "name": "unit",
         "rawType": "object",
         "type": "string"
        },
        {
         "name": "note",
         "rawType": "float64",
         "type": "float"
        },
        {
         "name": "is_ev",
         "rawType": "int64",
         "type": "integer"
        }
       ],
       "ref": "a5c1c547-9206-40ce-917e-ddd29ebf85cb",
       "rows": [
        [
         "0",
         "2025",
         "April",
         "Andaman and Nicobar Islands",
         "All Vahan Running Office",
         "BUS",
         "DIESEL",
         "2",
         "value in Absolute Number",
         null,
         "0"
        ],
        [
         "1",
         "2025",
         "April",
         "Andaman and Nicobar Islands",
         "All Vahan Running Office",
         "GOODS CARRIER",
         "DIESEL",
         "23",
         "value in Absolute Number",
         null,
         "0"
        ],
        [
         "2",
         "2025",
         "April",
         "Andaman and Nicobar Islands",
         "All Vahan Running Office",
         "GOODS CARRIER",
         "PETROL",
         "1",
         "value in Absolute Number",
         null,
         "0"
        ],
        [
         "3",
         "2025",
         "April",
         "Andaman and Nicobar Islands",
         "All Vahan Running Office",
         "M-CYCLE/SCOOTER",
         "ELECTRIC(BOV)",
         "1",
         "value in Absolute Number",
         null,
         "1"
        ],
        [
         "4",
         "2025",
         "April",
         "Andaman and Nicobar Islands",
         "All Vahan Running Office",
         "M-CYCLE/SCOOTER",
         "PETROL",
         "387",
         "value in Absolute Number",
         null,
         "0"
        ],
        [
         "5",
         "2025",
         "April",
         "Andaman and Nicobar Islands",
         "All Vahan Running Office",
         "M-CYCLE/SCOOTER",
         "PETROL/ETHANOL",
         "83",
         "value in Absolute Number",
         null,
         "0"
        ],
        [
         "6",
         "2025",
         "April",
         "Andaman and Nicobar Islands",
         "All Vahan Running Office",
         "M-CYCLE/SCOOTER",
         "PURE EV",
         "2",
         "value in Absolute Number",
         null,
         "1"
        ],
        [
         "7",
         "2025",
         "April",
         "Andaman and Nicobar Islands",
         "All Vahan Running Office",
         "MAXI CAB",
         "DIESEL",
         "1",
         "value in Absolute Number",
         null,
         "0"
        ],
        [
         "8",
         "2025",
         "April",
         "Andaman and Nicobar Islands",
         "All Vahan Running Office",
         "MOPED",
         "PETROL",
         "3",
         "value in Absolute Number",
         null,
         "0"
        ],
        [
         "9",
         "2025",
         "April",
         "Andaman and Nicobar Islands",
         "All Vahan Running Office",
         "MOTOR CAB",
         "DIESEL",
         "1",
         "value in Absolute Number",
         null,
         "0"
        ],
        [
         "10",
         "2025",
         "April",
         "Andaman and Nicobar Islands",
         "All Vahan Running Office",
         "MOTOR CAB",
         "PETROL",
         "9",
         "value in Absolute Number",
         null,
         "0"
        ],
        [
         "11",
         "2025",
         "April",
         "Andaman and Nicobar Islands",
         "All Vahan Running Office",
         "MOTOR CAB",
         "PETROL/HYBRID",
         "6",
         "value in Absolute Number",
         null,
         "0"
        ],
        [
         "12",
         "2025",
         "April",
         "Andaman and Nicobar Islands",
         "All Vahan Running Office",
         "MOTOR CAR",
         "DIESEL",
         "11",
         "value in Absolute Number",
         null,
         "0"
        ],
        [
         "13",
         "2025",
         "April",
         "Andaman and Nicobar Islands",
         "All Vahan Running Office",
         "MOTOR CAR",
         "PETROL",
         "123",
         "value in Absolute Number",
         null,
         "0"
        ],
        [
         "14",
         "2025",
         "April",
         "Andaman and Nicobar Islands",
         "All Vahan Running Office",
         "MOTOR CAR",
         "PETROL/ETHANOL",
         "22",
         "value in Absolute Number",
         null,
         "0"
        ],
        [
         "15",
         "2025",
         "April",
         "Andaman and Nicobar Islands",
         "All Vahan Running Office",
         "MOTOR CAR",
         "PETROL/HYBRID",
         "12",
         "value in Absolute Number",
         null,
         "0"
        ],
        [
         "16",
         "2025",
         "April",
         "Andaman and Nicobar Islands",
         "All Vahan Running Office",
         "MOTOR CAR",
         "PURE EV",
         "3",
         "value in Absolute Number",
         null,
         "1"
        ],
        [
         "17",
         "2025",
         "April",
         "Andaman and Nicobar Islands",
         "All Vahan Running Office",
         "MOTOR CYCLE/SCOOTER-USED FOR HIRE",
         "PETROL",
         "15",
         "value in Absolute Number",
         null,
         "0"
        ],
        [
         "18",
         "2025",
         "April",
         "Andaman and Nicobar Islands",
         "All Vahan Running Office",
         "OMNI BUS",
         "DIESEL",
         "1",
         "value in Absolute Number",
         null,
         "0"
        ],
        [
         "19",
         "2025",
         "April",
         "Andaman and Nicobar Islands",
         "All Vahan Running Office",
         "THREE WHEELER (GOODS)",
         "DIESEL",
         "1",
         "value in Absolute Number",
         null,
         "0"
        ],
        [
         "20",
         "2025",
         "April",
         "Andaman and Nicobar Islands",
         "All Vahan Running Office",
         "THREE WHEELER (PASSENGER)",
         "PETROL",
         "3",
         "value in Absolute Number",
         null,
         "0"
        ],
        [
         "21",
         "2025",
         "April",
         "Andhra Pradesh",
         "All Vahan Running Office",
         "ADAPTED VEHICLE",
         "PETROL",
         "80",
         "value in Absolute Number",
         null,
         "0"
        ],
        [
         "22",
         "2025",
         "April",
         "Andhra Pradesh",
         "All Vahan Running Office",
         "ADAPTED VEHICLE",
         "PETROL/ETHANOL",
         "1",
         "value in Absolute Number",
         null,
         "0"
        ],
        [
         "23",
         "2025",
         "April",
         "Andhra Pradesh",
         "All Vahan Running Office",
         "ADAPTED VEHICLE",
         "STRONG HYBRID EV",
         "1",
         "value in Absolute Number",
         null,
         "1"
        ],
        [
         "24",
         "2025",
         "April",
         "Andhra Pradesh",
         "All Vahan Running Office",
         "AGRICULTURAL TRACTOR",
         "DIESEL",
         "1479",
         "value in Absolute Number",
         null,
         "0"
        ],
        [
         "25",
         "2025",
         "April",
         "Andhra Pradesh",
         "All Vahan Running Office",
         "AMBULANCE",
         "DIESEL",
         "37",
         "value in Absolute Number",
         null,
         "0"
        ],
        [
         "26",
         "2025",
         "April",
         "Andhra Pradesh",
         "All Vahan Running Office",
         "AMBULANCE",
         "PETROL",
         "16",
         "value in Absolute Number",
         null,
         "0"
        ],
        [
         "27",
         "2025",
         "April",
         "Andhra Pradesh",
         "All Vahan Running Office",
         "ARTICULATED VEHICLE",
         "DIESEL",
         "61",
         "value in Absolute Number",
         null,
         "0"
        ],
        [
         "28",
         "2025",
         "April",
         "Andhra Pradesh",
         "All Vahan Running Office",
         "BUS",
         "CNG ONLY",
         "1",
         "value in Absolute Number",
         null,
         "0"
        ],
        [
         "29",
         "2025",
         "April",
         "Andhra Pradesh",
         "All Vahan Running Office",
         "BUS",
         "DIESEL",
         "122",
         "value in Absolute Number",
         null,
         "0"
        ],
        [
         "30",
         "2025",
         "April",
         "Andhra Pradesh",
         "All Vahan Running Office",
         "CONSTRUCTION EQUIPMENT VEHICLE",
         "DIESEL",
         "245",
         "value in Absolute Number",
         null,
         "0"
        ],
        [
         "31",
         "2025",
         "April",
         "Andhra Pradesh",
         "All Vahan Running Office",
         "CRANE MOUNTED VEHICLE",
         "DIESEL",
         "7",
         "value in Absolute Number",
         null,
         "0"
        ],
        [
         "32",
         "2025",
         "April",
         "Andhra Pradesh",
         "All Vahan Running Office",
         "E-RICKSHAW WITH CART (G)",
         "ELECTRIC(BOV)",
         "16",
         "value in Absolute Number",
         null,
         "1"
        ],
        [
         "33",
         "2025",
         "April",
         "Andhra Pradesh",
         "All Vahan Running Office",
         "E-RICKSHAW WITH CART (G)",
         "PURE EV",
         "1",
         "value in Absolute Number",
         null,
         "1"
        ],
        [
         "34",
         "2025",
         "April",
         "Andhra Pradesh",
         "All Vahan Running Office",
         "E-RICKSHAW(P)",
         "ELECTRIC(BOV)",
         "3",
         "value in Absolute Number",
         null,
         "1"
        ],
        [
         "35",
         "2025",
         "April",
         "Andhra Pradesh",
         "All Vahan Running Office",
         "E-RICKSHAW(P)",
         "PURE EV",
         "2",
         "value in Absolute Number",
         null,
         "1"
        ],
        [
         "36",
         "2025",
         "April",
         "Andhra Pradesh",
         "All Vahan Running Office",
         "EDUCATIONAL INSTITUTION BUS",
         "DIESEL",
         "49",
         "value in Absolute Number",
         null,
         "0"
        ],
        [
         "37",
         "2025",
         "April",
         "Andhra Pradesh",
         "All Vahan Running Office",
         "EXCAVATOR (NT)",
         "DIESEL",
         "2",
         "value in Absolute Number",
         null,
         "0"
        ],
        [
         "38",
         "2025",
         "April",
         "Andhra Pradesh",
         "All Vahan Running Office",
         "FIRE TENDERS",
         "DIESEL",
         "3",
         "value in Absolute Number",
         null,
         "0"
        ],
        [
         "39",
         "2025",
         "April",
         "Andhra Pradesh",
         "All Vahan Running Office",
         "FORK LIFT",
         "DIESEL",
         "7",
         "value in Absolute Number",
         null,
         "0"
        ],
        [
         "40",
         "2025",
         "April",
         "Andhra Pradesh",
         "All Vahan Running Office",
         "GOODS CARRIER",
         "CNG ONLY",
         "23",
         "value in Absolute Number",
         null,
         "0"
        ],
        [
         "41",
         "2025",
         "April",
         "Andhra Pradesh",
         "All Vahan Running Office",
         "GOODS CARRIER",
         "DIESEL",
         "2257",
         "value in Absolute Number",
         null,
         "0"
        ],
        [
         "42",
         "2025",
         "April",
         "Andhra Pradesh",
         "All Vahan Running Office",
         "GOODS CARRIER",
         "ELECTRIC(BOV)",
         "5",
         "value in Absolute Number",
         null,
         "1"
        ],
        [
         "43",
         "2025",
         "April",
         "Andhra Pradesh",
         "All Vahan Running Office",
         "GOODS CARRIER",
         "PETROL",
         "48",
         "value in Absolute Number",
         null,
         "0"
        ],
        [
         "44",
         "2025",
         "April",
         "Andhra Pradesh",
         "All Vahan Running Office",
         "GOODS CARRIER",
         "PETROL/CNG",
         "4",
         "value in Absolute Number",
         null,
         "0"
        ],
        [
         "45",
         "2025",
         "April",
         "Andhra Pradesh",
         "All Vahan Running Office",
         "GOODS CARRIER",
         "PURE EV",
         "8",
         "value in Absolute Number",
         null,
         "1"
        ],
        [
         "46",
         "2025",
         "April",
         "Andhra Pradesh",
         "All Vahan Running Office",
         "HARVESTER",
         "DIESEL",
         "29",
         "value in Absolute Number",
         null,
         "0"
        ],
        [
         "47",
         "2025",
         "April",
         "Andhra Pradesh",
         "All Vahan Running Office",
         "M-CYCLE/SCOOTER",
         "CNG ONLY",
         "109",
         "value in Absolute Number",
         null,
         "0"
        ],
        [
         "48",
         "2025",
         "April",
         "Andhra Pradesh",
         "All Vahan Running Office",
         "M-CYCLE/SCOOTER",
         "ELECTRIC(BOV)",
         "479",
         "value in Absolute Number",
         null,
         "1"
        ],
        [
         "49",
         "2025",
         "April",
         "Andhra Pradesh",
         "All Vahan Running Office",
         "M-CYCLE/SCOOTER",
         "ETHANOL",
         "2",
         "value in Absolute Number",
         null,
         "0"
        ]
       ],
       "shape": {
        "columns": 10,
        "rows": 64841
       }
      },
      "text/html": [
       "<div>\n",
       "<style scoped>\n",
       "    .dataframe tbody tr th:only-of-type {\n",
       "        vertical-align: middle;\n",
       "    }\n",
       "\n",
       "    .dataframe tbody tr th {\n",
       "        vertical-align: top;\n",
       "    }\n",
       "\n",
       "    .dataframe thead th {\n",
       "        text-align: right;\n",
       "    }\n",
       "</style>\n",
       "<table border=\"1\" class=\"dataframe\">\n",
       "  <thead>\n",
       "    <tr style=\"text-align: right;\">\n",
       "      <th></th>\n",
       "      <th>year</th>\n",
       "      <th>month</th>\n",
       "      <th>state</th>\n",
       "      <th>rto</th>\n",
       "      <th>vehicle_class</th>\n",
       "      <th>fuel</th>\n",
       "      <th>value</th>\n",
       "      <th>unit</th>\n",
       "      <th>note</th>\n",
       "      <th>is_ev</th>\n",
       "    </tr>\n",
       "  </thead>\n",
       "  <tbody>\n",
       "    <tr>\n",
       "      <th>0</th>\n",
       "      <td>2025</td>\n",
       "      <td>April</td>\n",
       "      <td>Andaman and Nicobar Islands</td>\n",
       "      <td>All Vahan Running Office</td>\n",
       "      <td>BUS</td>\n",
       "      <td>DIESEL</td>\n",
       "      <td>2</td>\n",
       "      <td>value in Absolute Number</td>\n",
       "      <td>NaN</td>\n",
       "      <td>0</td>\n",
       "    </tr>\n",
       "    <tr>\n",
       "      <th>1</th>\n",
       "      <td>2025</td>\n",
       "      <td>April</td>\n",
       "      <td>Andaman and Nicobar Islands</td>\n",
       "      <td>All Vahan Running Office</td>\n",
       "      <td>GOODS CARRIER</td>\n",
       "      <td>DIESEL</td>\n",
       "      <td>23</td>\n",
       "      <td>value in Absolute Number</td>\n",
       "      <td>NaN</td>\n",
       "      <td>0</td>\n",
       "    </tr>\n",
       "    <tr>\n",
       "      <th>2</th>\n",
       "      <td>2025</td>\n",
       "      <td>April</td>\n",
       "      <td>Andaman and Nicobar Islands</td>\n",
       "      <td>All Vahan Running Office</td>\n",
       "      <td>GOODS CARRIER</td>\n",
       "      <td>PETROL</td>\n",
       "      <td>1</td>\n",
       "      <td>value in Absolute Number</td>\n",
       "      <td>NaN</td>\n",
       "      <td>0</td>\n",
       "    </tr>\n",
       "    <tr>\n",
       "      <th>3</th>\n",
       "      <td>2025</td>\n",
       "      <td>April</td>\n",
       "      <td>Andaman and Nicobar Islands</td>\n",
       "      <td>All Vahan Running Office</td>\n",
       "      <td>M-CYCLE/SCOOTER</td>\n",
       "      <td>ELECTRIC(BOV)</td>\n",
       "      <td>1</td>\n",
       "      <td>value in Absolute Number</td>\n",
       "      <td>NaN</td>\n",
       "      <td>1</td>\n",
       "    </tr>\n",
       "    <tr>\n",
       "      <th>4</th>\n",
       "      <td>2025</td>\n",
       "      <td>April</td>\n",
       "      <td>Andaman and Nicobar Islands</td>\n",
       "      <td>All Vahan Running Office</td>\n",
       "      <td>M-CYCLE/SCOOTER</td>\n",
       "      <td>PETROL</td>\n",
       "      <td>387</td>\n",
       "      <td>value in Absolute Number</td>\n",
       "      <td>NaN</td>\n",
       "      <td>0</td>\n",
       "    </tr>\n",
       "    <tr>\n",
       "      <th>...</th>\n",
       "      <td>...</td>\n",
       "      <td>...</td>\n",
       "      <td>...</td>\n",
       "      <td>...</td>\n",
       "      <td>...</td>\n",
       "      <td>...</td>\n",
       "      <td>...</td>\n",
       "      <td>...</td>\n",
       "      <td>...</td>\n",
       "      <td>...</td>\n",
       "    </tr>\n",
       "    <tr>\n",
       "      <th>64836</th>\n",
       "      <td>2022</td>\n",
       "      <td>April</td>\n",
       "      <td>West Bengal</td>\n",
       "      <td>All Vahan Running Office</td>\n",
       "      <td>THREE WHEELER (PASSENGER)</td>\n",
       "      <td>PETROL/CNG</td>\n",
       "      <td>3</td>\n",
       "      <td>value in Absolute Number</td>\n",
       "      <td>NaN</td>\n",
       "      <td>0</td>\n",
       "    </tr>\n",
       "    <tr>\n",
       "      <th>64837</th>\n",
       "      <td>2022</td>\n",
       "      <td>April</td>\n",
       "      <td>West Bengal</td>\n",
       "      <td>All Vahan Running Office</td>\n",
       "      <td>THREE WHEELER (PASSENGER)</td>\n",
       "      <td>PETROL/LPG</td>\n",
       "      <td>82</td>\n",
       "      <td>value in Absolute Number</td>\n",
       "      <td>NaN</td>\n",
       "      <td>0</td>\n",
       "    </tr>\n",
       "    <tr>\n",
       "      <th>64838</th>\n",
       "      <td>2022</td>\n",
       "      <td>April</td>\n",
       "      <td>West Bengal</td>\n",
       "      <td>All Vahan Running Office</td>\n",
       "      <td>TRACTOR (COMMERCIAL)</td>\n",
       "      <td>DIESEL</td>\n",
       "      <td>247</td>\n",
       "      <td>value in Absolute Number</td>\n",
       "      <td>NaN</td>\n",
       "      <td>0</td>\n",
       "    </tr>\n",
       "    <tr>\n",
       "      <th>64839</th>\n",
       "      <td>2022</td>\n",
       "      <td>April</td>\n",
       "      <td>West Bengal</td>\n",
       "      <td>All Vahan Running Office</td>\n",
       "      <td>TRAILER (COMMERCIAL)</td>\n",
       "      <td>NOT APPLICABLE</td>\n",
       "      <td>60</td>\n",
       "      <td>value in Absolute Number</td>\n",
       "      <td>NaN</td>\n",
       "      <td>0</td>\n",
       "    </tr>\n",
       "    <tr>\n",
       "      <th>64840</th>\n",
       "      <td>2022</td>\n",
       "      <td>April</td>\n",
       "      <td>West Bengal</td>\n",
       "      <td>All Vahan Running Office</td>\n",
       "      <td>VEHICLE FITTED WITH GENERATOR</td>\n",
       "      <td>DIESEL</td>\n",
       "      <td>1</td>\n",
       "      <td>value in Absolute Number</td>\n",
       "      <td>NaN</td>\n",
       "      <td>0</td>\n",
       "    </tr>\n",
       "  </tbody>\n",
       "</table>\n",
       "<p>64841 rows × 10 columns</p>\n",
       "</div>"
      ],
      "text/plain": [
       "       year  month                        state                       rto  \\\n",
       "0      2025  April  Andaman and Nicobar Islands  All Vahan Running Office   \n",
       "1      2025  April  Andaman and Nicobar Islands  All Vahan Running Office   \n",
       "2      2025  April  Andaman and Nicobar Islands  All Vahan Running Office   \n",
       "3      2025  April  Andaman and Nicobar Islands  All Vahan Running Office   \n",
       "4      2025  April  Andaman and Nicobar Islands  All Vahan Running Office   \n",
       "...     ...    ...                          ...                       ...   \n",
       "64836  2022  April                  West Bengal  All Vahan Running Office   \n",
       "64837  2022  April                  West Bengal  All Vahan Running Office   \n",
       "64838  2022  April                  West Bengal  All Vahan Running Office   \n",
       "64839  2022  April                  West Bengal  All Vahan Running Office   \n",
       "64840  2022  April                  West Bengal  All Vahan Running Office   \n",
       "\n",
       "                       vehicle_class            fuel  value  \\\n",
       "0                                BUS          DIESEL      2   \n",
       "1                      GOODS CARRIER          DIESEL     23   \n",
       "2                      GOODS CARRIER          PETROL      1   \n",
       "3                    M-CYCLE/SCOOTER   ELECTRIC(BOV)      1   \n",
       "4                    M-CYCLE/SCOOTER          PETROL    387   \n",
       "...                              ...             ...    ...   \n",
       "64836      THREE WHEELER (PASSENGER)      PETROL/CNG      3   \n",
       "64837      THREE WHEELER (PASSENGER)      PETROL/LPG     82   \n",
       "64838           TRACTOR (COMMERCIAL)          DIESEL    247   \n",
       "64839           TRAILER (COMMERCIAL)  NOT APPLICABLE     60   \n",
       "64840  VEHICLE FITTED WITH GENERATOR          DIESEL      1   \n",
       "\n",
       "                           unit  note  is_ev  \n",
       "0      value in Absolute Number   NaN      0  \n",
       "1      value in Absolute Number   NaN      0  \n",
       "2      value in Absolute Number   NaN      0  \n",
       "3      value in Absolute Number   NaN      1  \n",
       "4      value in Absolute Number   NaN      0  \n",
       "...                         ...   ...    ...  \n",
       "64836  value in Absolute Number   NaN      0  \n",
       "64837  value in Absolute Number   NaN      0  \n",
       "64838  value in Absolute Number   NaN      0  \n",
       "64839  value in Absolute Number   NaN      0  \n",
       "64840  value in Absolute Number   NaN      0  \n",
       "\n",
       "[64841 rows x 10 columns]"
      ]
     },
     "execution_count": 38,
     "metadata": {},
     "output_type": "execute_result"
    }
   ],
   "source": [
    "df_vehicle"
   ]
  },
  {
   "cell_type": "code",
   "execution_count": 39,
   "id": "cde7b95f",
   "metadata": {
    "ExecuteTime": {
     "end_time": "2025-08-02T09:12:30.298022Z",
     "start_time": "2025-08-02T09:12:30.279119Z"
    }
   },
   "outputs": [
    {
     "name": "stdout",
     "output_type": "stream",
     "text": [
      "<class 'pandas.core.frame.DataFrame'>\n",
      "RangeIndex: 64841 entries, 0 to 64840\n",
      "Data columns (total 10 columns):\n",
      " #   Column         Non-Null Count  Dtype  \n",
      "---  ------         --------------  -----  \n",
      " 0   year           64841 non-null  int64  \n",
      " 1   month          64841 non-null  object \n",
      " 2   state          64841 non-null  object \n",
      " 3   rto            64841 non-null  object \n",
      " 4   vehicle_class  64841 non-null  object \n",
      " 5   fuel           64841 non-null  object \n",
      " 6   value          64841 non-null  int64  \n",
      " 7   unit           64841 non-null  object \n",
      " 8   note           0 non-null      float64\n",
      " 9   is_ev          64841 non-null  int64  \n",
      "dtypes: float64(1), int64(3), object(6)\n",
      "memory usage: 4.9+ MB\n"
     ]
    }
   ],
   "source": [
    "df_vehicle.info()"
   ]
  },
  {
   "cell_type": "code",
   "execution_count": 40,
   "id": "0c69e996",
   "metadata": {
    "ExecuteTime": {
     "end_time": "2025-08-02T09:12:30.541572Z",
     "start_time": "2025-08-02T09:12:30.516181Z"
    }
   },
   "outputs": [
    {
     "data": {
      "application/vnd.microsoft.datawrangler.viewer.v0+json": {
       "columns": [
        {
         "name": "index",
         "rawType": "int64",
         "type": "integer"
        },
        {
         "name": "state",
         "rawType": "object",
         "type": "string"
        },
        {
         "name": "year",
         "rawType": "int64",
         "type": "integer"
        },
        {
         "name": "non_ev_vehicles",
         "rawType": "int64",
         "type": "integer"
        },
        {
         "name": "ev_vehicles",
         "rawType": "int64",
         "type": "integer"
        },
        {
         "name": "total_vehicles",
         "rawType": "int64",
         "type": "integer"
        },
        {
         "name": "ev_adoption_rate",
         "rawType": "float64",
         "type": "float"
        }
       ],
       "ref": "ae5288bb-0f95-4e49-ae78-2b989f2cab4c",
       "rows": [
        [
         "0",
         "Andaman and Nicobar Islands",
         "2022",
         "5500",
         "21",
         "5521",
         "0.38036587574714725"
        ],
        [
         "1",
         "Andaman and Nicobar Islands",
         "2023",
         "8045",
         "26",
         "8071",
         "0.3221409986370958"
        ],
        [
         "2",
         "Andaman and Nicobar Islands",
         "2024",
         "8379",
         "82",
         "8461",
         "0.9691525824370643"
        ],
        [
         "3",
         "Andaman and Nicobar Islands",
         "2025",
         "2706",
         "36",
         "2742",
         "1.312910284463895"
        ],
        [
         "4",
         "Andhra Pradesh",
         "2022",
         "601064",
         "21654",
         "622718",
         "3.4773364508493407"
        ],
        [
         "5",
         "Andhra Pradesh",
         "2023",
         "808346",
         "31811",
         "840157",
         "3.7863161290092204"
        ],
        [
         "6",
         "Andhra Pradesh",
         "2024",
         "855720",
         "57489",
         "913209",
         "6.295273042644127"
        ],
        [
         "7",
         "Andhra Pradesh",
         "2025",
         "257487",
         "17643",
         "275130",
         "6.412604950387089"
        ],
        [
         "8",
         "Arunachal Pradesh",
         "2022",
         "20868",
         "2",
         "20870",
         "0.009583133684714902"
        ],
        [
         "9",
         "Arunachal Pradesh",
         "2023",
         "30365",
         "20",
         "30385",
         "0.06582195162086556"
        ],
        [
         "10",
         "Arunachal Pradesh",
         "2024",
         "36666",
         "100",
         "36766",
         "0.271990425937007"
        ],
        [
         "11",
         "Arunachal Pradesh",
         "2025",
         "11642",
         "73",
         "11715",
         "0.6231327358087921"
        ],
        [
         "12",
         "Assam",
         "2022",
         "364501",
         "32482",
         "396983",
         "8.18221435174806"
        ],
        [
         "13",
         "Assam",
         "2023",
         "592801",
         "60798",
         "653599",
         "9.302033815841211"
        ],
        [
         "14",
         "Assam",
         "2024",
         "561258",
         "68422",
         "629680",
         "10.866154237072799"
        ],
        [
         "15",
         "Assam",
         "2025",
         "187309",
         "21726",
         "209035",
         "10.393474776951228"
        ],
        [
         "16",
         "Bihar",
         "2022",
         "838508",
         "45218",
         "883726",
         "5.116744330256211"
        ],
        [
         "17",
         "Bihar",
         "2023",
         "1199474",
         "88199",
         "1287673",
         "6.849487408682172"
        ],
        [
         "18",
         "Bihar",
         "2024",
         "1281595",
         "113132",
         "1394727",
         "8.111408182389814"
        ],
        [
         "19",
         "Bihar",
         "2025",
         "408961",
         "34398",
         "443359",
         "7.758498192209924"
        ],
        [
         "20",
         "Chandigarh",
         "2022",
         "37960",
         "2372",
         "40332",
         "5.881186154914212"
        ],
        [
         "21",
         "Chandigarh",
         "2023",
         "46813",
         "6411",
         "53224",
         "12.045317901698482"
        ],
        [
         "22",
         "Chandigarh",
         "2024",
         "39105",
         "7063",
         "46168",
         "15.29847513429215"
        ],
        [
         "23",
         "Chandigarh",
         "2025",
         "12798",
         "2040",
         "14838",
         "13.7484836231298"
        ],
        [
         "24",
         "Chhattisgarh",
         "2022",
         "361323",
         "19299",
         "380622",
         "5.070384791210177"
        ],
        [
         "25",
         "Chhattisgarh",
         "2023",
         "474703",
         "34518",
         "509221",
         "6.778589256923811"
        ],
        [
         "26",
         "Chhattisgarh",
         "2024",
         "663056",
         "49271",
         "712327",
         "6.916907543866792"
        ],
        [
         "27",
         "Chhattisgarh",
         "2025",
         "221215",
         "14577",
         "235792",
         "6.182143584175884"
        ],
        [
         "28",
         "Dadra and Nagar Haveli and Daman and Diu",
         "2022",
         "13991",
         "121",
         "14112",
         "0.8574263038548753"
        ],
        [
         "29",
         "Dadra and Nagar Haveli and Daman and Diu",
         "2023",
         "22286",
         "160",
         "22446",
         "0.7128218836318274"
        ],
        [
         "30",
         "Dadra and Nagar Haveli and Daman and Diu",
         "2024",
         "23770",
         "492",
         "24262",
         "2.027862501030418"
        ],
        [
         "31",
         "Dadra and Nagar Haveli and Daman and Diu",
         "2025",
         "8666",
         "210",
         "8876",
         "2.365930599369085"
        ],
        [
         "32",
         "Delhi",
         "2022",
         "427161",
         "48311",
         "475472",
         "10.160640374196587"
        ],
        [
         "33",
         "Delhi",
         "2023",
         "583031",
         "73613",
         "656644",
         "11.210488483866449"
        ],
        [
         "34",
         "Delhi",
         "2024",
         "625717",
         "85281",
         "710998",
         "11.994548507872034"
        ],
        [
         "35",
         "Delhi",
         "2025",
         "204529",
         "38731",
         "243260",
         "15.921647619830633"
        ],
        [
         "36",
         "Goa",
         "2022",
         "50880",
         "4808",
         "55688",
         "8.63381698031892"
        ],
        [
         "37",
         "Goa",
         "2023",
         "71830",
         "9483",
         "81313",
         "11.662341814961938"
        ],
        [
         "38",
         "Goa",
         "2024",
         "72549",
         "11750",
         "84299",
         "13.93848088352175"
        ],
        [
         "39",
         "Goa",
         "2025",
         "24769",
         "3333",
         "28102",
         "11.860365810262614"
        ],
        [
         "40",
         "Gujarat",
         "2022",
         "1195809",
         "58899",
         "1254708",
         "4.694239615910634"
        ],
        [
         "41",
         "Gujarat",
         "2023",
         "1732340",
         "88615",
         "1820955",
         "4.866402519557045"
        ],
        [
         "42",
         "Gujarat",
         "2024",
         "1818695",
         "80343",
         "1899038",
         "4.2307210282258705"
        ],
        [
         "43",
         "Gujarat",
         "2025",
         "546768",
         "23329",
         "570097",
         "4.092110640820772"
        ],
        [
         "44",
         "Haryana",
         "2022",
         "553647",
         "21521",
         "575168",
         "3.741689384666741"
        ],
        [
         "45",
         "Haryana",
         "2023",
         "806580",
         "30492",
         "837072",
         "3.6426974023739893"
        ],
        [
         "46",
         "Haryana",
         "2024",
         "948877",
         "47800",
         "996677",
         "4.795936898313094"
        ],
        [
         "47",
         "Haryana",
         "2025",
         "318505",
         "15243",
         "333748",
         "4.567218380334864"
        ],
        [
         "48",
         "Himachal Pradesh",
         "2022",
         "93941",
         "854",
         "94795",
         "0.900891397225592"
        ],
        [
         "49",
         "Himachal Pradesh",
         "2023",
         "126301",
         "1126",
         "127427",
         "0.8836431839406091"
        ]
       ],
       "shape": {
        "columns": 6,
        "rows": 139
       }
      },
      "text/html": [
       "<div>\n",
       "<style scoped>\n",
       "    .dataframe tbody tr th:only-of-type {\n",
       "        vertical-align: middle;\n",
       "    }\n",
       "\n",
       "    .dataframe tbody tr th {\n",
       "        vertical-align: top;\n",
       "    }\n",
       "\n",
       "    .dataframe thead th {\n",
       "        text-align: right;\n",
       "    }\n",
       "</style>\n",
       "<table border=\"1\" class=\"dataframe\">\n",
       "  <thead>\n",
       "    <tr style=\"text-align: right;\">\n",
       "      <th>is_ev</th>\n",
       "      <th>state</th>\n",
       "      <th>year</th>\n",
       "      <th>non_ev_vehicles</th>\n",
       "      <th>ev_vehicles</th>\n",
       "      <th>total_vehicles</th>\n",
       "      <th>ev_adoption_rate</th>\n",
       "    </tr>\n",
       "  </thead>\n",
       "  <tbody>\n",
       "    <tr>\n",
       "      <th>0</th>\n",
       "      <td>Andaman and Nicobar Islands</td>\n",
       "      <td>2022</td>\n",
       "      <td>5500</td>\n",
       "      <td>21</td>\n",
       "      <td>5521</td>\n",
       "      <td>0.380366</td>\n",
       "    </tr>\n",
       "    <tr>\n",
       "      <th>1</th>\n",
       "      <td>Andaman and Nicobar Islands</td>\n",
       "      <td>2023</td>\n",
       "      <td>8045</td>\n",
       "      <td>26</td>\n",
       "      <td>8071</td>\n",
       "      <td>0.322141</td>\n",
       "    </tr>\n",
       "    <tr>\n",
       "      <th>2</th>\n",
       "      <td>Andaman and Nicobar Islands</td>\n",
       "      <td>2024</td>\n",
       "      <td>8379</td>\n",
       "      <td>82</td>\n",
       "      <td>8461</td>\n",
       "      <td>0.969153</td>\n",
       "    </tr>\n",
       "    <tr>\n",
       "      <th>3</th>\n",
       "      <td>Andaman and Nicobar Islands</td>\n",
       "      <td>2025</td>\n",
       "      <td>2706</td>\n",
       "      <td>36</td>\n",
       "      <td>2742</td>\n",
       "      <td>1.312910</td>\n",
       "    </tr>\n",
       "    <tr>\n",
       "      <th>4</th>\n",
       "      <td>Andhra Pradesh</td>\n",
       "      <td>2022</td>\n",
       "      <td>601064</td>\n",
       "      <td>21654</td>\n",
       "      <td>622718</td>\n",
       "      <td>3.477336</td>\n",
       "    </tr>\n",
       "    <tr>\n",
       "      <th>...</th>\n",
       "      <td>...</td>\n",
       "      <td>...</td>\n",
       "      <td>...</td>\n",
       "      <td>...</td>\n",
       "      <td>...</td>\n",
       "      <td>...</td>\n",
       "    </tr>\n",
       "    <tr>\n",
       "      <th>134</th>\n",
       "      <td>Uttarakhand</td>\n",
       "      <td>2025</td>\n",
       "      <td>79758</td>\n",
       "      <td>5552</td>\n",
       "      <td>85310</td>\n",
       "      <td>6.508030</td>\n",
       "    </tr>\n",
       "    <tr>\n",
       "      <th>135</th>\n",
       "      <td>West Bengal</td>\n",
       "      <td>2022</td>\n",
       "      <td>730761</td>\n",
       "      <td>9107</td>\n",
       "      <td>739868</td>\n",
       "      <td>1.230895</td>\n",
       "    </tr>\n",
       "    <tr>\n",
       "      <th>136</th>\n",
       "      <td>West Bengal</td>\n",
       "      <td>2023</td>\n",
       "      <td>980890</td>\n",
       "      <td>21455</td>\n",
       "      <td>1002345</td>\n",
       "      <td>2.140481</td>\n",
       "    </tr>\n",
       "    <tr>\n",
       "      <th>137</th>\n",
       "      <td>West Bengal</td>\n",
       "      <td>2024</td>\n",
       "      <td>1138392</td>\n",
       "      <td>46562</td>\n",
       "      <td>1184954</td>\n",
       "      <td>3.929435</td>\n",
       "    </tr>\n",
       "    <tr>\n",
       "      <th>138</th>\n",
       "      <td>West Bengal</td>\n",
       "      <td>2025</td>\n",
       "      <td>368690</td>\n",
       "      <td>21542</td>\n",
       "      <td>390232</td>\n",
       "      <td>5.520306</td>\n",
       "    </tr>\n",
       "  </tbody>\n",
       "</table>\n",
       "<p>139 rows × 6 columns</p>\n",
       "</div>"
      ],
      "text/plain": [
       "is_ev                        state  year  non_ev_vehicles  ev_vehicles  \\\n",
       "0      Andaman and Nicobar Islands  2022             5500           21   \n",
       "1      Andaman and Nicobar Islands  2023             8045           26   \n",
       "2      Andaman and Nicobar Islands  2024             8379           82   \n",
       "3      Andaman and Nicobar Islands  2025             2706           36   \n",
       "4                   Andhra Pradesh  2022           601064        21654   \n",
       "..                             ...   ...              ...          ...   \n",
       "134                    Uttarakhand  2025            79758         5552   \n",
       "135                    West Bengal  2022           730761         9107   \n",
       "136                    West Bengal  2023           980890        21455   \n",
       "137                    West Bengal  2024          1138392        46562   \n",
       "138                    West Bengal  2025           368690        21542   \n",
       "\n",
       "is_ev  total_vehicles  ev_adoption_rate  \n",
       "0                5521          0.380366  \n",
       "1                8071          0.322141  \n",
       "2                8461          0.969153  \n",
       "3                2742          1.312910  \n",
       "4              622718          3.477336  \n",
       "..                ...               ...  \n",
       "134             85310          6.508030  \n",
       "135            739868          1.230895  \n",
       "136           1002345          2.140481  \n",
       "137           1184954          3.929435  \n",
       "138            390232          5.520306  \n",
       "\n",
       "[139 rows x 6 columns]"
      ]
     },
     "execution_count": 40,
     "metadata": {},
     "output_type": "execute_result"
    }
   ],
   "source": [
    "df_vehicle_agg = df_vehicle.groupby(['state', 'year', 'is_ev'])['value'].sum().unstack(fill_value=0)\n",
    "df_vehicle_agg.rename(columns={False: 'non_ev_vehicles', True: 'ev_vehicles'}, inplace=True)\n",
    "df_vehicle_agg['total_vehicles'] = df_vehicle_agg['non_ev_vehicles'] + df_vehicle_agg['ev_vehicles']\n",
    "df_vehicle_agg['ev_adoption_rate'] = (df_vehicle_agg['ev_vehicles'] / df_vehicle_agg['total_vehicles']) * 100\n",
    "\n",
    "df_vehicle_agg.reset_index()\n"
   ]
  },
  {
   "cell_type": "code",
   "execution_count": 41,
   "id": "a9deebb7",
   "metadata": {
    "ExecuteTime": {
     "end_time": "2025-08-02T09:12:30.740181Z",
     "start_time": "2025-08-02T09:12:30.728406Z"
    }
   },
   "outputs": [
    {
     "data": {
      "application/vnd.microsoft.datawrangler.viewer.v0+json": {
       "columns": [
        {
         "name": "index",
         "rawType": "int64",
         "type": "integer"
        },
        {
         "name": "state",
         "rawType": "object",
         "type": "string"
        },
        {
         "name": "year",
         "rawType": "int64",
         "type": "integer"
        },
        {
         "name": "non_ev_vehicles",
         "rawType": "int64",
         "type": "integer"
        },
        {
         "name": "ev_vehicles",
         "rawType": "int64",
         "type": "integer"
        },
        {
         "name": "total_vehicles",
         "rawType": "int64",
         "type": "integer"
        },
        {
         "name": "ev_adoption_rate",
         "rawType": "float64",
         "type": "float"
        }
       ],
       "ref": "4c294187-d07d-4507-9eb8-9725bf683291",
       "rows": [
        [
         "0",
         "Andaman and Nicobar Islands",
         "2022",
         "5500",
         "21",
         "5521",
         "0.38036587574714725"
        ],
        [
         "1",
         "Andaman and Nicobar Islands",
         "2023",
         "8045",
         "26",
         "8071",
         "0.3221409986370958"
        ],
        [
         "2",
         "Andaman and Nicobar Islands",
         "2024",
         "8379",
         "82",
         "8461",
         "0.9691525824370643"
        ],
        [
         "3",
         "Andaman and Nicobar Islands",
         "2025",
         "2706",
         "36",
         "2742",
         "1.312910284463895"
        ],
        [
         "4",
         "Andhra Pradesh",
         "2022",
         "601064",
         "21654",
         "622718",
         "3.4773364508493407"
        ],
        [
         "5",
         "Andhra Pradesh",
         "2023",
         "808346",
         "31811",
         "840157",
         "3.7863161290092204"
        ],
        [
         "6",
         "Andhra Pradesh",
         "2024",
         "855720",
         "57489",
         "913209",
         "6.295273042644127"
        ],
        [
         "7",
         "Andhra Pradesh",
         "2025",
         "257487",
         "17643",
         "275130",
         "6.412604950387089"
        ],
        [
         "8",
         "Arunachal Pradesh",
         "2022",
         "20868",
         "2",
         "20870",
         "0.009583133684714902"
        ],
        [
         "9",
         "Arunachal Pradesh",
         "2023",
         "30365",
         "20",
         "30385",
         "0.06582195162086556"
        ],
        [
         "10",
         "Arunachal Pradesh",
         "2024",
         "36666",
         "100",
         "36766",
         "0.271990425937007"
        ],
        [
         "11",
         "Arunachal Pradesh",
         "2025",
         "11642",
         "73",
         "11715",
         "0.6231327358087921"
        ],
        [
         "12",
         "Assam",
         "2022",
         "364501",
         "32482",
         "396983",
         "8.18221435174806"
        ],
        [
         "13",
         "Assam",
         "2023",
         "592801",
         "60798",
         "653599",
         "9.302033815841211"
        ],
        [
         "14",
         "Assam",
         "2024",
         "561258",
         "68422",
         "629680",
         "10.866154237072799"
        ],
        [
         "15",
         "Assam",
         "2025",
         "187309",
         "21726",
         "209035",
         "10.393474776951228"
        ],
        [
         "16",
         "Bihar",
         "2022",
         "838508",
         "45218",
         "883726",
         "5.116744330256211"
        ],
        [
         "17",
         "Bihar",
         "2023",
         "1199474",
         "88199",
         "1287673",
         "6.849487408682172"
        ],
        [
         "18",
         "Bihar",
         "2024",
         "1281595",
         "113132",
         "1394727",
         "8.111408182389814"
        ],
        [
         "19",
         "Bihar",
         "2025",
         "408961",
         "34398",
         "443359",
         "7.758498192209924"
        ],
        [
         "20",
         "Chandigarh",
         "2022",
         "37960",
         "2372",
         "40332",
         "5.881186154914212"
        ],
        [
         "21",
         "Chandigarh",
         "2023",
         "46813",
         "6411",
         "53224",
         "12.045317901698482"
        ],
        [
         "22",
         "Chandigarh",
         "2024",
         "39105",
         "7063",
         "46168",
         "15.29847513429215"
        ],
        [
         "23",
         "Chandigarh",
         "2025",
         "12798",
         "2040",
         "14838",
         "13.7484836231298"
        ],
        [
         "24",
         "Chhattisgarh",
         "2022",
         "361323",
         "19299",
         "380622",
         "5.070384791210177"
        ],
        [
         "25",
         "Chhattisgarh",
         "2023",
         "474703",
         "34518",
         "509221",
         "6.778589256923811"
        ],
        [
         "26",
         "Chhattisgarh",
         "2024",
         "663056",
         "49271",
         "712327",
         "6.916907543866792"
        ],
        [
         "27",
         "Chhattisgarh",
         "2025",
         "221215",
         "14577",
         "235792",
         "6.182143584175884"
        ],
        [
         "28",
         "Dadra and Nagar Haveli and Daman and Diu",
         "2022",
         "13991",
         "121",
         "14112",
         "0.8574263038548753"
        ],
        [
         "29",
         "Dadra and Nagar Haveli and Daman and Diu",
         "2023",
         "22286",
         "160",
         "22446",
         "0.7128218836318274"
        ],
        [
         "30",
         "Dadra and Nagar Haveli and Daman and Diu",
         "2024",
         "23770",
         "492",
         "24262",
         "2.027862501030418"
        ],
        [
         "31",
         "Dadra and Nagar Haveli and Daman and Diu",
         "2025",
         "8666",
         "210",
         "8876",
         "2.365930599369085"
        ],
        [
         "32",
         "Delhi",
         "2022",
         "427161",
         "48311",
         "475472",
         "10.160640374196587"
        ],
        [
         "33",
         "Delhi",
         "2023",
         "583031",
         "73613",
         "656644",
         "11.210488483866449"
        ],
        [
         "34",
         "Delhi",
         "2024",
         "625717",
         "85281",
         "710998",
         "11.994548507872034"
        ],
        [
         "35",
         "Delhi",
         "2025",
         "204529",
         "38731",
         "243260",
         "15.921647619830633"
        ],
        [
         "36",
         "Goa",
         "2022",
         "50880",
         "4808",
         "55688",
         "8.63381698031892"
        ],
        [
         "37",
         "Goa",
         "2023",
         "71830",
         "9483",
         "81313",
         "11.662341814961938"
        ],
        [
         "38",
         "Goa",
         "2024",
         "72549",
         "11750",
         "84299",
         "13.93848088352175"
        ],
        [
         "39",
         "Goa",
         "2025",
         "24769",
         "3333",
         "28102",
         "11.860365810262614"
        ],
        [
         "40",
         "Gujarat",
         "2022",
         "1195809",
         "58899",
         "1254708",
         "4.694239615910634"
        ],
        [
         "41",
         "Gujarat",
         "2023",
         "1732340",
         "88615",
         "1820955",
         "4.866402519557045"
        ],
        [
         "42",
         "Gujarat",
         "2024",
         "1818695",
         "80343",
         "1899038",
         "4.2307210282258705"
        ],
        [
         "43",
         "Gujarat",
         "2025",
         "546768",
         "23329",
         "570097",
         "4.092110640820772"
        ],
        [
         "44",
         "Haryana",
         "2022",
         "553647",
         "21521",
         "575168",
         "3.741689384666741"
        ],
        [
         "45",
         "Haryana",
         "2023",
         "806580",
         "30492",
         "837072",
         "3.6426974023739893"
        ],
        [
         "46",
         "Haryana",
         "2024",
         "948877",
         "47800",
         "996677",
         "4.795936898313094"
        ],
        [
         "47",
         "Haryana",
         "2025",
         "318505",
         "15243",
         "333748",
         "4.567218380334864"
        ],
        [
         "48",
         "Himachal Pradesh",
         "2022",
         "93941",
         "854",
         "94795",
         "0.900891397225592"
        ],
        [
         "49",
         "Himachal Pradesh",
         "2023",
         "126301",
         "1126",
         "127427",
         "0.8836431839406091"
        ]
       ],
       "shape": {
        "columns": 6,
        "rows": 139
       }
      },
      "text/html": [
       "<div>\n",
       "<style scoped>\n",
       "    .dataframe tbody tr th:only-of-type {\n",
       "        vertical-align: middle;\n",
       "    }\n",
       "\n",
       "    .dataframe tbody tr th {\n",
       "        vertical-align: top;\n",
       "    }\n",
       "\n",
       "    .dataframe thead th {\n",
       "        text-align: right;\n",
       "    }\n",
       "</style>\n",
       "<table border=\"1\" class=\"dataframe\">\n",
       "  <thead>\n",
       "    <tr style=\"text-align: right;\">\n",
       "      <th>is_ev</th>\n",
       "      <th>state</th>\n",
       "      <th>year</th>\n",
       "      <th>non_ev_vehicles</th>\n",
       "      <th>ev_vehicles</th>\n",
       "      <th>total_vehicles</th>\n",
       "      <th>ev_adoption_rate</th>\n",
       "    </tr>\n",
       "  </thead>\n",
       "  <tbody>\n",
       "    <tr>\n",
       "      <th>0</th>\n",
       "      <td>Andaman and Nicobar Islands</td>\n",
       "      <td>2022</td>\n",
       "      <td>5500</td>\n",
       "      <td>21</td>\n",
       "      <td>5521</td>\n",
       "      <td>0.380366</td>\n",
       "    </tr>\n",
       "    <tr>\n",
       "      <th>1</th>\n",
       "      <td>Andaman and Nicobar Islands</td>\n",
       "      <td>2023</td>\n",
       "      <td>8045</td>\n",
       "      <td>26</td>\n",
       "      <td>8071</td>\n",
       "      <td>0.322141</td>\n",
       "    </tr>\n",
       "    <tr>\n",
       "      <th>2</th>\n",
       "      <td>Andaman and Nicobar Islands</td>\n",
       "      <td>2024</td>\n",
       "      <td>8379</td>\n",
       "      <td>82</td>\n",
       "      <td>8461</td>\n",
       "      <td>0.969153</td>\n",
       "    </tr>\n",
       "    <tr>\n",
       "      <th>3</th>\n",
       "      <td>Andaman and Nicobar Islands</td>\n",
       "      <td>2025</td>\n",
       "      <td>2706</td>\n",
       "      <td>36</td>\n",
       "      <td>2742</td>\n",
       "      <td>1.312910</td>\n",
       "    </tr>\n",
       "    <tr>\n",
       "      <th>4</th>\n",
       "      <td>Andhra Pradesh</td>\n",
       "      <td>2022</td>\n",
       "      <td>601064</td>\n",
       "      <td>21654</td>\n",
       "      <td>622718</td>\n",
       "      <td>3.477336</td>\n",
       "    </tr>\n",
       "    <tr>\n",
       "      <th>...</th>\n",
       "      <td>...</td>\n",
       "      <td>...</td>\n",
       "      <td>...</td>\n",
       "      <td>...</td>\n",
       "      <td>...</td>\n",
       "      <td>...</td>\n",
       "    </tr>\n",
       "    <tr>\n",
       "      <th>134</th>\n",
       "      <td>Uttarakhand</td>\n",
       "      <td>2025</td>\n",
       "      <td>79758</td>\n",
       "      <td>5552</td>\n",
       "      <td>85310</td>\n",
       "      <td>6.508030</td>\n",
       "    </tr>\n",
       "    <tr>\n",
       "      <th>135</th>\n",
       "      <td>West Bengal</td>\n",
       "      <td>2022</td>\n",
       "      <td>730761</td>\n",
       "      <td>9107</td>\n",
       "      <td>739868</td>\n",
       "      <td>1.230895</td>\n",
       "    </tr>\n",
       "    <tr>\n",
       "      <th>136</th>\n",
       "      <td>West Bengal</td>\n",
       "      <td>2023</td>\n",
       "      <td>980890</td>\n",
       "      <td>21455</td>\n",
       "      <td>1002345</td>\n",
       "      <td>2.140481</td>\n",
       "    </tr>\n",
       "    <tr>\n",
       "      <th>137</th>\n",
       "      <td>West Bengal</td>\n",
       "      <td>2024</td>\n",
       "      <td>1138392</td>\n",
       "      <td>46562</td>\n",
       "      <td>1184954</td>\n",
       "      <td>3.929435</td>\n",
       "    </tr>\n",
       "    <tr>\n",
       "      <th>138</th>\n",
       "      <td>West Bengal</td>\n",
       "      <td>2025</td>\n",
       "      <td>368690</td>\n",
       "      <td>21542</td>\n",
       "      <td>390232</td>\n",
       "      <td>5.520306</td>\n",
       "    </tr>\n",
       "  </tbody>\n",
       "</table>\n",
       "<p>139 rows × 6 columns</p>\n",
       "</div>"
      ],
      "text/plain": [
       "is_ev                        state  year  non_ev_vehicles  ev_vehicles  \\\n",
       "0      Andaman and Nicobar Islands  2022             5500           21   \n",
       "1      Andaman and Nicobar Islands  2023             8045           26   \n",
       "2      Andaman and Nicobar Islands  2024             8379           82   \n",
       "3      Andaman and Nicobar Islands  2025             2706           36   \n",
       "4                   Andhra Pradesh  2022           601064        21654   \n",
       "..                             ...   ...              ...          ...   \n",
       "134                    Uttarakhand  2025            79758         5552   \n",
       "135                    West Bengal  2022           730761         9107   \n",
       "136                    West Bengal  2023           980890        21455   \n",
       "137                    West Bengal  2024          1138392        46562   \n",
       "138                    West Bengal  2025           368690        21542   \n",
       "\n",
       "is_ev  total_vehicles  ev_adoption_rate  \n",
       "0                5521          0.380366  \n",
       "1                8071          0.322141  \n",
       "2                8461          0.969153  \n",
       "3                2742          1.312910  \n",
       "4              622718          3.477336  \n",
       "..                ...               ...  \n",
       "134             85310          6.508030  \n",
       "135            739868          1.230895  \n",
       "136           1002345          2.140481  \n",
       "137           1184954          3.929435  \n",
       "138            390232          5.520306  \n",
       "\n",
       "[139 rows x 6 columns]"
      ]
     },
     "execution_count": 41,
     "metadata": {},
     "output_type": "execute_result"
    }
   ],
   "source": [
    "df_vehicle_adoption = df_vehicle_agg.reset_index()\n",
    "df_vehicle_adoption"
   ]
  },
  {
   "cell_type": "code",
   "execution_count": 42,
   "id": "a56c0588",
   "metadata": {},
   "outputs": [],
   "source": [
    "df_vehicle_adoption.to_csv('vehicle_adoption_df.csv',index=False)"
   ]
  },
  {
   "cell_type": "markdown",
   "id": "57e779e9",
   "metadata": {},
   "source": [
    "# DATAMODEL\n"
   ]
  },
  {
   "cell_type": "code",
   "execution_count": 43,
   "id": "020bda32",
   "metadata": {
    "ExecuteTime": {
     "end_time": "2025-08-02T09:12:31.161990Z",
     "start_time": "2025-08-02T09:12:31.119750Z"
    }
   },
   "outputs": [
    {
     "data": {
      "application/vnd.microsoft.datawrangler.viewer.v0+json": {
       "columns": [
        {
         "name": "index",
         "rawType": "int64",
         "type": "integer"
        },
        {
         "name": "index",
         "rawType": "int64",
         "type": "integer"
        },
        {
         "name": "state",
         "rawType": "object",
         "type": "string"
        },
        {
         "name": "area",
         "rawType": "object",
         "type": "string"
        },
        {
         "name": "Area_ID",
         "rawType": "int64",
         "type": "integer"
        }
       ],
       "ref": "69cbc4ef-a5e3-4233-973a-edb0b1a0e06d",
       "rows": [
        [
         "0",
         "0",
         "Maharashtra",
         "Amravati",
         "1"
        ],
        [
         "1",
         "1",
         "Bihar",
         "Purnia",
         "2"
        ],
        [
         "2",
         "2",
         "Madhya Pradesh",
         "Katni",
         "3"
        ],
        [
         "3",
         "3",
         "Chhattisgarh",
         "Tumidih",
         "4"
        ],
        [
         "4",
         "4",
         "Assam",
         "Byrnihat",
         "5"
        ],
        [
         "5",
         "5",
         "Manipur",
         "Imphal",
         "6"
        ],
        [
         "6",
         "6",
         "Kerala",
         "Kollam",
         "7"
        ],
        [
         "7",
         "7",
         "West Bengal",
         "Barrackpore",
         "8"
        ],
        [
         "8",
         "8",
         "Odisha",
         "Nayagarh",
         "9"
        ],
        [
         "9",
         "9",
         "Assam",
         "Nalbari",
         "10"
        ],
        [
         "10",
         "10",
         "Karnataka",
         "Hubballi",
         "11"
        ],
        [
         "11",
         "11",
         "Gujarat",
         "Ahmedabad",
         "12"
        ],
        [
         "12",
         "12",
         "Uttarakhand",
         "Dehradun",
         "13"
        ],
        [
         "13",
         "13",
         "Tamil Nadu",
         "Vellore",
         "14"
        ],
        [
         "14",
         "14",
         "Maharashtra",
         "Ulhasnagar",
         "15"
        ],
        [
         "15",
         "15",
         "Tamil Nadu",
         "Chengalpattu",
         "16"
        ],
        [
         "16",
         "16",
         "Andhra Pradesh",
         "Tirupati",
         "17"
        ],
        [
         "17",
         "17",
         "Tamil Nadu",
         "Dindigul",
         "18"
        ],
        [
         "18",
         "18",
         "Andhra Pradesh",
         "Kadapa",
         "19"
        ],
        [
         "19",
         "19",
         "Maharashtra",
         "Thane",
         "20"
        ],
        [
         "20",
         "20",
         "Uttarakhand",
         "Rishikesh",
         "21"
        ],
        [
         "21",
         "21",
         "Chhattisgarh",
         "Raipur",
         "22"
        ],
        [
         "22",
         "22",
         "Tamil Nadu",
         "Ranipet",
         "23"
        ],
        [
         "23",
         "23",
         "Bihar",
         "Samastipur",
         "24"
        ],
        [
         "24",
         "24",
         "Madhya Pradesh",
         "Jabalpur",
         "25"
        ],
        [
         "25",
         "25",
         "Bihar",
         "Kishanganj",
         "26"
        ],
        [
         "26",
         "26",
         "Bihar",
         "Saharsa",
         "27"
        ],
        [
         "27",
         "27",
         "Karnataka",
         "Yadgir",
         "28"
        ],
        [
         "28",
         "28",
         "Rajasthan",
         "Dungarpur",
         "29"
        ],
        [
         "29",
         "29",
         "Uttar Pradesh",
         "Meerut",
         "30"
        ],
        [
         "30",
         "30",
         "Rajasthan",
         "Sawai Madhopur",
         "31"
        ],
        [
         "31",
         "31",
         "Uttar Pradesh",
         "Ghaziabad",
         "32"
        ],
        [
         "32",
         "32",
         "Madhya Pradesh",
         "Pithampur",
         "33"
        ],
        [
         "33",
         "33",
         "Uttar Pradesh",
         "Kanpur",
         "34"
        ],
        [
         "34",
         "34",
         "Tamil Nadu",
         "Chennai",
         "35"
        ],
        [
         "35",
         "35",
         "Rajasthan",
         "Nagaur",
         "36"
        ],
        [
         "36",
         "36",
         "Andhra Pradesh",
         "Chittoor",
         "37"
        ],
        [
         "37",
         "37",
         "Maharashtra",
         "Kalyan",
         "38"
        ],
        [
         "38",
         "38",
         "Maharashtra",
         "Mira Bhayandar",
         "39"
        ],
        [
         "39",
         "39",
         "Odisha",
         "Bhubaneswar",
         "40"
        ],
        [
         "40",
         "40",
         "Rajasthan",
         "Churu",
         "41"
        ],
        [
         "41",
         "41",
         "Rajasthan",
         "Jodhpur",
         "42"
        ],
        [
         "42",
         "42",
         "Bihar",
         "Katihar",
         "43"
        ],
        [
         "43",
         "43",
         "Rajasthan",
         "Pali",
         "44"
        ],
        [
         "44",
         "44",
         "Odisha",
         "Balasore",
         "45"
        ],
        [
         "45",
         "45",
         "Rajasthan",
         "Sikar",
         "46"
        ],
        [
         "46",
         "46",
         "Punjab",
         "Jalandhar",
         "47"
        ],
        [
         "47",
         "47",
         "Andhra Pradesh",
         "Tirumala",
         "48"
        ],
        [
         "48",
         "48",
         "Odisha",
         "Angul",
         "49"
        ],
        [
         "49",
         "49",
         "Punjab",
         "Patiala",
         "50"
        ]
       ],
       "shape": {
        "columns": 4,
        "rows": 292
       }
      },
      "text/html": [
       "<div>\n",
       "<style scoped>\n",
       "    .dataframe tbody tr th:only-of-type {\n",
       "        vertical-align: middle;\n",
       "    }\n",
       "\n",
       "    .dataframe tbody tr th {\n",
       "        vertical-align: top;\n",
       "    }\n",
       "\n",
       "    .dataframe thead th {\n",
       "        text-align: right;\n",
       "    }\n",
       "</style>\n",
       "<table border=\"1\" class=\"dataframe\">\n",
       "  <thead>\n",
       "    <tr style=\"text-align: right;\">\n",
       "      <th></th>\n",
       "      <th>index</th>\n",
       "      <th>state</th>\n",
       "      <th>area</th>\n",
       "      <th>Area_ID</th>\n",
       "    </tr>\n",
       "  </thead>\n",
       "  <tbody>\n",
       "    <tr>\n",
       "      <th>0</th>\n",
       "      <td>0</td>\n",
       "      <td>Maharashtra</td>\n",
       "      <td>Amravati</td>\n",
       "      <td>1</td>\n",
       "    </tr>\n",
       "    <tr>\n",
       "      <th>1</th>\n",
       "      <td>1</td>\n",
       "      <td>Bihar</td>\n",
       "      <td>Purnia</td>\n",
       "      <td>2</td>\n",
       "    </tr>\n",
       "    <tr>\n",
       "      <th>2</th>\n",
       "      <td>2</td>\n",
       "      <td>Madhya Pradesh</td>\n",
       "      <td>Katni</td>\n",
       "      <td>3</td>\n",
       "    </tr>\n",
       "    <tr>\n",
       "      <th>3</th>\n",
       "      <td>3</td>\n",
       "      <td>Chhattisgarh</td>\n",
       "      <td>Tumidih</td>\n",
       "      <td>4</td>\n",
       "    </tr>\n",
       "    <tr>\n",
       "      <th>4</th>\n",
       "      <td>4</td>\n",
       "      <td>Assam</td>\n",
       "      <td>Byrnihat</td>\n",
       "      <td>5</td>\n",
       "    </tr>\n",
       "    <tr>\n",
       "      <th>...</th>\n",
       "      <td>...</td>\n",
       "      <td>...</td>\n",
       "      <td>...</td>\n",
       "      <td>...</td>\n",
       "    </tr>\n",
       "    <tr>\n",
       "      <th>287</th>\n",
       "      <td>97488</td>\n",
       "      <td>Kerala</td>\n",
       "      <td>Kochi</td>\n",
       "      <td>288</td>\n",
       "    </tr>\n",
       "    <tr>\n",
       "      <th>288</th>\n",
       "      <td>122315</td>\n",
       "      <td>Jammu and Kashmir</td>\n",
       "      <td>Srinagar</td>\n",
       "      <td>289</td>\n",
       "    </tr>\n",
       "    <tr>\n",
       "      <th>289</th>\n",
       "      <td>178540</td>\n",
       "      <td>Kerala</td>\n",
       "      <td>Kozhikode</td>\n",
       "      <td>290</td>\n",
       "    </tr>\n",
       "    <tr>\n",
       "      <th>290</th>\n",
       "      <td>189891</td>\n",
       "      <td>Bihar</td>\n",
       "      <td>Darbhanga</td>\n",
       "      <td>291</td>\n",
       "    </tr>\n",
       "    <tr>\n",
       "      <th>291</th>\n",
       "      <td>199931</td>\n",
       "      <td>Kerala</td>\n",
       "      <td>Ernakulam</td>\n",
       "      <td>292</td>\n",
       "    </tr>\n",
       "  </tbody>\n",
       "</table>\n",
       "<p>292 rows × 4 columns</p>\n",
       "</div>"
      ],
      "text/plain": [
       "      index              state       area  Area_ID\n",
       "0         0        Maharashtra   Amravati        1\n",
       "1         1              Bihar     Purnia        2\n",
       "2         2     Madhya Pradesh      Katni        3\n",
       "3         3       Chhattisgarh    Tumidih        4\n",
       "4         4              Assam   Byrnihat        5\n",
       "..      ...                ...        ...      ...\n",
       "287   97488             Kerala      Kochi      288\n",
       "288  122315  Jammu and Kashmir   Srinagar      289\n",
       "289  178540             Kerala  Kozhikode      290\n",
       "290  189891              Bihar  Darbhanga      291\n",
       "291  199931             Kerala  Ernakulam      292\n",
       "\n",
       "[292 rows x 4 columns]"
      ]
     },
     "execution_count": 43,
     "metadata": {},
     "output_type": "execute_result"
    }
   ],
   "source": [
    "dim_area = df_aqi[['state','area']].drop_duplicates().reset_index()\n",
    "dim_area['Area_ID'] = dim_area.index+1\n",
    "dim_area"
   ]
  },
  {
   "cell_type": "code",
   "execution_count": 44,
   "id": "d5e58804",
   "metadata": {
    "ExecuteTime": {
     "end_time": "2025-08-02T09:12:31.316716Z",
     "start_time": "2025-08-02T09:12:31.308357Z"
    }
   },
   "outputs": [
    {
     "data": {
      "application/vnd.microsoft.datawrangler.viewer.v0+json": {
       "columns": [
        {
         "name": "index",
         "rawType": "int64",
         "type": "integer"
        },
        {
         "name": "state",
         "rawType": "object",
         "type": "string"
        },
        {
         "name": "Population",
         "rawType": "int64",
         "type": "integer"
        }
       ],
       "ref": "e8448125-5f74-493f-b076-b2e185d139ea",
       "rows": [
        [
         "3762",
         "West Bengal",
         "37995000"
        ],
        [
         "3765",
         "Uttarakhand",
         "4431000"
        ],
        [
         "3768",
         "Uttar Pradesh",
         "59007000"
        ],
        [
         "3771",
         "Tripura",
         "1787000"
        ],
        [
         "3774",
         "Telangana",
         "19078000"
        ],
        [
         "3777",
         "Tamil Nadu",
         "42472000"
        ],
        [
         "3780",
         "Sikkim",
         "384000"
        ],
        [
         "3783",
         "Rajasthan",
         "22468000"
        ],
        [
         "3786",
         "Punjab",
         "13359000"
        ],
        [
         "3789",
         "Puducherry",
         "1229000"
        ],
        [
         "3792",
         "Odisha",
         "9077000"
        ],
        [
         "3795",
         "Nagaland",
         "1132000"
        ],
        [
         "3798",
         "Mizoram",
         "705000"
        ],
        [
         "3801",
         "Meghalaya",
         "712000"
        ],
        [
         "3804",
         "Manipur",
         "1093000"
        ],
        [
         "3807",
         "Maharashtra",
         "63463000"
        ],
        [
         "3810",
         "Madhya Pradesh",
         "26126000"
        ],
        [
         "3813",
         "Lakshadweep",
         "70000"
        ],
        [
         "3816",
         "Ladakh",
         "100000"
        ],
        [
         "3819",
         "Kerala",
         "29122000"
        ],
        [
         "3822",
         "Karnataka",
         "31402000"
        ],
        [
         "3825",
         "Jharkhand",
         "10848000"
        ],
        [
         "3828",
         "Jammu and Kashmir",
         "4324000"
        ],
        [
         "3831",
         "Himachal Pradesh",
         "785000"
        ],
        [
         "3834",
         "Haryana",
         "13582000"
        ],
        [
         "3837",
         "Gujarat",
         "36863000"
        ],
        [
         "3840",
         "Goa",
         "1252000"
        ],
        [
         "3843",
         "Delhi",
         "22325000"
        ],
        [
         "3846",
         "Daman and Diu",
         "665000"
        ],
        [
         "3849",
         "Dadra and Nagar Haveli",
         "596000"
        ],
        [
         "3852",
         "Chhattisgarh",
         "8682000"
        ],
        [
         "3855",
         "Chandigarh",
         "1262000"
        ],
        [
         "3858",
         "Bihar",
         "16415000"
        ],
        [
         "3861",
         "Assam",
         "5807000"
        ],
        [
         "3864",
         "Arunachal Pradesh",
         "419000"
        ],
        [
         "3867",
         "Andhra Pradesh",
         "20407000"
        ],
        [
         "3870",
         "Andaman and Nicobar Islands",
         "185000"
        ],
        [
         "3873",
         "All India",
         "509622000"
        ],
        [
         "3876",
         "West Bengal",
         "37642000"
        ],
        [
         "3879",
         "Uttarakhand",
         "4373000"
        ],
        [
         "3882",
         "Uttar Pradesh",
         "58465000"
        ],
        [
         "3885",
         "Tripura",
         "1750000"
        ],
        [
         "3888",
         "Telangana",
         "18984000"
        ],
        [
         "3891",
         "Tamil Nadu",
         "42196000"
        ],
        [
         "3894",
         "Sikkim",
         "373000"
        ],
        [
         "3897",
         "Rajasthan",
         "22262000"
        ],
        [
         "3900",
         "Punjab",
         "13243000"
        ],
        [
         "3903",
         "Puducherry",
         "1212000"
        ],
        [
         "3906",
         "Odisha",
         "8994000"
        ],
        [
         "3909",
         "Nagaland",
         "1107000"
        ]
       ],
       "shape": {
        "columns": 2,
        "rows": 112
       }
      },
      "text/html": [
       "<div>\n",
       "<style scoped>\n",
       "    .dataframe tbody tr th:only-of-type {\n",
       "        vertical-align: middle;\n",
       "    }\n",
       "\n",
       "    .dataframe tbody tr th {\n",
       "        vertical-align: top;\n",
       "    }\n",
       "\n",
       "    .dataframe thead th {\n",
       "        text-align: right;\n",
       "    }\n",
       "</style>\n",
       "<table border=\"1\" class=\"dataframe\">\n",
       "  <thead>\n",
       "    <tr style=\"text-align: right;\">\n",
       "      <th></th>\n",
       "      <th>state</th>\n",
       "      <th>Population</th>\n",
       "    </tr>\n",
       "  </thead>\n",
       "  <tbody>\n",
       "    <tr>\n",
       "      <th>3762</th>\n",
       "      <td>West Bengal</td>\n",
       "      <td>37995000</td>\n",
       "    </tr>\n",
       "    <tr>\n",
       "      <th>3765</th>\n",
       "      <td>Uttarakhand</td>\n",
       "      <td>4431000</td>\n",
       "    </tr>\n",
       "    <tr>\n",
       "      <th>3768</th>\n",
       "      <td>Uttar Pradesh</td>\n",
       "      <td>59007000</td>\n",
       "    </tr>\n",
       "    <tr>\n",
       "      <th>3771</th>\n",
       "      <td>Tripura</td>\n",
       "      <td>1787000</td>\n",
       "    </tr>\n",
       "    <tr>\n",
       "      <th>3774</th>\n",
       "      <td>Telangana</td>\n",
       "      <td>19078000</td>\n",
       "    </tr>\n",
       "    <tr>\n",
       "      <th>...</th>\n",
       "      <td>...</td>\n",
       "      <td>...</td>\n",
       "    </tr>\n",
       "    <tr>\n",
       "      <th>4089</th>\n",
       "      <td>Assam</td>\n",
       "      <td>5783000</td>\n",
       "    </tr>\n",
       "    <tr>\n",
       "      <th>4092</th>\n",
       "      <td>Arunachal Pradesh</td>\n",
       "      <td>417000</td>\n",
       "    </tr>\n",
       "    <tr>\n",
       "      <th>4095</th>\n",
       "      <td>Andhra Pradesh</td>\n",
       "      <td>20307000</td>\n",
       "    </tr>\n",
       "    <tr>\n",
       "      <th>4098</th>\n",
       "      <td>Andaman and Nicobar Islands</td>\n",
       "      <td>184000</td>\n",
       "    </tr>\n",
       "    <tr>\n",
       "      <th>4101</th>\n",
       "      <td>All India</td>\n",
       "      <td>507401000</td>\n",
       "    </tr>\n",
       "  </tbody>\n",
       "</table>\n",
       "<p>112 rows × 2 columns</p>\n",
       "</div>"
      ],
      "text/plain": [
       "                            state  Population\n",
       "3762                  West Bengal    37995000\n",
       "3765                  Uttarakhand     4431000\n",
       "3768                Uttar Pradesh    59007000\n",
       "3771                      Tripura     1787000\n",
       "3774                    Telangana    19078000\n",
       "...                           ...         ...\n",
       "4089                        Assam     5783000\n",
       "4092            Arunachal Pradesh      417000\n",
       "4095               Andhra Pradesh    20307000\n",
       "4098  Andaman and Nicobar Islands      184000\n",
       "4101                    All India   507401000\n",
       "\n",
       "[112 rows x 2 columns]"
      ]
     },
     "execution_count": 44,
     "metadata": {},
     "output_type": "execute_result"
    }
   ],
   "source": [
    "df_final_cleanpop.drop_duplicates()"
   ]
  },
  {
   "cell_type": "code",
   "execution_count": 45,
   "id": "f0726e2b",
   "metadata": {
    "ExecuteTime": {
     "end_time": "2025-08-02T09:15:35.143255Z",
     "start_time": "2025-08-02T09:15:35.132733Z"
    }
   },
   "outputs": [
    {
     "data": {
      "application/vnd.microsoft.datawrangler.viewer.v0+json": {
       "columns": [
        {
         "name": "index",
         "rawType": "int64",
         "type": "integer"
        },
        {
         "name": "index",
         "rawType": "int64",
         "type": "integer"
        },
        {
         "name": "state",
         "rawType": "object",
         "type": "string"
        },
        {
         "name": "area",
         "rawType": "object",
         "type": "string"
        },
        {
         "name": "Area_ID",
         "rawType": "int64",
         "type": "integer"
        },
        {
         "name": "Population",
         "rawType": "int64",
         "type": "integer"
        }
       ],
       "ref": "b19b32bf-ca0e-4d2e-bd46-3b31652dc432",
       "rows": [
        [
         "0",
         "0",
         "Maharashtra",
         "Amravati",
         "1",
         "63463000"
        ],
        [
         "1",
         "0",
         "Maharashtra",
         "Amravati",
         "1",
         "62979000"
        ],
        [
         "2",
         "0",
         "Maharashtra",
         "Amravati",
         "1",
         "63256000"
        ],
        [
         "3",
         "1",
         "Bihar",
         "Purnia",
         "2",
         "16415000"
        ],
        [
         "4",
         "1",
         "Bihar",
         "Purnia",
         "2",
         "16221000"
        ],
        [
         "5",
         "1",
         "Bihar",
         "Purnia",
         "2",
         "16332000"
        ],
        [
         "6",
         "2",
         "Madhya Pradesh",
         "Katni",
         "3",
         "26126000"
        ],
        [
         "7",
         "2",
         "Madhya Pradesh",
         "Katni",
         "3",
         "25894000"
        ],
        [
         "8",
         "2",
         "Madhya Pradesh",
         "Katni",
         "3",
         "26027000"
        ],
        [
         "9",
         "3",
         "Chhattisgarh",
         "Tumidih",
         "4",
         "8682000"
        ],
        [
         "10",
         "3",
         "Chhattisgarh",
         "Tumidih",
         "4",
         "8568000"
        ],
        [
         "11",
         "3",
         "Chhattisgarh",
         "Tumidih",
         "4",
         "8633000"
        ],
        [
         "12",
         "4",
         "Assam",
         "Byrnihat",
         "5",
         "5807000"
        ],
        [
         "13",
         "4",
         "Assam",
         "Byrnihat",
         "5",
         "5750000"
        ],
        [
         "14",
         "4",
         "Assam",
         "Byrnihat",
         "5",
         "5783000"
        ],
        [
         "15",
         "5",
         "Manipur",
         "Imphal",
         "6",
         "1093000"
        ],
        [
         "16",
         "5",
         "Manipur",
         "Imphal",
         "6",
         "1082000"
        ],
        [
         "17",
         "5",
         "Manipur",
         "Imphal",
         "6",
         "1088000"
        ],
        [
         "18",
         "6",
         "Kerala",
         "Kollam",
         "7",
         "29122000"
        ],
        [
         "19",
         "6",
         "Kerala",
         "Kollam",
         "7",
         "28642000"
        ],
        [
         "20",
         "6",
         "Kerala",
         "Kollam",
         "7",
         "28916000"
        ],
        [
         "21",
         "7",
         "West Bengal",
         "Barrackpore",
         "8",
         "37995000"
        ],
        [
         "22",
         "7",
         "West Bengal",
         "Barrackpore",
         "8",
         "37642000"
        ],
        [
         "23",
         "7",
         "West Bengal",
         "Barrackpore",
         "8",
         "37844000"
        ],
        [
         "24",
         "8",
         "Odisha",
         "Nayagarh",
         "9",
         "9077000"
        ],
        [
         "25",
         "8",
         "Odisha",
         "Nayagarh",
         "9",
         "8994000"
        ],
        [
         "26",
         "8",
         "Odisha",
         "Nayagarh",
         "9",
         "9042000"
        ],
        [
         "27",
         "9",
         "Assam",
         "Nalbari",
         "10",
         "5807000"
        ],
        [
         "28",
         "9",
         "Assam",
         "Nalbari",
         "10",
         "5750000"
        ],
        [
         "29",
         "9",
         "Assam",
         "Nalbari",
         "10",
         "5783000"
        ],
        [
         "30",
         "10",
         "Karnataka",
         "Hubballi",
         "11",
         "31402000"
        ],
        [
         "31",
         "10",
         "Karnataka",
         "Hubballi",
         "11",
         "31096000"
        ],
        [
         "32",
         "10",
         "Karnataka",
         "Hubballi",
         "11",
         "31271000"
        ],
        [
         "33",
         "11",
         "Gujarat",
         "Ahmedabad",
         "12",
         "36863000"
        ],
        [
         "34",
         "11",
         "Gujarat",
         "Ahmedabad",
         "12",
         "36403000"
        ],
        [
         "35",
         "11",
         "Gujarat",
         "Ahmedabad",
         "12",
         "36666000"
        ],
        [
         "36",
         "12",
         "Uttarakhand",
         "Dehradun",
         "13",
         "4431000"
        ],
        [
         "37",
         "12",
         "Uttarakhand",
         "Dehradun",
         "13",
         "4373000"
        ],
        [
         "38",
         "12",
         "Uttarakhand",
         "Dehradun",
         "13",
         "4406000"
        ],
        [
         "39",
         "13",
         "Tamil Nadu",
         "Vellore",
         "14",
         "42472000"
        ],
        [
         "40",
         "13",
         "Tamil Nadu",
         "Vellore",
         "14",
         "42196000"
        ],
        [
         "41",
         "13",
         "Tamil Nadu",
         "Vellore",
         "14",
         "42354000"
        ],
        [
         "42",
         "14",
         "Maharashtra",
         "Ulhasnagar",
         "15",
         "63463000"
        ],
        [
         "43",
         "14",
         "Maharashtra",
         "Ulhasnagar",
         "15",
         "62979000"
        ],
        [
         "44",
         "14",
         "Maharashtra",
         "Ulhasnagar",
         "15",
         "63256000"
        ],
        [
         "45",
         "15",
         "Tamil Nadu",
         "Chengalpattu",
         "16",
         "42472000"
        ],
        [
         "46",
         "15",
         "Tamil Nadu",
         "Chengalpattu",
         "16",
         "42196000"
        ],
        [
         "47",
         "15",
         "Tamil Nadu",
         "Chengalpattu",
         "16",
         "42354000"
        ],
        [
         "48",
         "16",
         "Andhra Pradesh",
         "Tirupati",
         "17",
         "20407000"
        ],
        [
         "49",
         "16",
         "Andhra Pradesh",
         "Tirupati",
         "17",
         "20174000"
        ]
       ],
       "shape": {
        "columns": 5,
        "rows": 876
       }
      },
      "text/html": [
       "<div>\n",
       "<style scoped>\n",
       "    .dataframe tbody tr th:only-of-type {\n",
       "        vertical-align: middle;\n",
       "    }\n",
       "\n",
       "    .dataframe tbody tr th {\n",
       "        vertical-align: top;\n",
       "    }\n",
       "\n",
       "    .dataframe thead th {\n",
       "        text-align: right;\n",
       "    }\n",
       "</style>\n",
       "<table border=\"1\" class=\"dataframe\">\n",
       "  <thead>\n",
       "    <tr style=\"text-align: right;\">\n",
       "      <th></th>\n",
       "      <th>index</th>\n",
       "      <th>state</th>\n",
       "      <th>area</th>\n",
       "      <th>Area_ID</th>\n",
       "      <th>Population</th>\n",
       "    </tr>\n",
       "  </thead>\n",
       "  <tbody>\n",
       "    <tr>\n",
       "      <th>0</th>\n",
       "      <td>0</td>\n",
       "      <td>Maharashtra</td>\n",
       "      <td>Amravati</td>\n",
       "      <td>1</td>\n",
       "      <td>63463000</td>\n",
       "    </tr>\n",
       "    <tr>\n",
       "      <th>1</th>\n",
       "      <td>0</td>\n",
       "      <td>Maharashtra</td>\n",
       "      <td>Amravati</td>\n",
       "      <td>1</td>\n",
       "      <td>62979000</td>\n",
       "    </tr>\n",
       "    <tr>\n",
       "      <th>2</th>\n",
       "      <td>0</td>\n",
       "      <td>Maharashtra</td>\n",
       "      <td>Amravati</td>\n",
       "      <td>1</td>\n",
       "      <td>63256000</td>\n",
       "    </tr>\n",
       "    <tr>\n",
       "      <th>3</th>\n",
       "      <td>1</td>\n",
       "      <td>Bihar</td>\n",
       "      <td>Purnia</td>\n",
       "      <td>2</td>\n",
       "      <td>16415000</td>\n",
       "    </tr>\n",
       "    <tr>\n",
       "      <th>4</th>\n",
       "      <td>1</td>\n",
       "      <td>Bihar</td>\n",
       "      <td>Purnia</td>\n",
       "      <td>2</td>\n",
       "      <td>16221000</td>\n",
       "    </tr>\n",
       "    <tr>\n",
       "      <th>...</th>\n",
       "      <td>...</td>\n",
       "      <td>...</td>\n",
       "      <td>...</td>\n",
       "      <td>...</td>\n",
       "      <td>...</td>\n",
       "    </tr>\n",
       "    <tr>\n",
       "      <th>871</th>\n",
       "      <td>189891</td>\n",
       "      <td>Bihar</td>\n",
       "      <td>Darbhanga</td>\n",
       "      <td>291</td>\n",
       "      <td>16221000</td>\n",
       "    </tr>\n",
       "    <tr>\n",
       "      <th>872</th>\n",
       "      <td>189891</td>\n",
       "      <td>Bihar</td>\n",
       "      <td>Darbhanga</td>\n",
       "      <td>291</td>\n",
       "      <td>16332000</td>\n",
       "    </tr>\n",
       "    <tr>\n",
       "      <th>873</th>\n",
       "      <td>199931</td>\n",
       "      <td>Kerala</td>\n",
       "      <td>Ernakulam</td>\n",
       "      <td>292</td>\n",
       "      <td>29122000</td>\n",
       "    </tr>\n",
       "    <tr>\n",
       "      <th>874</th>\n",
       "      <td>199931</td>\n",
       "      <td>Kerala</td>\n",
       "      <td>Ernakulam</td>\n",
       "      <td>292</td>\n",
       "      <td>28642000</td>\n",
       "    </tr>\n",
       "    <tr>\n",
       "      <th>875</th>\n",
       "      <td>199931</td>\n",
       "      <td>Kerala</td>\n",
       "      <td>Ernakulam</td>\n",
       "      <td>292</td>\n",
       "      <td>28916000</td>\n",
       "    </tr>\n",
       "  </tbody>\n",
       "</table>\n",
       "<p>876 rows × 5 columns</p>\n",
       "</div>"
      ],
      "text/plain": [
       "      index        state       area  Area_ID  Population\n",
       "0         0  Maharashtra   Amravati        1    63463000\n",
       "1         0  Maharashtra   Amravati        1    62979000\n",
       "2         0  Maharashtra   Amravati        1    63256000\n",
       "3         1        Bihar     Purnia        2    16415000\n",
       "4         1        Bihar     Purnia        2    16221000\n",
       "..      ...          ...        ...      ...         ...\n",
       "871  189891        Bihar  Darbhanga      291    16221000\n",
       "872  189891        Bihar  Darbhanga      291    16332000\n",
       "873  199931       Kerala  Ernakulam      292    29122000\n",
       "874  199931       Kerala  Ernakulam      292    28642000\n",
       "875  199931       Kerala  Ernakulam      292    28916000\n",
       "\n",
       "[876 rows x 5 columns]"
      ]
     },
     "execution_count": 45,
     "metadata": {},
     "output_type": "execute_result"
    }
   ],
   "source": [
    "dim_area_final = pd.merge(dim_area,df_final_cleanpop,on='state',how='left')\n",
    "dim_area_final"
   ]
  },
  {
   "cell_type": "code",
   "execution_count": 46,
   "id": "9b9e40d1",
   "metadata": {
    "ExecuteTime": {
     "end_time": "2025-08-02T09:12:31.773021Z",
     "start_time": "2025-08-02T09:12:31.770927Z"
    }
   },
   "outputs": [],
   "source": [
    "dim_area_final.to_csv('dim_area.csv',index = False)"
   ]
  },
  {
   "cell_type": "markdown",
   "id": "58970143",
   "metadata": {},
   "source": [
    "### factaqi\n"
   ]
  },
  {
   "cell_type": "code",
   "execution_count": 47,
   "id": "326e0d22",
   "metadata": {},
   "outputs": [
    {
     "name": "stdout",
     "output_type": "stream",
     "text": [
      "Index(['date', 'state', 'area', 'number_of_monitoring_stations',\n",
      "       'prominent_pollutants', 'aqi_value', 'air_quality_status'],\n",
      "      dtype='object')\n",
      "Index(['index', 'state', 'area', 'Area_ID', 'Population'], dtype='object')\n"
     ]
    }
   ],
   "source": [
    "print(df_aqi.columns)\n",
    "print(dim_area_final.columns)"
   ]
  },
  {
   "cell_type": "code",
   "execution_count": 48,
   "id": "99a7adc3",
   "metadata": {},
   "outputs": [],
   "source": [
    "fact_aqi = pd.merge(dim_area_final[['Area_ID','state','area']],df_aqi,on=('state','area'),how='right')\n",
    "fact_aqi = fact_aqi[['date', 'Area_ID', 'aqi_value', 'prominent_pollutants', 'air_quality_status']]\n"
   ]
  },
  {
   "cell_type": "code",
   "execution_count": 49,
   "id": "6ed6237e",
   "metadata": {},
   "outputs": [
    {
     "data": {
      "application/vnd.microsoft.datawrangler.viewer.v0+json": {
       "columns": [
        {
         "name": "index",
         "rawType": "int64",
         "type": "integer"
        },
        {
         "name": "date",
         "rawType": "datetime64[ns]",
         "type": "datetime"
        },
        {
         "name": "Area_ID",
         "rawType": "int64",
         "type": "integer"
        },
        {
         "name": "aqi_value",
         "rawType": "int64",
         "type": "integer"
        },
        {
         "name": "prominent_pollutants",
         "rawType": "object",
         "type": "string"
        },
        {
         "name": "air_quality_status",
         "rawType": "object",
         "type": "string"
        }
       ],
       "ref": "38ca6ce9-281b-4852-9768-ea71b4f4248d",
       "rows": [
        [
         "0",
         "2025-04-30 00:00:00",
         "1",
         "78",
         "PM10",
         "Satisfactory"
        ],
        [
         "1",
         "2025-04-30 00:00:00",
         "1",
         "78",
         "PM10",
         "Satisfactory"
        ],
        [
         "2",
         "2025-04-30 00:00:00",
         "1",
         "78",
         "PM10",
         "Satisfactory"
        ],
        [
         "3",
         "2025-04-30 00:00:00",
         "2",
         "56",
         "CO",
         "Satisfactory"
        ],
        [
         "4",
         "2025-04-30 00:00:00",
         "2",
         "56",
         "CO",
         "Satisfactory"
        ],
        [
         "5",
         "2025-04-30 00:00:00",
         "2",
         "56",
         "CO",
         "Satisfactory"
        ],
        [
         "6",
         "2025-04-30 00:00:00",
         "3",
         "98",
         "O3",
         "Satisfactory"
        ],
        [
         "7",
         "2025-04-30 00:00:00",
         "3",
         "98",
         "O3",
         "Satisfactory"
        ],
        [
         "8",
         "2025-04-30 00:00:00",
         "3",
         "98",
         "O3",
         "Satisfactory"
        ],
        [
         "9",
         "2025-04-30 00:00:00",
         "4",
         "103",
         "PM10",
         "Moderate"
        ],
        [
         "10",
         "2025-04-30 00:00:00",
         "4",
         "103",
         "PM10",
         "Moderate"
        ],
        [
         "11",
         "2025-04-30 00:00:00",
         "4",
         "103",
         "PM10",
         "Moderate"
        ],
        [
         "12",
         "2025-04-30 00:00:00",
         "5",
         "61",
         "PM2.5",
         "Satisfactory"
        ],
        [
         "13",
         "2025-04-30 00:00:00",
         "5",
         "61",
         "PM2.5",
         "Satisfactory"
        ],
        [
         "14",
         "2025-04-30 00:00:00",
         "5",
         "61",
         "PM2.5",
         "Satisfactory"
        ],
        [
         "15",
         "2025-04-30 00:00:00",
         "6",
         "106",
         "SO2",
         "Moderate"
        ],
        [
         "16",
         "2025-04-30 00:00:00",
         "6",
         "106",
         "SO2",
         "Moderate"
        ],
        [
         "17",
         "2025-04-30 00:00:00",
         "6",
         "106",
         "SO2",
         "Moderate"
        ],
        [
         "18",
         "2025-04-30 00:00:00",
         "7",
         "73",
         "PM10",
         "Satisfactory"
        ],
        [
         "19",
         "2025-04-30 00:00:00",
         "7",
         "73",
         "PM10",
         "Satisfactory"
        ],
        [
         "20",
         "2025-04-30 00:00:00",
         "7",
         "73",
         "PM10",
         "Satisfactory"
        ],
        [
         "21",
         "2025-04-30 00:00:00",
         "8",
         "68",
         "PM10",
         "Satisfactory"
        ],
        [
         "22",
         "2025-04-30 00:00:00",
         "8",
         "68",
         "PM10",
         "Satisfactory"
        ],
        [
         "23",
         "2025-04-30 00:00:00",
         "8",
         "68",
         "PM10",
         "Satisfactory"
        ],
        [
         "24",
         "2025-04-30 00:00:00",
         "9",
         "58",
         "PM10",
         "Satisfactory"
        ],
        [
         "25",
         "2025-04-30 00:00:00",
         "9",
         "58",
         "PM10",
         "Satisfactory"
        ],
        [
         "26",
         "2025-04-30 00:00:00",
         "9",
         "58",
         "PM10",
         "Satisfactory"
        ],
        [
         "27",
         "2025-04-30 00:00:00",
         "10",
         "39",
         "PM10",
         "Good"
        ],
        [
         "28",
         "2025-04-30 00:00:00",
         "10",
         "39",
         "PM10",
         "Good"
        ],
        [
         "29",
         "2025-04-30 00:00:00",
         "10",
         "39",
         "PM10",
         "Good"
        ],
        [
         "30",
         "2025-04-30 00:00:00",
         "11",
         "46",
         "PM10",
         "Good"
        ],
        [
         "31",
         "2025-04-30 00:00:00",
         "11",
         "46",
         "PM10",
         "Good"
        ],
        [
         "32",
         "2025-04-30 00:00:00",
         "11",
         "46",
         "PM10",
         "Good"
        ],
        [
         "33",
         "2025-04-30 00:00:00",
         "12",
         "110",
         "PM2.5,PM10",
         "Moderate"
        ],
        [
         "34",
         "2025-04-30 00:00:00",
         "12",
         "110",
         "PM2.5,PM10",
         "Moderate"
        ],
        [
         "35",
         "2025-04-30 00:00:00",
         "12",
         "110",
         "PM2.5,PM10",
         "Moderate"
        ],
        [
         "36",
         "2025-04-30 00:00:00",
         "13",
         "114",
         "PM10",
         "Moderate"
        ],
        [
         "37",
         "2025-04-30 00:00:00",
         "13",
         "114",
         "PM10",
         "Moderate"
        ],
        [
         "38",
         "2025-04-30 00:00:00",
         "13",
         "114",
         "PM10",
         "Moderate"
        ],
        [
         "39",
         "2025-04-30 00:00:00",
         "14",
         "51",
         "PM10",
         "Satisfactory"
        ],
        [
         "40",
         "2025-04-30 00:00:00",
         "14",
         "51",
         "PM10",
         "Satisfactory"
        ],
        [
         "41",
         "2025-04-30 00:00:00",
         "14",
         "51",
         "PM10",
         "Satisfactory"
        ],
        [
         "42",
         "2025-04-30 00:00:00",
         "15",
         "84",
         "PM10",
         "Satisfactory"
        ],
        [
         "43",
         "2025-04-30 00:00:00",
         "15",
         "84",
         "PM10",
         "Satisfactory"
        ],
        [
         "44",
         "2025-04-30 00:00:00",
         "15",
         "84",
         "PM10",
         "Satisfactory"
        ],
        [
         "45",
         "2025-04-30 00:00:00",
         "16",
         "66",
         "PM10",
         "Satisfactory"
        ],
        [
         "46",
         "2025-04-30 00:00:00",
         "16",
         "66",
         "PM10",
         "Satisfactory"
        ],
        [
         "47",
         "2025-04-30 00:00:00",
         "16",
         "66",
         "PM10",
         "Satisfactory"
        ],
        [
         "48",
         "2025-04-30 00:00:00",
         "17",
         "47",
         "PM2.5",
         "Good"
        ],
        [
         "49",
         "2025-04-30 00:00:00",
         "17",
         "47",
         "PM2.5",
         "Good"
        ]
       ],
       "shape": {
        "columns": 5,
        "rows": 707355
       }
      },
      "text/html": [
       "<div>\n",
       "<style scoped>\n",
       "    .dataframe tbody tr th:only-of-type {\n",
       "        vertical-align: middle;\n",
       "    }\n",
       "\n",
       "    .dataframe tbody tr th {\n",
       "        vertical-align: top;\n",
       "    }\n",
       "\n",
       "    .dataframe thead th {\n",
       "        text-align: right;\n",
       "    }\n",
       "</style>\n",
       "<table border=\"1\" class=\"dataframe\">\n",
       "  <thead>\n",
       "    <tr style=\"text-align: right;\">\n",
       "      <th></th>\n",
       "      <th>date</th>\n",
       "      <th>Area_ID</th>\n",
       "      <th>aqi_value</th>\n",
       "      <th>prominent_pollutants</th>\n",
       "      <th>air_quality_status</th>\n",
       "    </tr>\n",
       "  </thead>\n",
       "  <tbody>\n",
       "    <tr>\n",
       "      <th>0</th>\n",
       "      <td>2025-04-30</td>\n",
       "      <td>1</td>\n",
       "      <td>78</td>\n",
       "      <td>PM10</td>\n",
       "      <td>Satisfactory</td>\n",
       "    </tr>\n",
       "    <tr>\n",
       "      <th>1</th>\n",
       "      <td>2025-04-30</td>\n",
       "      <td>1</td>\n",
       "      <td>78</td>\n",
       "      <td>PM10</td>\n",
       "      <td>Satisfactory</td>\n",
       "    </tr>\n",
       "    <tr>\n",
       "      <th>2</th>\n",
       "      <td>2025-04-30</td>\n",
       "      <td>1</td>\n",
       "      <td>78</td>\n",
       "      <td>PM10</td>\n",
       "      <td>Satisfactory</td>\n",
       "    </tr>\n",
       "    <tr>\n",
       "      <th>3</th>\n",
       "      <td>2025-04-30</td>\n",
       "      <td>2</td>\n",
       "      <td>56</td>\n",
       "      <td>CO</td>\n",
       "      <td>Satisfactory</td>\n",
       "    </tr>\n",
       "    <tr>\n",
       "      <th>4</th>\n",
       "      <td>2025-04-30</td>\n",
       "      <td>2</td>\n",
       "      <td>56</td>\n",
       "      <td>CO</td>\n",
       "      <td>Satisfactory</td>\n",
       "    </tr>\n",
       "    <tr>\n",
       "      <th>...</th>\n",
       "      <td>...</td>\n",
       "      <td>...</td>\n",
       "      <td>...</td>\n",
       "      <td>...</td>\n",
       "      <td>...</td>\n",
       "    </tr>\n",
       "    <tr>\n",
       "      <th>707350</th>\n",
       "      <td>2022-04-01</td>\n",
       "      <td>205</td>\n",
       "      <td>128</td>\n",
       "      <td>PM10</td>\n",
       "      <td>Moderate</td>\n",
       "    </tr>\n",
       "    <tr>\n",
       "      <th>707351</th>\n",
       "      <td>2022-04-01</td>\n",
       "      <td>205</td>\n",
       "      <td>128</td>\n",
       "      <td>PM10</td>\n",
       "      <td>Moderate</td>\n",
       "    </tr>\n",
       "    <tr>\n",
       "      <th>707352</th>\n",
       "      <td>2022-04-01</td>\n",
       "      <td>223</td>\n",
       "      <td>270</td>\n",
       "      <td>O3</td>\n",
       "      <td>Poor</td>\n",
       "    </tr>\n",
       "    <tr>\n",
       "      <th>707353</th>\n",
       "      <td>2022-04-01</td>\n",
       "      <td>223</td>\n",
       "      <td>270</td>\n",
       "      <td>O3</td>\n",
       "      <td>Poor</td>\n",
       "    </tr>\n",
       "    <tr>\n",
       "      <th>707354</th>\n",
       "      <td>2022-04-01</td>\n",
       "      <td>223</td>\n",
       "      <td>270</td>\n",
       "      <td>O3</td>\n",
       "      <td>Poor</td>\n",
       "    </tr>\n",
       "  </tbody>\n",
       "</table>\n",
       "<p>707355 rows × 5 columns</p>\n",
       "</div>"
      ],
      "text/plain": [
       "             date  Area_ID  aqi_value prominent_pollutants air_quality_status\n",
       "0      2025-04-30        1         78                 PM10       Satisfactory\n",
       "1      2025-04-30        1         78                 PM10       Satisfactory\n",
       "2      2025-04-30        1         78                 PM10       Satisfactory\n",
       "3      2025-04-30        2         56                   CO       Satisfactory\n",
       "4      2025-04-30        2         56                   CO       Satisfactory\n",
       "...           ...      ...        ...                  ...                ...\n",
       "707350 2022-04-01      205        128                 PM10           Moderate\n",
       "707351 2022-04-01      205        128                 PM10           Moderate\n",
       "707352 2022-04-01      223        270                   O3               Poor\n",
       "707353 2022-04-01      223        270                   O3               Poor\n",
       "707354 2022-04-01      223        270                   O3               Poor\n",
       "\n",
       "[707355 rows x 5 columns]"
      ]
     },
     "execution_count": 49,
     "metadata": {},
     "output_type": "execute_result"
    }
   ],
   "source": [
    "fact_aqi"
   ]
  },
  {
   "cell_type": "markdown",
   "id": "5172a499",
   "metadata": {},
   "source": [
    "### dim_disease"
   ]
  },
  {
   "cell_type": "code",
   "execution_count": 50,
   "id": "002de4e1",
   "metadata": {},
   "outputs": [],
   "source": [
    "dim_disease = df_health['disease_illness_name'].drop_duplicates().reset_index()\n",
    "dim_disease.drop(columns='index',inplace=True)\n",
    "dim_disease['Disease_ID'] = dim_disease.index+1"
   ]
  },
  {
   "cell_type": "code",
   "execution_count": 51,
   "id": "a03cd3ab",
   "metadata": {},
   "outputs": [
    {
     "data": {
      "application/vnd.microsoft.datawrangler.viewer.v0+json": {
       "columns": [
        {
         "name": "index",
         "rawType": "int64",
         "type": "integer"
        },
        {
         "name": "disease_illness_name",
         "rawType": "object",
         "type": "unknown"
        },
        {
         "name": "Disease_ID",
         "rawType": "int64",
         "type": "integer"
        }
       ],
       "ref": "0c0d7a65-1b0b-4063-a1a4-d38d18fb5f68",
       "rows": [
        [
         "0",
         "Acute Diarrheal Disease",
         "1"
        ],
        [
         "1",
         "Chickenpox",
         "2"
        ],
        [
         "2",
         "Food Poisoning",
         "3"
        ],
        [
         "3",
         "Fever with Rash",
         "4"
        ],
        [
         "4",
         "Measles",
         "5"
        ],
        [
         "5",
         "Hepatitis A",
         "6"
        ],
        [
         "6",
         "Typhoid",
         "7"
        ],
        [
         "7",
         "Malaria",
         "8"
        ],
        [
         "8",
         "Shigellosis",
         "9"
        ],
        [
         "9",
         "Acute Gastroenteritis",
         "10"
        ],
        [
         "10",
         "Scrub Typhus",
         "11"
        ],
        [
         "11",
         "Chikungunya",
         "12"
        ],
        [
         "12",
         "Mumps",
         "13"
        ],
        [
         "13",
         "Hepatitis A and E",
         "14"
        ],
        [
         "14",
         "Hepatitis B and C",
         "15"
        ],
        [
         "15",
         "Leishmaniasis",
         "16"
        ],
        [
         "16",
         "Dengue",
         "17"
        ],
        [
         "17",
         "Human Rabies",
         "18"
        ],
        [
         "18",
         "West Nile Fever",
         "19"
        ],
        [
         "19",
         "Cholera",
         "20"
        ],
        [
         "20",
         "HMPV",
         "21"
        ],
        [
         "21",
         "Mpox",
         "22"
        ],
        [
         "22",
         "Others",
         "23"
        ],
        [
         "23",
         "Fever",
         "24"
        ],
        [
         "24",
         "Meningitis",
         "25"
        ],
        [
         "25",
         "Jaundice",
         "26"
        ],
        [
         "26",
         "Acute Hepatitis A",
         "27"
        ],
        [
         "27",
         "Rabies",
         "28"
        ],
        [
         "28",
         "Paratyphoid",
         "29"
        ],
        [
         "29",
         null,
         "30"
        ],
        [
         "30",
         "Acute Hepatitis E",
         "31"
        ],
        [
         "31",
         "Pertussis",
         "32"
        ],
        [
         "32",
         "Rubella",
         "33"
        ],
        [
         "33",
         "Champaran",
         "34"
        ],
        [
         "34",
         "Measles and Rubella",
         "35"
        ],
        [
         "35",
         "Hepatitis",
         "36"
        ],
        [
         "36",
         "Gastroenteritis",
         "37"
        ],
        [
         "37",
         "Nile Fever",
         "38"
        ],
        [
         "38",
         "Poisoning",
         "39"
        ],
        [
         "39",
         "Nagar",
         "40"
        ],
        [
         "40",
         "Hepatitis E",
         "41"
        ],
        [
         "41",
         "Crimean Congo Haemandrhagic Fever (CCHF)",
         "42"
        ],
        [
         "42",
         "Japanese Encephalitis",
         "43"
        ],
        [
         "43",
         "Diarrhoea",
         "44"
        ],
        [
         "44",
         "Leptospirosis",
         "45"
        ],
        [
         "45",
         "Acute Gastroenteritis (Norovirus)",
         "46"
        ],
        [
         "46",
         "Dengue and Chikungunya",
         "47"
        ],
        [
         "47",
         "Dysentery",
         "48"
        ],
        [
         "48",
         "Diphtheria",
         "49"
        ],
        [
         "49",
         "Acute Hepatitis",
         "50"
        ]
       ],
       "shape": {
        "columns": 2,
        "rows": 128
       }
      },
      "text/html": [
       "<div>\n",
       "<style scoped>\n",
       "    .dataframe tbody tr th:only-of-type {\n",
       "        vertical-align: middle;\n",
       "    }\n",
       "\n",
       "    .dataframe tbody tr th {\n",
       "        vertical-align: top;\n",
       "    }\n",
       "\n",
       "    .dataframe thead th {\n",
       "        text-align: right;\n",
       "    }\n",
       "</style>\n",
       "<table border=\"1\" class=\"dataframe\">\n",
       "  <thead>\n",
       "    <tr style=\"text-align: right;\">\n",
       "      <th></th>\n",
       "      <th>disease_illness_name</th>\n",
       "      <th>Disease_ID</th>\n",
       "    </tr>\n",
       "  </thead>\n",
       "  <tbody>\n",
       "    <tr>\n",
       "      <th>0</th>\n",
       "      <td>Acute Diarrheal Disease</td>\n",
       "      <td>1</td>\n",
       "    </tr>\n",
       "    <tr>\n",
       "      <th>1</th>\n",
       "      <td>Chickenpox</td>\n",
       "      <td>2</td>\n",
       "    </tr>\n",
       "    <tr>\n",
       "      <th>2</th>\n",
       "      <td>Food Poisoning</td>\n",
       "      <td>3</td>\n",
       "    </tr>\n",
       "    <tr>\n",
       "      <th>3</th>\n",
       "      <td>Fever with Rash</td>\n",
       "      <td>4</td>\n",
       "    </tr>\n",
       "    <tr>\n",
       "      <th>4</th>\n",
       "      <td>Measles</td>\n",
       "      <td>5</td>\n",
       "    </tr>\n",
       "    <tr>\n",
       "      <th>...</th>\n",
       "      <td>...</td>\n",
       "      <td>...</td>\n",
       "    </tr>\n",
       "    <tr>\n",
       "      <th>123</th>\n",
       "      <td>Acute Respiratandy Illness</td>\n",
       "      <td>124</td>\n",
       "    </tr>\n",
       "    <tr>\n",
       "      <th>124</th>\n",
       "      <td>Nandovirus</td>\n",
       "      <td>125</td>\n",
       "    </tr>\n",
       "    <tr>\n",
       "      <th>125</th>\n",
       "      <td>Filariasis</td>\n",
       "      <td>126</td>\n",
       "    </tr>\n",
       "    <tr>\n",
       "      <th>126</th>\n",
       "      <td>Influenza A</td>\n",
       "      <td>127</td>\n",
       "    </tr>\n",
       "    <tr>\n",
       "      <th>127</th>\n",
       "      <td>Malaria (Plasmodium Vivax)</td>\n",
       "      <td>128</td>\n",
       "    </tr>\n",
       "  </tbody>\n",
       "</table>\n",
       "<p>128 rows × 2 columns</p>\n",
       "</div>"
      ],
      "text/plain": [
       "           disease_illness_name  Disease_ID\n",
       "0       Acute Diarrheal Disease           1\n",
       "1                    Chickenpox           2\n",
       "2                Food Poisoning           3\n",
       "3               Fever with Rash           4\n",
       "4                       Measles           5\n",
       "..                          ...         ...\n",
       "123  Acute Respiratandy Illness         124\n",
       "124                  Nandovirus         125\n",
       "125                  Filariasis         126\n",
       "126                 Influenza A         127\n",
       "127  Malaria (Plasmodium Vivax)         128\n",
       "\n",
       "[128 rows x 2 columns]"
      ]
     },
     "execution_count": 51,
     "metadata": {},
     "output_type": "execute_result"
    }
   ],
   "source": [
    "dim_disease"
   ]
  },
  {
   "cell_type": "code",
   "execution_count": 52,
   "id": "be38cded",
   "metadata": {},
   "outputs": [],
   "source": [
    "dim_diseases = pd.DataFrame({'disease_illness_name': df_health['disease_illness_name'].unique()})\n",
    "dim_diseases['Disease_ID'] = dim_diseases.index+1\n",
    "dim_diseases.dropna(subset=[\"disease_illness_name\"],inplace=True)\n",
    "\n",
    "\n"
   ]
  },
  {
   "cell_type": "code",
   "execution_count": 53,
   "id": "befe8c7c",
   "metadata": {},
   "outputs": [
    {
     "data": {
      "application/vnd.microsoft.datawrangler.viewer.v0+json": {
       "columns": [
        {
         "name": "index",
         "rawType": "int64",
         "type": "integer"
        },
        {
         "name": "disease_illness_name",
         "rawType": "object",
         "type": "string"
        },
        {
         "name": "Disease_ID",
         "rawType": "int64",
         "type": "integer"
        }
       ],
       "ref": "ac7a9cfc-1a19-4b52-b63c-06b6ffd4a472",
       "rows": [
        [
         "0",
         "Acute Diarrheal Disease",
         "1"
        ],
        [
         "1",
         "Chickenpox",
         "2"
        ],
        [
         "2",
         "Food Poisoning",
         "3"
        ],
        [
         "3",
         "Fever with Rash",
         "4"
        ],
        [
         "4",
         "Measles",
         "5"
        ],
        [
         "5",
         "Hepatitis A",
         "6"
        ],
        [
         "6",
         "Typhoid",
         "7"
        ],
        [
         "7",
         "Malaria",
         "8"
        ],
        [
         "8",
         "Shigellosis",
         "9"
        ],
        [
         "9",
         "Acute Gastroenteritis",
         "10"
        ],
        [
         "10",
         "Scrub Typhus",
         "11"
        ],
        [
         "11",
         "Chikungunya",
         "12"
        ],
        [
         "12",
         "Mumps",
         "13"
        ],
        [
         "13",
         "Hepatitis A and E",
         "14"
        ],
        [
         "14",
         "Hepatitis B and C",
         "15"
        ],
        [
         "15",
         "Leishmaniasis",
         "16"
        ],
        [
         "16",
         "Dengue",
         "17"
        ],
        [
         "17",
         "Human Rabies",
         "18"
        ],
        [
         "18",
         "West Nile Fever",
         "19"
        ],
        [
         "19",
         "Cholera",
         "20"
        ],
        [
         "20",
         "HMPV",
         "21"
        ],
        [
         "21",
         "Mpox",
         "22"
        ],
        [
         "22",
         "Others",
         "23"
        ],
        [
         "23",
         "Fever",
         "24"
        ],
        [
         "24",
         "Meningitis",
         "25"
        ],
        [
         "25",
         "Jaundice",
         "26"
        ],
        [
         "26",
         "Acute Hepatitis A",
         "27"
        ],
        [
         "27",
         "Rabies",
         "28"
        ],
        [
         "28",
         "Paratyphoid",
         "29"
        ],
        [
         "30",
         "Acute Hepatitis E",
         "31"
        ],
        [
         "31",
         "Pertussis",
         "32"
        ],
        [
         "32",
         "Rubella",
         "33"
        ],
        [
         "33",
         "Champaran",
         "34"
        ],
        [
         "34",
         "Measles and Rubella",
         "35"
        ],
        [
         "35",
         "Hepatitis",
         "36"
        ],
        [
         "36",
         "Gastroenteritis",
         "37"
        ],
        [
         "37",
         "Nile Fever",
         "38"
        ],
        [
         "38",
         "Poisoning",
         "39"
        ],
        [
         "39",
         "Nagar",
         "40"
        ],
        [
         "40",
         "Hepatitis E",
         "41"
        ],
        [
         "41",
         "Crimean Congo Haemandrhagic Fever (CCHF)",
         "42"
        ],
        [
         "42",
         "Japanese Encephalitis",
         "43"
        ],
        [
         "43",
         "Diarrhoea",
         "44"
        ],
        [
         "44",
         "Leptospirosis",
         "45"
        ],
        [
         "45",
         "Acute Gastroenteritis (Norovirus)",
         "46"
        ],
        [
         "46",
         "Dengue and Chikungunya",
         "47"
        ],
        [
         "47",
         "Dysentery",
         "48"
        ],
        [
         "48",
         "Diphtheria",
         "49"
        ],
        [
         "49",
         "Acute Hepatitis",
         "50"
        ],
        [
         "50",
         "Forest Disease",
         "51"
        ]
       ],
       "shape": {
        "columns": 2,
        "rows": 127
       }
      },
      "text/html": [
       "<div>\n",
       "<style scoped>\n",
       "    .dataframe tbody tr th:only-of-type {\n",
       "        vertical-align: middle;\n",
       "    }\n",
       "\n",
       "    .dataframe tbody tr th {\n",
       "        vertical-align: top;\n",
       "    }\n",
       "\n",
       "    .dataframe thead th {\n",
       "        text-align: right;\n",
       "    }\n",
       "</style>\n",
       "<table border=\"1\" class=\"dataframe\">\n",
       "  <thead>\n",
       "    <tr style=\"text-align: right;\">\n",
       "      <th></th>\n",
       "      <th>disease_illness_name</th>\n",
       "      <th>Disease_ID</th>\n",
       "    </tr>\n",
       "  </thead>\n",
       "  <tbody>\n",
       "    <tr>\n",
       "      <th>0</th>\n",
       "      <td>Acute Diarrheal Disease</td>\n",
       "      <td>1</td>\n",
       "    </tr>\n",
       "    <tr>\n",
       "      <th>1</th>\n",
       "      <td>Chickenpox</td>\n",
       "      <td>2</td>\n",
       "    </tr>\n",
       "    <tr>\n",
       "      <th>2</th>\n",
       "      <td>Food Poisoning</td>\n",
       "      <td>3</td>\n",
       "    </tr>\n",
       "    <tr>\n",
       "      <th>3</th>\n",
       "      <td>Fever with Rash</td>\n",
       "      <td>4</td>\n",
       "    </tr>\n",
       "    <tr>\n",
       "      <th>4</th>\n",
       "      <td>Measles</td>\n",
       "      <td>5</td>\n",
       "    </tr>\n",
       "    <tr>\n",
       "      <th>...</th>\n",
       "      <td>...</td>\n",
       "      <td>...</td>\n",
       "    </tr>\n",
       "    <tr>\n",
       "      <th>123</th>\n",
       "      <td>Acute Respiratandy Illness</td>\n",
       "      <td>124</td>\n",
       "    </tr>\n",
       "    <tr>\n",
       "      <th>124</th>\n",
       "      <td>Nandovirus</td>\n",
       "      <td>125</td>\n",
       "    </tr>\n",
       "    <tr>\n",
       "      <th>125</th>\n",
       "      <td>Filariasis</td>\n",
       "      <td>126</td>\n",
       "    </tr>\n",
       "    <tr>\n",
       "      <th>126</th>\n",
       "      <td>Influenza A</td>\n",
       "      <td>127</td>\n",
       "    </tr>\n",
       "    <tr>\n",
       "      <th>127</th>\n",
       "      <td>Malaria (Plasmodium Vivax)</td>\n",
       "      <td>128</td>\n",
       "    </tr>\n",
       "  </tbody>\n",
       "</table>\n",
       "<p>127 rows × 2 columns</p>\n",
       "</div>"
      ],
      "text/plain": [
       "           disease_illness_name  Disease_ID\n",
       "0       Acute Diarrheal Disease           1\n",
       "1                    Chickenpox           2\n",
       "2                Food Poisoning           3\n",
       "3               Fever with Rash           4\n",
       "4                       Measles           5\n",
       "..                          ...         ...\n",
       "123  Acute Respiratandy Illness         124\n",
       "124                  Nandovirus         125\n",
       "125                  Filariasis         126\n",
       "126                 Influenza A         127\n",
       "127  Malaria (Plasmodium Vivax)         128\n",
       "\n",
       "[127 rows x 2 columns]"
      ]
     },
     "execution_count": 53,
     "metadata": {},
     "output_type": "execute_result"
    }
   ],
   "source": [
    "dim_diseases"
   ]
  },
  {
   "cell_type": "code",
   "execution_count": 54,
   "id": "4e12edba",
   "metadata": {},
   "outputs": [],
   "source": [
    "dim_diseases.to_csv('cleaned_dim_disease.csv', index=False)\n"
   ]
  },
  {
   "cell_type": "markdown",
   "id": "00fba92d",
   "metadata": {},
   "source": [
    "### fact health"
   ]
  },
  {
   "cell_type": "code",
   "execution_count": 55,
   "id": "82678295",
   "metadata": {},
   "outputs": [],
   "source": [
    "fact_health = pd.merge(df_health, dim_disease, on='disease_illness_name', how='left')\n",
    "# Note: Matching health 'district' to aqi 'area' can be complex. We'll use state for now.\n",
    "fact_health = pd.merge(fact_health, dim_area_final[['state', 'Area_ID']].drop_duplicates(subset=['state']), on='state', how='left')\n",
    "fact_health = fact_health[['outbreak_starting_date', 'Area_ID', 'Disease_ID', 'cases', 'deaths']]"
   ]
  },
  {
   "cell_type": "code",
   "execution_count": 56,
   "id": "b94a3d17",
   "metadata": {},
   "outputs": [
    {
     "data": {
      "application/vnd.microsoft.datawrangler.viewer.v0+json": {
       "columns": [
        {
         "name": "index",
         "rawType": "int64",
         "type": "integer"
        },
        {
         "name": "outbreak_starting_date",
         "rawType": "datetime64[ns]",
         "type": "datetime"
        },
        {
         "name": "Area_ID",
         "rawType": "float64",
         "type": "float"
        },
        {
         "name": "Disease_ID",
         "rawType": "int64",
         "type": "integer"
        },
        {
         "name": "cases",
         "rawType": "int64",
         "type": "integer"
        },
        {
         "name": "deaths",
         "rawType": "int64",
         "type": "integer"
        }
       ],
       "ref": "75d365f3-e4be-4145-8419-6e3506147a5e",
       "rows": [
        [
         "0",
         "2025-04-15 00:00:00",
         "17.0",
         "1",
         "22",
         "0"
        ],
        [
         "1",
         "2025-04-15 00:00:00",
         "5.0",
         "2",
         "1",
         "1"
        ],
        [
         "2",
         "2025-04-19 00:00:00",
         "5.0",
         "3",
         "16",
         "0"
        ],
        [
         "3",
         "2025-04-19 00:00:00",
         "2.0",
         "4",
         "5",
         "0"
        ],
        [
         "4",
         "2025-04-12 00:00:00",
         "2.0",
         "1",
         "21",
         "0"
        ],
        [
         "5",
         "2025-04-15 00:00:00",
         "2.0",
         "2",
         "8",
         "1"
        ],
        [
         "6",
         "2025-04-19 00:00:00",
         "2.0",
         "2",
         "9",
         "0"
        ],
        [
         "7",
         "2025-04-15 00:00:00",
         "4.0",
         "3",
         "12",
         "0"
        ],
        [
         "8",
         "2025-04-16 00:00:00",
         "12.0",
         "5",
         "17",
         "0"
        ],
        [
         "9",
         "2025-04-18 00:00:00",
         "12.0",
         "1",
         "13",
         "0"
        ],
        [
         "10",
         "2025-04-16 00:00:00",
         "139.0",
         "6",
         "18",
         "0"
        ],
        [
         "11",
         "2025-04-17 00:00:00",
         "139.0",
         "2",
         "28",
         "0"
        ],
        [
         "12",
         "2025-04-18 00:00:00",
         "289.0",
         "6",
         "26",
         "0"
        ],
        [
         "13",
         "2025-04-16 00:00:00",
         "289.0",
         "7",
         "47",
         "0"
        ],
        [
         "14",
         "2025-04-15 00:00:00",
         "133.0",
         "2",
         "9",
         "0"
        ],
        [
         "15",
         "2025-04-19 00:00:00",
         "133.0",
         "4",
         "9",
         "0"
        ],
        [
         "16",
         "2025-04-14 00:00:00",
         "133.0",
         "8",
         "64",
         "0"
        ],
        [
         "17",
         "2025-04-19 00:00:00",
         "133.0",
         "2",
         "6",
         "0"
        ],
        [
         "18",
         "2025-04-18 00:00:00",
         "7.0",
         "7",
         "12",
         "0"
        ],
        [
         "19",
         "2025-04-18 00:00:00",
         "7.0",
         "3",
         "67",
         "0"
        ],
        [
         "20",
         "2025-04-18 00:00:00",
         "7.0",
         "6",
         "31",
         "0"
        ],
        [
         "21",
         "2025-04-12 00:00:00",
         "7.0",
         "3",
         "10",
         "0"
        ],
        [
         "22",
         "2025-04-19 00:00:00",
         "7.0",
         "3",
         "70",
         "0"
        ],
        [
         "23",
         "2025-04-10 00:00:00",
         "7.0",
         "6",
         "29",
         "0"
        ],
        [
         "24",
         "2025-04-14 00:00:00",
         "3.0",
         "1",
         "40",
         "0"
        ],
        [
         "25",
         "2025-04-16 00:00:00",
         "3.0",
         "2",
         "10",
         "0"
        ],
        [
         "26",
         "2025-04-19 00:00:00",
         "3.0",
         "3",
         "650",
         "0"
        ],
        [
         "27",
         "2025-04-17 00:00:00",
         "3.0",
         "5",
         "7",
         "0"
        ],
        [
         "28",
         "2025-04-19 00:00:00",
         "3.0",
         "3",
         "5",
         "0"
        ],
        [
         "29",
         "2025-04-16 00:00:00",
         "3.0",
         "2",
         "13",
         "0"
        ],
        [
         "30",
         "2025-04-17 00:00:00",
         "1.0",
         "3",
         "122",
         "0"
        ],
        [
         "31",
         "2025-04-15 00:00:00",
         "1.0",
         "1",
         "17",
         "0"
        ],
        [
         "32",
         "2025-04-17 00:00:00",
         "1.0",
         "3",
         "52",
         "0"
        ],
        [
         "33",
         "2025-04-15 00:00:00",
         "115.0",
         "2",
         "64",
         "0"
        ],
        [
         "34",
         "2025-04-17 00:00:00",
         "9.0",
         "3",
         "51",
         "0"
        ],
        [
         "35",
         "2025-04-17 00:00:00",
         "14.0",
         "6",
         "10",
         "0"
        ],
        [
         "36",
         "2025-04-19 00:00:00",
         "14.0",
         "3",
         "129",
         "0"
        ],
        [
         "37",
         "2025-04-18 00:00:00",
         "8.0",
         "2",
         "12",
         "0"
        ],
        [
         "38",
         "2025-04-19 00:00:00",
         "8.0",
         "1",
         "11",
         "0"
        ],
        [
         "39",
         "2025-04-04 00:00:00",
         "17.0",
         "3",
         "23",
         "0"
        ],
        [
         "40",
         "2025-04-06 00:00:00",
         "5.0",
         "3",
         "64",
         "0"
        ],
        [
         "41",
         "2025-04-07 00:00:00",
         "5.0",
         "9",
         "25",
         "0"
        ],
        [
         "42",
         "2025-04-11 00:00:00",
         null,
         "3",
         "43",
         "0"
        ],
        [
         "43",
         "2025-04-10 00:00:00",
         "12.0",
         "10",
         "20",
         "0"
        ],
        [
         "44",
         "2025-04-12 00:00:00",
         "12.0",
         "3",
         "120",
         "0"
        ],
        [
         "45",
         "2025-04-09 00:00:00",
         "12.0",
         "1",
         "118",
         "0"
        ],
        [
         "46",
         "2025-04-12 00:00:00",
         "289.0",
         "6",
         "11",
         "0"
        ],
        [
         "47",
         "2025-04-07 00:00:00",
         "133.0",
         "2",
         "9",
         "0"
        ],
        [
         "48",
         "2025-04-05 00:00:00",
         "133.0",
         "5",
         "3",
         "0"
        ],
        [
         "49",
         "2025-04-11 00:00:00",
         "133.0",
         "2",
         "5",
         "0"
        ]
       ],
       "shape": {
        "columns": 5,
        "rows": 6474
       }
      },
      "text/html": [
       "<div>\n",
       "<style scoped>\n",
       "    .dataframe tbody tr th:only-of-type {\n",
       "        vertical-align: middle;\n",
       "    }\n",
       "\n",
       "    .dataframe tbody tr th {\n",
       "        vertical-align: top;\n",
       "    }\n",
       "\n",
       "    .dataframe thead th {\n",
       "        text-align: right;\n",
       "    }\n",
       "</style>\n",
       "<table border=\"1\" class=\"dataframe\">\n",
       "  <thead>\n",
       "    <tr style=\"text-align: right;\">\n",
       "      <th></th>\n",
       "      <th>outbreak_starting_date</th>\n",
       "      <th>Area_ID</th>\n",
       "      <th>Disease_ID</th>\n",
       "      <th>cases</th>\n",
       "      <th>deaths</th>\n",
       "    </tr>\n",
       "  </thead>\n",
       "  <tbody>\n",
       "    <tr>\n",
       "      <th>0</th>\n",
       "      <td>2025-04-15</td>\n",
       "      <td>17.0</td>\n",
       "      <td>1</td>\n",
       "      <td>22</td>\n",
       "      <td>0</td>\n",
       "    </tr>\n",
       "    <tr>\n",
       "      <th>1</th>\n",
       "      <td>2025-04-15</td>\n",
       "      <td>5.0</td>\n",
       "      <td>2</td>\n",
       "      <td>1</td>\n",
       "      <td>1</td>\n",
       "    </tr>\n",
       "    <tr>\n",
       "      <th>2</th>\n",
       "      <td>2025-04-19</td>\n",
       "      <td>5.0</td>\n",
       "      <td>3</td>\n",
       "      <td>16</td>\n",
       "      <td>0</td>\n",
       "    </tr>\n",
       "    <tr>\n",
       "      <th>3</th>\n",
       "      <td>2025-04-19</td>\n",
       "      <td>2.0</td>\n",
       "      <td>4</td>\n",
       "      <td>5</td>\n",
       "      <td>0</td>\n",
       "    </tr>\n",
       "    <tr>\n",
       "      <th>4</th>\n",
       "      <td>2025-04-12</td>\n",
       "      <td>2.0</td>\n",
       "      <td>1</td>\n",
       "      <td>21</td>\n",
       "      <td>0</td>\n",
       "    </tr>\n",
       "    <tr>\n",
       "      <th>...</th>\n",
       "      <td>...</td>\n",
       "      <td>...</td>\n",
       "      <td>...</td>\n",
       "      <td>...</td>\n",
       "      <td>...</td>\n",
       "    </tr>\n",
       "    <tr>\n",
       "      <th>6469</th>\n",
       "      <td>2022-03-31</td>\n",
       "      <td>14.0</td>\n",
       "      <td>3</td>\n",
       "      <td>18</td>\n",
       "      <td>0</td>\n",
       "    </tr>\n",
       "    <tr>\n",
       "      <th>6470</th>\n",
       "      <td>2022-03-30</td>\n",
       "      <td>14.0</td>\n",
       "      <td>17</td>\n",
       "      <td>15</td>\n",
       "      <td>0</td>\n",
       "    </tr>\n",
       "    <tr>\n",
       "      <th>6471</th>\n",
       "      <td>2022-03-28</td>\n",
       "      <td>14.0</td>\n",
       "      <td>2</td>\n",
       "      <td>24</td>\n",
       "      <td>0</td>\n",
       "    </tr>\n",
       "    <tr>\n",
       "      <th>6472</th>\n",
       "      <td>2022-02-04</td>\n",
       "      <td>96.0</td>\n",
       "      <td>3</td>\n",
       "      <td>25</td>\n",
       "      <td>0</td>\n",
       "    </tr>\n",
       "    <tr>\n",
       "      <th>6473</th>\n",
       "      <td>2022-03-04</td>\n",
       "      <td>13.0</td>\n",
       "      <td>3</td>\n",
       "      <td>89</td>\n",
       "      <td>0</td>\n",
       "    </tr>\n",
       "  </tbody>\n",
       "</table>\n",
       "<p>6474 rows × 5 columns</p>\n",
       "</div>"
      ],
      "text/plain": [
       "     outbreak_starting_date  Area_ID  Disease_ID  cases  deaths\n",
       "0                2025-04-15     17.0           1     22       0\n",
       "1                2025-04-15      5.0           2      1       1\n",
       "2                2025-04-19      5.0           3     16       0\n",
       "3                2025-04-19      2.0           4      5       0\n",
       "4                2025-04-12      2.0           1     21       0\n",
       "...                     ...      ...         ...    ...     ...\n",
       "6469             2022-03-31     14.0           3     18       0\n",
       "6470             2022-03-30     14.0          17     15       0\n",
       "6471             2022-03-28     14.0           2     24       0\n",
       "6472             2022-02-04     96.0           3     25       0\n",
       "6473             2022-03-04     13.0           3     89       0\n",
       "\n",
       "[6474 rows x 5 columns]"
      ]
     },
     "execution_count": 56,
     "metadata": {},
     "output_type": "execute_result"
    }
   ],
   "source": [
    "fact_health"
   ]
  },
  {
   "cell_type": "code",
   "execution_count": 57,
   "id": "e3f866f4",
   "metadata": {},
   "outputs": [],
   "source": [
    "min_date = fact_aqi['date'].min()\n",
    "max_date = fact_aqi['date'].max()\n",
    "dim_date = pd.DataFrame({'Date': pd.date_range(min_date, max_date)})\n",
    "dim_date['Year'] = dim_date['Date'].dt.year\n",
    "dim_date['Month'] = dim_date['Date'].dt.month_name()\n",
    "dim_date['Day'] = dim_date['Date'].dt.day\n",
    "dim_date['Day_of_Week'] = dim_date['Date'].dt.day_name()\n",
    "dim_date['Is_Weekend'] = dim_date['Day_of_Week'].isin(['Saturday', 'Sunday'])\n"
   ]
  },
  {
   "cell_type": "code",
   "execution_count": 58,
   "id": "05b223f0",
   "metadata": {},
   "outputs": [
    {
     "data": {
      "application/vnd.microsoft.datawrangler.viewer.v0+json": {
       "columns": [
        {
         "name": "index",
         "rawType": "int64",
         "type": "integer"
        },
        {
         "name": "Date",
         "rawType": "datetime64[ns]",
         "type": "datetime"
        },
        {
         "name": "Year",
         "rawType": "int32",
         "type": "integer"
        },
        {
         "name": "Month",
         "rawType": "object",
         "type": "string"
        },
        {
         "name": "Day",
         "rawType": "int32",
         "type": "integer"
        },
        {
         "name": "Day_of_Week",
         "rawType": "object",
         "type": "string"
        },
        {
         "name": "Is_Weekend",
         "rawType": "bool",
         "type": "boolean"
        }
       ],
       "ref": "e4657b16-0a34-447a-8b25-1f88a0388086",
       "rows": [
        [
         "0",
         "2022-04-01 00:00:00",
         "2022",
         "April",
         "1",
         "Friday",
         "False"
        ],
        [
         "1",
         "2022-04-02 00:00:00",
         "2022",
         "April",
         "2",
         "Saturday",
         "True"
        ],
        [
         "2",
         "2022-04-03 00:00:00",
         "2022",
         "April",
         "3",
         "Sunday",
         "True"
        ],
        [
         "3",
         "2022-04-04 00:00:00",
         "2022",
         "April",
         "4",
         "Monday",
         "False"
        ],
        [
         "4",
         "2022-04-05 00:00:00",
         "2022",
         "April",
         "5",
         "Tuesday",
         "False"
        ],
        [
         "5",
         "2022-04-06 00:00:00",
         "2022",
         "April",
         "6",
         "Wednesday",
         "False"
        ],
        [
         "6",
         "2022-04-07 00:00:00",
         "2022",
         "April",
         "7",
         "Thursday",
         "False"
        ],
        [
         "7",
         "2022-04-08 00:00:00",
         "2022",
         "April",
         "8",
         "Friday",
         "False"
        ],
        [
         "8",
         "2022-04-09 00:00:00",
         "2022",
         "April",
         "9",
         "Saturday",
         "True"
        ],
        [
         "9",
         "2022-04-10 00:00:00",
         "2022",
         "April",
         "10",
         "Sunday",
         "True"
        ],
        [
         "10",
         "2022-04-11 00:00:00",
         "2022",
         "April",
         "11",
         "Monday",
         "False"
        ],
        [
         "11",
         "2022-04-12 00:00:00",
         "2022",
         "April",
         "12",
         "Tuesday",
         "False"
        ],
        [
         "12",
         "2022-04-13 00:00:00",
         "2022",
         "April",
         "13",
         "Wednesday",
         "False"
        ],
        [
         "13",
         "2022-04-14 00:00:00",
         "2022",
         "April",
         "14",
         "Thursday",
         "False"
        ],
        [
         "14",
         "2022-04-15 00:00:00",
         "2022",
         "April",
         "15",
         "Friday",
         "False"
        ],
        [
         "15",
         "2022-04-16 00:00:00",
         "2022",
         "April",
         "16",
         "Saturday",
         "True"
        ],
        [
         "16",
         "2022-04-17 00:00:00",
         "2022",
         "April",
         "17",
         "Sunday",
         "True"
        ],
        [
         "17",
         "2022-04-18 00:00:00",
         "2022",
         "April",
         "18",
         "Monday",
         "False"
        ],
        [
         "18",
         "2022-04-19 00:00:00",
         "2022",
         "April",
         "19",
         "Tuesday",
         "False"
        ],
        [
         "19",
         "2022-04-20 00:00:00",
         "2022",
         "April",
         "20",
         "Wednesday",
         "False"
        ],
        [
         "20",
         "2022-04-21 00:00:00",
         "2022",
         "April",
         "21",
         "Thursday",
         "False"
        ],
        [
         "21",
         "2022-04-22 00:00:00",
         "2022",
         "April",
         "22",
         "Friday",
         "False"
        ],
        [
         "22",
         "2022-04-23 00:00:00",
         "2022",
         "April",
         "23",
         "Saturday",
         "True"
        ],
        [
         "23",
         "2022-04-24 00:00:00",
         "2022",
         "April",
         "24",
         "Sunday",
         "True"
        ],
        [
         "24",
         "2022-04-25 00:00:00",
         "2022",
         "April",
         "25",
         "Monday",
         "False"
        ],
        [
         "25",
         "2022-04-26 00:00:00",
         "2022",
         "April",
         "26",
         "Tuesday",
         "False"
        ],
        [
         "26",
         "2022-04-27 00:00:00",
         "2022",
         "April",
         "27",
         "Wednesday",
         "False"
        ],
        [
         "27",
         "2022-04-28 00:00:00",
         "2022",
         "April",
         "28",
         "Thursday",
         "False"
        ],
        [
         "28",
         "2022-04-29 00:00:00",
         "2022",
         "April",
         "29",
         "Friday",
         "False"
        ],
        [
         "29",
         "2022-04-30 00:00:00",
         "2022",
         "April",
         "30",
         "Saturday",
         "True"
        ],
        [
         "30",
         "2022-05-01 00:00:00",
         "2022",
         "May",
         "1",
         "Sunday",
         "True"
        ],
        [
         "31",
         "2022-05-02 00:00:00",
         "2022",
         "May",
         "2",
         "Monday",
         "False"
        ],
        [
         "32",
         "2022-05-03 00:00:00",
         "2022",
         "May",
         "3",
         "Tuesday",
         "False"
        ],
        [
         "33",
         "2022-05-04 00:00:00",
         "2022",
         "May",
         "4",
         "Wednesday",
         "False"
        ],
        [
         "34",
         "2022-05-05 00:00:00",
         "2022",
         "May",
         "5",
         "Thursday",
         "False"
        ],
        [
         "35",
         "2022-05-06 00:00:00",
         "2022",
         "May",
         "6",
         "Friday",
         "False"
        ],
        [
         "36",
         "2022-05-07 00:00:00",
         "2022",
         "May",
         "7",
         "Saturday",
         "True"
        ],
        [
         "37",
         "2022-05-08 00:00:00",
         "2022",
         "May",
         "8",
         "Sunday",
         "True"
        ],
        [
         "38",
         "2022-05-09 00:00:00",
         "2022",
         "May",
         "9",
         "Monday",
         "False"
        ],
        [
         "39",
         "2022-05-10 00:00:00",
         "2022",
         "May",
         "10",
         "Tuesday",
         "False"
        ],
        [
         "40",
         "2022-05-11 00:00:00",
         "2022",
         "May",
         "11",
         "Wednesday",
         "False"
        ],
        [
         "41",
         "2022-05-12 00:00:00",
         "2022",
         "May",
         "12",
         "Thursday",
         "False"
        ],
        [
         "42",
         "2022-05-13 00:00:00",
         "2022",
         "May",
         "13",
         "Friday",
         "False"
        ],
        [
         "43",
         "2022-05-14 00:00:00",
         "2022",
         "May",
         "14",
         "Saturday",
         "True"
        ],
        [
         "44",
         "2022-05-15 00:00:00",
         "2022",
         "May",
         "15",
         "Sunday",
         "True"
        ],
        [
         "45",
         "2022-05-16 00:00:00",
         "2022",
         "May",
         "16",
         "Monday",
         "False"
        ],
        [
         "46",
         "2022-05-17 00:00:00",
         "2022",
         "May",
         "17",
         "Tuesday",
         "False"
        ],
        [
         "47",
         "2022-05-18 00:00:00",
         "2022",
         "May",
         "18",
         "Wednesday",
         "False"
        ],
        [
         "48",
         "2022-05-19 00:00:00",
         "2022",
         "May",
         "19",
         "Thursday",
         "False"
        ],
        [
         "49",
         "2022-05-20 00:00:00",
         "2022",
         "May",
         "20",
         "Friday",
         "False"
        ]
       ],
       "shape": {
        "columns": 6,
        "rows": 1126
       }
      },
      "text/html": [
       "<div>\n",
       "<style scoped>\n",
       "    .dataframe tbody tr th:only-of-type {\n",
       "        vertical-align: middle;\n",
       "    }\n",
       "\n",
       "    .dataframe tbody tr th {\n",
       "        vertical-align: top;\n",
       "    }\n",
       "\n",
       "    .dataframe thead th {\n",
       "        text-align: right;\n",
       "    }\n",
       "</style>\n",
       "<table border=\"1\" class=\"dataframe\">\n",
       "  <thead>\n",
       "    <tr style=\"text-align: right;\">\n",
       "      <th></th>\n",
       "      <th>Date</th>\n",
       "      <th>Year</th>\n",
       "      <th>Month</th>\n",
       "      <th>Day</th>\n",
       "      <th>Day_of_Week</th>\n",
       "      <th>Is_Weekend</th>\n",
       "    </tr>\n",
       "  </thead>\n",
       "  <tbody>\n",
       "    <tr>\n",
       "      <th>0</th>\n",
       "      <td>2022-04-01</td>\n",
       "      <td>2022</td>\n",
       "      <td>April</td>\n",
       "      <td>1</td>\n",
       "      <td>Friday</td>\n",
       "      <td>False</td>\n",
       "    </tr>\n",
       "    <tr>\n",
       "      <th>1</th>\n",
       "      <td>2022-04-02</td>\n",
       "      <td>2022</td>\n",
       "      <td>April</td>\n",
       "      <td>2</td>\n",
       "      <td>Saturday</td>\n",
       "      <td>True</td>\n",
       "    </tr>\n",
       "    <tr>\n",
       "      <th>2</th>\n",
       "      <td>2022-04-03</td>\n",
       "      <td>2022</td>\n",
       "      <td>April</td>\n",
       "      <td>3</td>\n",
       "      <td>Sunday</td>\n",
       "      <td>True</td>\n",
       "    </tr>\n",
       "    <tr>\n",
       "      <th>3</th>\n",
       "      <td>2022-04-04</td>\n",
       "      <td>2022</td>\n",
       "      <td>April</td>\n",
       "      <td>4</td>\n",
       "      <td>Monday</td>\n",
       "      <td>False</td>\n",
       "    </tr>\n",
       "    <tr>\n",
       "      <th>4</th>\n",
       "      <td>2022-04-05</td>\n",
       "      <td>2022</td>\n",
       "      <td>April</td>\n",
       "      <td>5</td>\n",
       "      <td>Tuesday</td>\n",
       "      <td>False</td>\n",
       "    </tr>\n",
       "    <tr>\n",
       "      <th>...</th>\n",
       "      <td>...</td>\n",
       "      <td>...</td>\n",
       "      <td>...</td>\n",
       "      <td>...</td>\n",
       "      <td>...</td>\n",
       "      <td>...</td>\n",
       "    </tr>\n",
       "    <tr>\n",
       "      <th>1121</th>\n",
       "      <td>2025-04-26</td>\n",
       "      <td>2025</td>\n",
       "      <td>April</td>\n",
       "      <td>26</td>\n",
       "      <td>Saturday</td>\n",
       "      <td>True</td>\n",
       "    </tr>\n",
       "    <tr>\n",
       "      <th>1122</th>\n",
       "      <td>2025-04-27</td>\n",
       "      <td>2025</td>\n",
       "      <td>April</td>\n",
       "      <td>27</td>\n",
       "      <td>Sunday</td>\n",
       "      <td>True</td>\n",
       "    </tr>\n",
       "    <tr>\n",
       "      <th>1123</th>\n",
       "      <td>2025-04-28</td>\n",
       "      <td>2025</td>\n",
       "      <td>April</td>\n",
       "      <td>28</td>\n",
       "      <td>Monday</td>\n",
       "      <td>False</td>\n",
       "    </tr>\n",
       "    <tr>\n",
       "      <th>1124</th>\n",
       "      <td>2025-04-29</td>\n",
       "      <td>2025</td>\n",
       "      <td>April</td>\n",
       "      <td>29</td>\n",
       "      <td>Tuesday</td>\n",
       "      <td>False</td>\n",
       "    </tr>\n",
       "    <tr>\n",
       "      <th>1125</th>\n",
       "      <td>2025-04-30</td>\n",
       "      <td>2025</td>\n",
       "      <td>April</td>\n",
       "      <td>30</td>\n",
       "      <td>Wednesday</td>\n",
       "      <td>False</td>\n",
       "    </tr>\n",
       "  </tbody>\n",
       "</table>\n",
       "<p>1126 rows × 6 columns</p>\n",
       "</div>"
      ],
      "text/plain": [
       "           Date  Year  Month  Day Day_of_Week  Is_Weekend\n",
       "0    2022-04-01  2022  April    1      Friday       False\n",
       "1    2022-04-02  2022  April    2    Saturday        True\n",
       "2    2022-04-03  2022  April    3      Sunday        True\n",
       "3    2022-04-04  2022  April    4      Monday       False\n",
       "4    2022-04-05  2022  April    5     Tuesday       False\n",
       "...         ...   ...    ...  ...         ...         ...\n",
       "1121 2025-04-26  2025  April   26    Saturday        True\n",
       "1122 2025-04-27  2025  April   27      Sunday        True\n",
       "1123 2025-04-28  2025  April   28      Monday       False\n",
       "1124 2025-04-29  2025  April   29     Tuesday       False\n",
       "1125 2025-04-30  2025  April   30   Wednesday       False\n",
       "\n",
       "[1126 rows x 6 columns]"
      ]
     },
     "execution_count": 58,
     "metadata": {},
     "output_type": "execute_result"
    }
   ],
   "source": [
    "dim_date"
   ]
  },
  {
   "cell_type": "code",
   "execution_count": 59,
   "id": "9f951cf2",
   "metadata": {},
   "outputs": [
    {
     "data": {
      "application/vnd.microsoft.datawrangler.viewer.v0+json": {
       "columns": [
        {
         "name": "index",
         "rawType": "int64",
         "type": "integer"
        },
        {
         "name": "outbreak_starting_date",
         "rawType": "datetime64[ns]",
         "type": "datetime"
        },
        {
         "name": "Area_ID",
         "rawType": "float64",
         "type": "float"
        },
        {
         "name": "Disease_ID",
         "rawType": "int64",
         "type": "integer"
        },
        {
         "name": "cases",
         "rawType": "int64",
         "type": "integer"
        },
        {
         "name": "deaths",
         "rawType": "int64",
         "type": "integer"
        }
       ],
       "ref": "2731fb58-024b-4a3a-95de-d1ff8fa87e25",
       "rows": [
        [
         "0",
         "2025-04-15 00:00:00",
         "17.0",
         "1",
         "22",
         "0"
        ],
        [
         "1",
         "2025-04-15 00:00:00",
         "5.0",
         "2",
         "1",
         "1"
        ],
        [
         "2",
         "2025-04-19 00:00:00",
         "5.0",
         "3",
         "16",
         "0"
        ],
        [
         "3",
         "2025-04-19 00:00:00",
         "2.0",
         "4",
         "5",
         "0"
        ],
        [
         "4",
         "2025-04-12 00:00:00",
         "2.0",
         "1",
         "21",
         "0"
        ],
        [
         "5",
         "2025-04-15 00:00:00",
         "2.0",
         "2",
         "8",
         "1"
        ],
        [
         "6",
         "2025-04-19 00:00:00",
         "2.0",
         "2",
         "9",
         "0"
        ],
        [
         "7",
         "2025-04-15 00:00:00",
         "4.0",
         "3",
         "12",
         "0"
        ],
        [
         "8",
         "2025-04-16 00:00:00",
         "12.0",
         "5",
         "17",
         "0"
        ],
        [
         "9",
         "2025-04-18 00:00:00",
         "12.0",
         "1",
         "13",
         "0"
        ],
        [
         "10",
         "2025-04-16 00:00:00",
         "139.0",
         "6",
         "18",
         "0"
        ],
        [
         "11",
         "2025-04-17 00:00:00",
         "139.0",
         "2",
         "28",
         "0"
        ],
        [
         "12",
         "2025-04-18 00:00:00",
         "289.0",
         "6",
         "26",
         "0"
        ],
        [
         "13",
         "2025-04-16 00:00:00",
         "289.0",
         "7",
         "47",
         "0"
        ],
        [
         "14",
         "2025-04-15 00:00:00",
         "133.0",
         "2",
         "9",
         "0"
        ],
        [
         "15",
         "2025-04-19 00:00:00",
         "133.0",
         "4",
         "9",
         "0"
        ],
        [
         "16",
         "2025-04-14 00:00:00",
         "133.0",
         "8",
         "64",
         "0"
        ],
        [
         "17",
         "2025-04-19 00:00:00",
         "133.0",
         "2",
         "6",
         "0"
        ],
        [
         "18",
         "2025-04-18 00:00:00",
         "7.0",
         "7",
         "12",
         "0"
        ],
        [
         "19",
         "2025-04-18 00:00:00",
         "7.0",
         "3",
         "67",
         "0"
        ],
        [
         "20",
         "2025-04-18 00:00:00",
         "7.0",
         "6",
         "31",
         "0"
        ],
        [
         "21",
         "2025-04-12 00:00:00",
         "7.0",
         "3",
         "10",
         "0"
        ],
        [
         "22",
         "2025-04-19 00:00:00",
         "7.0",
         "3",
         "70",
         "0"
        ],
        [
         "23",
         "2025-04-10 00:00:00",
         "7.0",
         "6",
         "29",
         "0"
        ],
        [
         "24",
         "2025-04-14 00:00:00",
         "3.0",
         "1",
         "40",
         "0"
        ],
        [
         "25",
         "2025-04-16 00:00:00",
         "3.0",
         "2",
         "10",
         "0"
        ],
        [
         "26",
         "2025-04-19 00:00:00",
         "3.0",
         "3",
         "650",
         "0"
        ],
        [
         "27",
         "2025-04-17 00:00:00",
         "3.0",
         "5",
         "7",
         "0"
        ],
        [
         "28",
         "2025-04-19 00:00:00",
         "3.0",
         "3",
         "5",
         "0"
        ],
        [
         "29",
         "2025-04-16 00:00:00",
         "3.0",
         "2",
         "13",
         "0"
        ],
        [
         "30",
         "2025-04-17 00:00:00",
         "1.0",
         "3",
         "122",
         "0"
        ],
        [
         "31",
         "2025-04-15 00:00:00",
         "1.0",
         "1",
         "17",
         "0"
        ],
        [
         "32",
         "2025-04-17 00:00:00",
         "1.0",
         "3",
         "52",
         "0"
        ],
        [
         "33",
         "2025-04-15 00:00:00",
         "115.0",
         "2",
         "64",
         "0"
        ],
        [
         "34",
         "2025-04-17 00:00:00",
         "9.0",
         "3",
         "51",
         "0"
        ],
        [
         "35",
         "2025-04-17 00:00:00",
         "14.0",
         "6",
         "10",
         "0"
        ],
        [
         "36",
         "2025-04-19 00:00:00",
         "14.0",
         "3",
         "129",
         "0"
        ],
        [
         "37",
         "2025-04-18 00:00:00",
         "8.0",
         "2",
         "12",
         "0"
        ],
        [
         "38",
         "2025-04-19 00:00:00",
         "8.0",
         "1",
         "11",
         "0"
        ],
        [
         "39",
         "2025-04-04 00:00:00",
         "17.0",
         "3",
         "23",
         "0"
        ],
        [
         "40",
         "2025-04-06 00:00:00",
         "5.0",
         "3",
         "64",
         "0"
        ],
        [
         "41",
         "2025-04-07 00:00:00",
         "5.0",
         "9",
         "25",
         "0"
        ],
        [
         "42",
         "2025-04-11 00:00:00",
         null,
         "3",
         "43",
         "0"
        ],
        [
         "43",
         "2025-04-10 00:00:00",
         "12.0",
         "10",
         "20",
         "0"
        ],
        [
         "44",
         "2025-04-12 00:00:00",
         "12.0",
         "3",
         "120",
         "0"
        ],
        [
         "45",
         "2025-04-09 00:00:00",
         "12.0",
         "1",
         "118",
         "0"
        ],
        [
         "46",
         "2025-04-12 00:00:00",
         "289.0",
         "6",
         "11",
         "0"
        ],
        [
         "47",
         "2025-04-07 00:00:00",
         "133.0",
         "2",
         "9",
         "0"
        ],
        [
         "48",
         "2025-04-05 00:00:00",
         "133.0",
         "5",
         "3",
         "0"
        ],
        [
         "49",
         "2025-04-11 00:00:00",
         "133.0",
         "2",
         "5",
         "0"
        ]
       ],
       "shape": {
        "columns": 5,
        "rows": 6474
       }
      },
      "text/html": [
       "<div>\n",
       "<style scoped>\n",
       "    .dataframe tbody tr th:only-of-type {\n",
       "        vertical-align: middle;\n",
       "    }\n",
       "\n",
       "    .dataframe tbody tr th {\n",
       "        vertical-align: top;\n",
       "    }\n",
       "\n",
       "    .dataframe thead th {\n",
       "        text-align: right;\n",
       "    }\n",
       "</style>\n",
       "<table border=\"1\" class=\"dataframe\">\n",
       "  <thead>\n",
       "    <tr style=\"text-align: right;\">\n",
       "      <th></th>\n",
       "      <th>outbreak_starting_date</th>\n",
       "      <th>Area_ID</th>\n",
       "      <th>Disease_ID</th>\n",
       "      <th>cases</th>\n",
       "      <th>deaths</th>\n",
       "    </tr>\n",
       "  </thead>\n",
       "  <tbody>\n",
       "    <tr>\n",
       "      <th>0</th>\n",
       "      <td>2025-04-15</td>\n",
       "      <td>17.0</td>\n",
       "      <td>1</td>\n",
       "      <td>22</td>\n",
       "      <td>0</td>\n",
       "    </tr>\n",
       "    <tr>\n",
       "      <th>1</th>\n",
       "      <td>2025-04-15</td>\n",
       "      <td>5.0</td>\n",
       "      <td>2</td>\n",
       "      <td>1</td>\n",
       "      <td>1</td>\n",
       "    </tr>\n",
       "    <tr>\n",
       "      <th>2</th>\n",
       "      <td>2025-04-19</td>\n",
       "      <td>5.0</td>\n",
       "      <td>3</td>\n",
       "      <td>16</td>\n",
       "      <td>0</td>\n",
       "    </tr>\n",
       "    <tr>\n",
       "      <th>3</th>\n",
       "      <td>2025-04-19</td>\n",
       "      <td>2.0</td>\n",
       "      <td>4</td>\n",
       "      <td>5</td>\n",
       "      <td>0</td>\n",
       "    </tr>\n",
       "    <tr>\n",
       "      <th>4</th>\n",
       "      <td>2025-04-12</td>\n",
       "      <td>2.0</td>\n",
       "      <td>1</td>\n",
       "      <td>21</td>\n",
       "      <td>0</td>\n",
       "    </tr>\n",
       "    <tr>\n",
       "      <th>...</th>\n",
       "      <td>...</td>\n",
       "      <td>...</td>\n",
       "      <td>...</td>\n",
       "      <td>...</td>\n",
       "      <td>...</td>\n",
       "    </tr>\n",
       "    <tr>\n",
       "      <th>6469</th>\n",
       "      <td>2022-03-31</td>\n",
       "      <td>14.0</td>\n",
       "      <td>3</td>\n",
       "      <td>18</td>\n",
       "      <td>0</td>\n",
       "    </tr>\n",
       "    <tr>\n",
       "      <th>6470</th>\n",
       "      <td>2022-03-30</td>\n",
       "      <td>14.0</td>\n",
       "      <td>17</td>\n",
       "      <td>15</td>\n",
       "      <td>0</td>\n",
       "    </tr>\n",
       "    <tr>\n",
       "      <th>6471</th>\n",
       "      <td>2022-03-28</td>\n",
       "      <td>14.0</td>\n",
       "      <td>2</td>\n",
       "      <td>24</td>\n",
       "      <td>0</td>\n",
       "    </tr>\n",
       "    <tr>\n",
       "      <th>6472</th>\n",
       "      <td>2022-02-04</td>\n",
       "      <td>96.0</td>\n",
       "      <td>3</td>\n",
       "      <td>25</td>\n",
       "      <td>0</td>\n",
       "    </tr>\n",
       "    <tr>\n",
       "      <th>6473</th>\n",
       "      <td>2022-03-04</td>\n",
       "      <td>13.0</td>\n",
       "      <td>3</td>\n",
       "      <td>89</td>\n",
       "      <td>0</td>\n",
       "    </tr>\n",
       "  </tbody>\n",
       "</table>\n",
       "<p>6474 rows × 5 columns</p>\n",
       "</div>"
      ],
      "text/plain": [
       "     outbreak_starting_date  Area_ID  Disease_ID  cases  deaths\n",
       "0                2025-04-15     17.0           1     22       0\n",
       "1                2025-04-15      5.0           2      1       1\n",
       "2                2025-04-19      5.0           3     16       0\n",
       "3                2025-04-19      2.0           4      5       0\n",
       "4                2025-04-12      2.0           1     21       0\n",
       "...                     ...      ...         ...    ...     ...\n",
       "6469             2022-03-31     14.0           3     18       0\n",
       "6470             2022-03-30     14.0          17     15       0\n",
       "6471             2022-03-28     14.0           2     24       0\n",
       "6472             2022-02-04     96.0           3     25       0\n",
       "6473             2022-03-04     13.0           3     89       0\n",
       "\n",
       "[6474 rows x 5 columns]"
      ]
     },
     "execution_count": 59,
     "metadata": {},
     "output_type": "execute_result"
    }
   ],
   "source": [
    "fact_health"
   ]
  },
  {
   "cell_type": "code",
   "execution_count": 60,
   "id": "b90b4499",
   "metadata": {},
   "outputs": [
    {
     "data": {
      "application/vnd.microsoft.datawrangler.viewer.v0+json": {
       "columns": [
        {
         "name": "index",
         "rawType": "int64",
         "type": "integer"
        },
        {
         "name": "disease_illness_name",
         "rawType": "object",
         "type": "string"
        },
        {
         "name": "Disease_ID",
         "rawType": "int64",
         "type": "integer"
        }
       ],
       "ref": "eafc81df-c138-455d-a0b7-1540abb0eb58",
       "rows": [
        [
         "0",
         "Acute Diarrheal Disease",
         "1"
        ],
        [
         "1",
         "Chickenpox",
         "2"
        ],
        [
         "2",
         "Food Poisoning",
         "3"
        ],
        [
         "3",
         "Fever with Rash",
         "4"
        ],
        [
         "4",
         "Measles",
         "5"
        ],
        [
         "5",
         "Hepatitis A",
         "6"
        ],
        [
         "6",
         "Typhoid",
         "7"
        ],
        [
         "7",
         "Malaria",
         "8"
        ],
        [
         "8",
         "Shigellosis",
         "9"
        ],
        [
         "9",
         "Acute Gastroenteritis",
         "10"
        ],
        [
         "10",
         "Scrub Typhus",
         "11"
        ],
        [
         "11",
         "Chikungunya",
         "12"
        ],
        [
         "12",
         "Mumps",
         "13"
        ],
        [
         "13",
         "Hepatitis A and E",
         "14"
        ],
        [
         "14",
         "Hepatitis B and C",
         "15"
        ],
        [
         "15",
         "Leishmaniasis",
         "16"
        ],
        [
         "16",
         "Dengue",
         "17"
        ],
        [
         "17",
         "Human Rabies",
         "18"
        ],
        [
         "18",
         "West Nile Fever",
         "19"
        ],
        [
         "19",
         "Cholera",
         "20"
        ],
        [
         "20",
         "HMPV",
         "21"
        ],
        [
         "21",
         "Mpox",
         "22"
        ],
        [
         "22",
         "Others",
         "23"
        ],
        [
         "23",
         "Fever",
         "24"
        ],
        [
         "24",
         "Meningitis",
         "25"
        ],
        [
         "25",
         "Jaundice",
         "26"
        ],
        [
         "26",
         "Acute Hepatitis A",
         "27"
        ],
        [
         "27",
         "Rabies",
         "28"
        ],
        [
         "28",
         "Paratyphoid",
         "29"
        ],
        [
         "30",
         "Acute Hepatitis E",
         "31"
        ],
        [
         "31",
         "Pertussis",
         "32"
        ],
        [
         "32",
         "Rubella",
         "33"
        ],
        [
         "33",
         "Champaran",
         "34"
        ],
        [
         "34",
         "Measles and Rubella",
         "35"
        ],
        [
         "35",
         "Hepatitis",
         "36"
        ],
        [
         "36",
         "Gastroenteritis",
         "37"
        ],
        [
         "37",
         "Nile Fever",
         "38"
        ],
        [
         "38",
         "Poisoning",
         "39"
        ],
        [
         "39",
         "Nagar",
         "40"
        ],
        [
         "40",
         "Hepatitis E",
         "41"
        ],
        [
         "41",
         "Crimean Congo Haemandrhagic Fever (CCHF)",
         "42"
        ],
        [
         "42",
         "Japanese Encephalitis",
         "43"
        ],
        [
         "43",
         "Diarrhoea",
         "44"
        ],
        [
         "44",
         "Leptospirosis",
         "45"
        ],
        [
         "45",
         "Acute Gastroenteritis (Norovirus)",
         "46"
        ],
        [
         "46",
         "Dengue and Chikungunya",
         "47"
        ],
        [
         "47",
         "Dysentery",
         "48"
        ],
        [
         "48",
         "Diphtheria",
         "49"
        ],
        [
         "49",
         "Acute Hepatitis",
         "50"
        ],
        [
         "50",
         "Forest Disease",
         "51"
        ]
       ],
       "shape": {
        "columns": 2,
        "rows": 127
       }
      },
      "text/html": [
       "<div>\n",
       "<style scoped>\n",
       "    .dataframe tbody tr th:only-of-type {\n",
       "        vertical-align: middle;\n",
       "    }\n",
       "\n",
       "    .dataframe tbody tr th {\n",
       "        vertical-align: top;\n",
       "    }\n",
       "\n",
       "    .dataframe thead th {\n",
       "        text-align: right;\n",
       "    }\n",
       "</style>\n",
       "<table border=\"1\" class=\"dataframe\">\n",
       "  <thead>\n",
       "    <tr style=\"text-align: right;\">\n",
       "      <th></th>\n",
       "      <th>disease_illness_name</th>\n",
       "      <th>Disease_ID</th>\n",
       "    </tr>\n",
       "  </thead>\n",
       "  <tbody>\n",
       "    <tr>\n",
       "      <th>0</th>\n",
       "      <td>Acute Diarrheal Disease</td>\n",
       "      <td>1</td>\n",
       "    </tr>\n",
       "    <tr>\n",
       "      <th>1</th>\n",
       "      <td>Chickenpox</td>\n",
       "      <td>2</td>\n",
       "    </tr>\n",
       "    <tr>\n",
       "      <th>2</th>\n",
       "      <td>Food Poisoning</td>\n",
       "      <td>3</td>\n",
       "    </tr>\n",
       "    <tr>\n",
       "      <th>3</th>\n",
       "      <td>Fever with Rash</td>\n",
       "      <td>4</td>\n",
       "    </tr>\n",
       "    <tr>\n",
       "      <th>4</th>\n",
       "      <td>Measles</td>\n",
       "      <td>5</td>\n",
       "    </tr>\n",
       "    <tr>\n",
       "      <th>...</th>\n",
       "      <td>...</td>\n",
       "      <td>...</td>\n",
       "    </tr>\n",
       "    <tr>\n",
       "      <th>123</th>\n",
       "      <td>Acute Respiratandy Illness</td>\n",
       "      <td>124</td>\n",
       "    </tr>\n",
       "    <tr>\n",
       "      <th>124</th>\n",
       "      <td>Nandovirus</td>\n",
       "      <td>125</td>\n",
       "    </tr>\n",
       "    <tr>\n",
       "      <th>125</th>\n",
       "      <td>Filariasis</td>\n",
       "      <td>126</td>\n",
       "    </tr>\n",
       "    <tr>\n",
       "      <th>126</th>\n",
       "      <td>Influenza A</td>\n",
       "      <td>127</td>\n",
       "    </tr>\n",
       "    <tr>\n",
       "      <th>127</th>\n",
       "      <td>Malaria (Plasmodium Vivax)</td>\n",
       "      <td>128</td>\n",
       "    </tr>\n",
       "  </tbody>\n",
       "</table>\n",
       "<p>127 rows × 2 columns</p>\n",
       "</div>"
      ],
      "text/plain": [
       "           disease_illness_name  Disease_ID\n",
       "0       Acute Diarrheal Disease           1\n",
       "1                    Chickenpox           2\n",
       "2                Food Poisoning           3\n",
       "3               Fever with Rash           4\n",
       "4                       Measles           5\n",
       "..                          ...         ...\n",
       "123  Acute Respiratandy Illness         124\n",
       "124                  Nandovirus         125\n",
       "125                  Filariasis         126\n",
       "126                 Influenza A         127\n",
       "127  Malaria (Plasmodium Vivax)         128\n",
       "\n",
       "[127 rows x 2 columns]"
      ]
     },
     "execution_count": 60,
     "metadata": {},
     "output_type": "execute_result"
    }
   ],
   "source": [
    "dim_diseases"
   ]
  },
  {
   "cell_type": "code",
   "execution_count": 62,
   "id": "3b12d322",
   "metadata": {},
   "outputs": [
    {
     "data": {
      "application/vnd.microsoft.datawrangler.viewer.v0+json": {
       "columns": [
        {
         "name": "index",
         "rawType": "int64",
         "type": "integer"
        },
        {
         "name": "outbreak_starting_date",
         "rawType": "datetime64[ns]",
         "type": "datetime"
        },
        {
         "name": "Area_ID",
         "rawType": "float64",
         "type": "float"
        },
        {
         "name": "Disease_ID",
         "rawType": "int64",
         "type": "integer"
        },
        {
         "name": "cases",
         "rawType": "int64",
         "type": "integer"
        },
        {
         "name": "deaths",
         "rawType": "int64",
         "type": "integer"
        }
       ],
       "ref": "df5e7194-0425-4ad9-9f99-5afb40d8deb1",
       "rows": [
        [
         "0",
         "2025-04-15 00:00:00",
         "17.0",
         "1",
         "22",
         "0"
        ],
        [
         "1",
         "2025-04-15 00:00:00",
         "5.0",
         "2",
         "1",
         "1"
        ],
        [
         "2",
         "2025-04-19 00:00:00",
         "5.0",
         "3",
         "16",
         "0"
        ],
        [
         "3",
         "2025-04-19 00:00:00",
         "2.0",
         "4",
         "5",
         "0"
        ],
        [
         "4",
         "2025-04-12 00:00:00",
         "2.0",
         "1",
         "21",
         "0"
        ],
        [
         "5",
         "2025-04-15 00:00:00",
         "2.0",
         "2",
         "8",
         "1"
        ],
        [
         "6",
         "2025-04-19 00:00:00",
         "2.0",
         "2",
         "9",
         "0"
        ],
        [
         "7",
         "2025-04-15 00:00:00",
         "4.0",
         "3",
         "12",
         "0"
        ],
        [
         "8",
         "2025-04-16 00:00:00",
         "12.0",
         "5",
         "17",
         "0"
        ],
        [
         "9",
         "2025-04-18 00:00:00",
         "12.0",
         "1",
         "13",
         "0"
        ],
        [
         "10",
         "2025-04-16 00:00:00",
         "139.0",
         "6",
         "18",
         "0"
        ],
        [
         "11",
         "2025-04-17 00:00:00",
         "139.0",
         "2",
         "28",
         "0"
        ],
        [
         "12",
         "2025-04-18 00:00:00",
         "289.0",
         "6",
         "26",
         "0"
        ],
        [
         "13",
         "2025-04-16 00:00:00",
         "289.0",
         "7",
         "47",
         "0"
        ],
        [
         "14",
         "2025-04-15 00:00:00",
         "133.0",
         "2",
         "9",
         "0"
        ],
        [
         "15",
         "2025-04-19 00:00:00",
         "133.0",
         "4",
         "9",
         "0"
        ],
        [
         "16",
         "2025-04-14 00:00:00",
         "133.0",
         "8",
         "64",
         "0"
        ],
        [
         "17",
         "2025-04-19 00:00:00",
         "133.0",
         "2",
         "6",
         "0"
        ],
        [
         "18",
         "2025-04-18 00:00:00",
         "7.0",
         "7",
         "12",
         "0"
        ],
        [
         "19",
         "2025-04-18 00:00:00",
         "7.0",
         "3",
         "67",
         "0"
        ],
        [
         "20",
         "2025-04-18 00:00:00",
         "7.0",
         "6",
         "31",
         "0"
        ],
        [
         "21",
         "2025-04-12 00:00:00",
         "7.0",
         "3",
         "10",
         "0"
        ],
        [
         "22",
         "2025-04-19 00:00:00",
         "7.0",
         "3",
         "70",
         "0"
        ],
        [
         "23",
         "2025-04-10 00:00:00",
         "7.0",
         "6",
         "29",
         "0"
        ],
        [
         "24",
         "2025-04-14 00:00:00",
         "3.0",
         "1",
         "40",
         "0"
        ],
        [
         "25",
         "2025-04-16 00:00:00",
         "3.0",
         "2",
         "10",
         "0"
        ],
        [
         "26",
         "2025-04-19 00:00:00",
         "3.0",
         "3",
         "650",
         "0"
        ],
        [
         "27",
         "2025-04-17 00:00:00",
         "3.0",
         "5",
         "7",
         "0"
        ],
        [
         "28",
         "2025-04-19 00:00:00",
         "3.0",
         "3",
         "5",
         "0"
        ],
        [
         "29",
         "2025-04-16 00:00:00",
         "3.0",
         "2",
         "13",
         "0"
        ],
        [
         "30",
         "2025-04-17 00:00:00",
         "1.0",
         "3",
         "122",
         "0"
        ],
        [
         "31",
         "2025-04-15 00:00:00",
         "1.0",
         "1",
         "17",
         "0"
        ],
        [
         "32",
         "2025-04-17 00:00:00",
         "1.0",
         "3",
         "52",
         "0"
        ],
        [
         "33",
         "2025-04-15 00:00:00",
         "115.0",
         "2",
         "64",
         "0"
        ],
        [
         "34",
         "2025-04-17 00:00:00",
         "9.0",
         "3",
         "51",
         "0"
        ],
        [
         "35",
         "2025-04-17 00:00:00",
         "14.0",
         "6",
         "10",
         "0"
        ],
        [
         "36",
         "2025-04-19 00:00:00",
         "14.0",
         "3",
         "129",
         "0"
        ],
        [
         "37",
         "2025-04-18 00:00:00",
         "8.0",
         "2",
         "12",
         "0"
        ],
        [
         "38",
         "2025-04-19 00:00:00",
         "8.0",
         "1",
         "11",
         "0"
        ],
        [
         "39",
         "2025-04-04 00:00:00",
         "17.0",
         "3",
         "23",
         "0"
        ],
        [
         "40",
         "2025-04-06 00:00:00",
         "5.0",
         "3",
         "64",
         "0"
        ],
        [
         "41",
         "2025-04-07 00:00:00",
         "5.0",
         "9",
         "25",
         "0"
        ],
        [
         "42",
         "2025-04-11 00:00:00",
         null,
         "3",
         "43",
         "0"
        ],
        [
         "43",
         "2025-04-10 00:00:00",
         "12.0",
         "10",
         "20",
         "0"
        ],
        [
         "44",
         "2025-04-12 00:00:00",
         "12.0",
         "3",
         "120",
         "0"
        ],
        [
         "45",
         "2025-04-09 00:00:00",
         "12.0",
         "1",
         "118",
         "0"
        ],
        [
         "46",
         "2025-04-12 00:00:00",
         "289.0",
         "6",
         "11",
         "0"
        ],
        [
         "47",
         "2025-04-07 00:00:00",
         "133.0",
         "2",
         "9",
         "0"
        ],
        [
         "48",
         "2025-04-05 00:00:00",
         "133.0",
         "5",
         "3",
         "0"
        ],
        [
         "49",
         "2025-04-11 00:00:00",
         "133.0",
         "2",
         "5",
         "0"
        ]
       ],
       "shape": {
        "columns": 5,
        "rows": 6474
       }
      },
      "text/html": [
       "<div>\n",
       "<style scoped>\n",
       "    .dataframe tbody tr th:only-of-type {\n",
       "        vertical-align: middle;\n",
       "    }\n",
       "\n",
       "    .dataframe tbody tr th {\n",
       "        vertical-align: top;\n",
       "    }\n",
       "\n",
       "    .dataframe thead th {\n",
       "        text-align: right;\n",
       "    }\n",
       "</style>\n",
       "<table border=\"1\" class=\"dataframe\">\n",
       "  <thead>\n",
       "    <tr style=\"text-align: right;\">\n",
       "      <th></th>\n",
       "      <th>outbreak_starting_date</th>\n",
       "      <th>Area_ID</th>\n",
       "      <th>Disease_ID</th>\n",
       "      <th>cases</th>\n",
       "      <th>deaths</th>\n",
       "    </tr>\n",
       "  </thead>\n",
       "  <tbody>\n",
       "    <tr>\n",
       "      <th>0</th>\n",
       "      <td>2025-04-15</td>\n",
       "      <td>17.0</td>\n",
       "      <td>1</td>\n",
       "      <td>22</td>\n",
       "      <td>0</td>\n",
       "    </tr>\n",
       "    <tr>\n",
       "      <th>1</th>\n",
       "      <td>2025-04-15</td>\n",
       "      <td>5.0</td>\n",
       "      <td>2</td>\n",
       "      <td>1</td>\n",
       "      <td>1</td>\n",
       "    </tr>\n",
       "    <tr>\n",
       "      <th>2</th>\n",
       "      <td>2025-04-19</td>\n",
       "      <td>5.0</td>\n",
       "      <td>3</td>\n",
       "      <td>16</td>\n",
       "      <td>0</td>\n",
       "    </tr>\n",
       "    <tr>\n",
       "      <th>3</th>\n",
       "      <td>2025-04-19</td>\n",
       "      <td>2.0</td>\n",
       "      <td>4</td>\n",
       "      <td>5</td>\n",
       "      <td>0</td>\n",
       "    </tr>\n",
       "    <tr>\n",
       "      <th>4</th>\n",
       "      <td>2025-04-12</td>\n",
       "      <td>2.0</td>\n",
       "      <td>1</td>\n",
       "      <td>21</td>\n",
       "      <td>0</td>\n",
       "    </tr>\n",
       "    <tr>\n",
       "      <th>...</th>\n",
       "      <td>...</td>\n",
       "      <td>...</td>\n",
       "      <td>...</td>\n",
       "      <td>...</td>\n",
       "      <td>...</td>\n",
       "    </tr>\n",
       "    <tr>\n",
       "      <th>6469</th>\n",
       "      <td>2022-03-31</td>\n",
       "      <td>14.0</td>\n",
       "      <td>3</td>\n",
       "      <td>18</td>\n",
       "      <td>0</td>\n",
       "    </tr>\n",
       "    <tr>\n",
       "      <th>6470</th>\n",
       "      <td>2022-03-30</td>\n",
       "      <td>14.0</td>\n",
       "      <td>17</td>\n",
       "      <td>15</td>\n",
       "      <td>0</td>\n",
       "    </tr>\n",
       "    <tr>\n",
       "      <th>6471</th>\n",
       "      <td>2022-03-28</td>\n",
       "      <td>14.0</td>\n",
       "      <td>2</td>\n",
       "      <td>24</td>\n",
       "      <td>0</td>\n",
       "    </tr>\n",
       "    <tr>\n",
       "      <th>6472</th>\n",
       "      <td>2022-02-04</td>\n",
       "      <td>96.0</td>\n",
       "      <td>3</td>\n",
       "      <td>25</td>\n",
       "      <td>0</td>\n",
       "    </tr>\n",
       "    <tr>\n",
       "      <th>6473</th>\n",
       "      <td>2022-03-04</td>\n",
       "      <td>13.0</td>\n",
       "      <td>3</td>\n",
       "      <td>89</td>\n",
       "      <td>0</td>\n",
       "    </tr>\n",
       "  </tbody>\n",
       "</table>\n",
       "<p>6474 rows × 5 columns</p>\n",
       "</div>"
      ],
      "text/plain": [
       "     outbreak_starting_date  Area_ID  Disease_ID  cases  deaths\n",
       "0                2025-04-15     17.0           1     22       0\n",
       "1                2025-04-15      5.0           2      1       1\n",
       "2                2025-04-19      5.0           3     16       0\n",
       "3                2025-04-19      2.0           4      5       0\n",
       "4                2025-04-12      2.0           1     21       0\n",
       "...                     ...      ...         ...    ...     ...\n",
       "6469             2022-03-31     14.0           3     18       0\n",
       "6470             2022-03-30     14.0          17     15       0\n",
       "6471             2022-03-28     14.0           2     24       0\n",
       "6472             2022-02-04     96.0           3     25       0\n",
       "6473             2022-03-04     13.0           3     89       0\n",
       "\n",
       "[6474 rows x 5 columns]"
      ]
     },
     "execution_count": 62,
     "metadata": {},
     "output_type": "execute_result"
    }
   ],
   "source": [
    "fact_health"
   ]
  },
  {
   "cell_type": "code",
   "execution_count": null,
   "id": "5b711057",
   "metadata": {},
   "outputs": [],
   "source": []
  }
 ],
 "metadata": {
  "kernelspec": {
   "display_name": "base",
   "language": "python",
   "name": "python3"
  },
  "language_info": {
   "codemirror_mode": {
    "name": "ipython",
    "version": 3
   },
   "file_extension": ".py",
   "mimetype": "text/x-python",
   "name": "python",
   "nbconvert_exporter": "python",
   "pygments_lexer": "ipython3",
   "version": "3.13.5"
  }
 },
 "nbformat": 4,
 "nbformat_minor": 5
}
